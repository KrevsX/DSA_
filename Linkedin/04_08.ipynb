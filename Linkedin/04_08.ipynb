{
 "cells": [
  {
   "cell_type": "code",
   "execution_count": 44,
   "outputs": [],
   "source": [
    "#GRADIENT BOOSTING"
   ],
   "metadata": {
    "collapsed": false,
    "ExecuteTime": {
     "start_time": "2023-04-16T01:42:56.094538Z",
     "end_time": "2023-04-16T01:42:56.104529Z"
    }
   }
  },
  {
   "cell_type": "code",
   "execution_count": 45,
   "outputs": [],
   "source": [
    "from sklearn.datasets import make_regression\n",
    "from sklearn.model_selection import train_test_split\n",
    "from sklearn.ensemble import GradientBoostingRegressor\n",
    "from sklearn.metrics import r2_score"
   ],
   "metadata": {
    "collapsed": false,
    "ExecuteTime": {
     "start_time": "2023-04-16T01:42:56.102530Z",
     "end_time": "2023-04-16T01:42:56.137510Z"
    }
   }
  },
  {
   "cell_type": "code",
   "execution_count": 46,
   "metadata": {
    "collapsed": true,
    "ExecuteTime": {
     "start_time": "2023-04-16T01:42:56.137510Z",
     "end_time": "2023-04-16T01:42:56.170489Z"
    }
   },
   "outputs": [],
   "source": [
    "X,y = make_regression()"
   ]
  },
  {
   "cell_type": "code",
   "execution_count": 47,
   "outputs": [],
   "source": [
    "xtrain, xtest, ytrain, ytest = train_test_split(X, y, test_size=0.20)"
   ],
   "metadata": {
    "collapsed": false,
    "ExecuteTime": {
     "start_time": "2023-04-16T01:42:56.172488Z",
     "end_time": "2023-04-16T01:42:56.179483Z"
    }
   }
  },
  {
   "cell_type": "code",
   "execution_count": 48,
   "outputs": [
    {
     "name": "stdout",
     "output_type": "stream",
     "text": [
      "Coeficiente de Determinacion o R2:  45.9210577205485\n"
     ]
    }
   ],
   "source": [
    "gradBoostingRegressor = GradientBoostingRegressor()\n",
    "\n",
    "gradBoostingRegressor.fit(xtrain, ytrain)\n",
    "\n",
    "ypred=gradBoostingRegressor.predict(xtest)\n",
    "print('Coeficiente de Determinacion o R2: ', r2_score(ytest, ypred)*100)"
   ],
   "metadata": {
    "collapsed": false,
    "ExecuteTime": {
     "start_time": "2023-04-16T01:42:56.182482Z",
     "end_time": "2023-04-16T01:42:56.746494Z"
    }
   }
  },
  {
   "cell_type": "code",
   "execution_count": 48,
   "outputs": [],
   "source": [],
   "metadata": {
    "collapsed": false,
    "ExecuteTime": {
     "start_time": "2023-04-16T01:42:56.749492Z",
     "end_time": "2023-04-16T01:42:56.783492Z"
    }
   }
  }
 ],
 "metadata": {
  "kernelspec": {
   "display_name": "Python 3",
   "language": "python",
   "name": "python3"
  },
  "language_info": {
   "codemirror_mode": {
    "name": "ipython",
    "version": 2
   },
   "file_extension": ".py",
   "mimetype": "text/x-python",
   "name": "python",
   "nbconvert_exporter": "python",
   "pygments_lexer": "ipython2",
   "version": "2.7.6"
  }
 },
 "nbformat": 4,
 "nbformat_minor": 0
}
