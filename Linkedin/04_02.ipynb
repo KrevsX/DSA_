{
 "cells": [
  {
   "cell_type": "code",
   "execution_count": 26,
   "metadata": {
    "collapsed": true,
    "ExecuteTime": {
     "start_time": "2023-04-16T00:31:58.319715Z",
     "end_time": "2023-04-16T00:31:58.357769Z"
    }
   },
   "outputs": [],
   "source": [
    "import pandas as pd\n",
    "from sklearn.linear_model import LinearRegression\n",
    "from sklearn.model_selection import train_test_split\n",
    "from sklearn import metrics\n",
    "import numpy as np"
   ]
  },
  {
   "cell_type": "code",
   "execution_count": 27,
   "outputs": [],
   "source": [
    "df=pd.read_csv('0402emisiones.csv', delimiter=\";\")"
   ],
   "metadata": {
    "collapsed": false,
    "ExecuteTime": {
     "start_time": "2023-04-16T00:31:58.339704Z",
     "end_time": "2023-04-16T00:31:58.358769Z"
    }
   }
  },
  {
   "cell_type": "code",
   "execution_count": 28,
   "outputs": [
    {
     "name": "stdout",
     "output_type": "stream",
     "text": [
      "<class 'pandas.core.frame.DataFrame'>\n",
      "RangeIndex: 91 entries, 0 to 90\n",
      "Data columns (total 6 columns):\n",
      " #   Column    Non-Null Count  Dtype  \n",
      "---  ------    --------------  -----  \n",
      " 0   Marca     91 non-null     object \n",
      " 1   Longitud  91 non-null     float64\n",
      " 2   Anchura   91 non-null     float64\n",
      " 3   Altura    91 non-null     float64\n",
      " 4   Maletero  91 non-null     int64  \n",
      " 5   CO2       91 non-null     int64  \n",
      "dtypes: float64(3), int64(2), object(1)\n",
      "memory usage: 4.4+ KB\n"
     ]
    }
   ],
   "source": [
    "df.info()"
   ],
   "metadata": {
    "collapsed": false,
    "ExecuteTime": {
     "start_time": "2023-04-16T00:31:58.353773Z",
     "end_time": "2023-04-16T00:31:58.371763Z"
    }
   }
  },
  {
   "cell_type": "code",
   "execution_count": 29,
   "outputs": [],
   "source": [
    "y=df[['CO2']]\n",
    "x=df[['Longitud','Anchura','Altura']]"
   ],
   "metadata": {
    "collapsed": false,
    "ExecuteTime": {
     "start_time": "2023-04-16T00:31:58.371763Z",
     "end_time": "2023-04-16T00:31:58.410688Z"
    }
   }
  },
  {
   "cell_type": "code",
   "execution_count": 30,
   "outputs": [],
   "source": [
    "xtrain, xtest, ytrain, ytest = train_test_split(x, y, test_size=0.20)"
   ],
   "metadata": {
    "collapsed": false,
    "ExecuteTime": {
     "start_time": "2023-04-16T00:31:58.383932Z",
     "end_time": "2023-04-16T00:31:58.422682Z"
    }
   }
  },
  {
   "cell_type": "code",
   "execution_count": 31,
   "outputs": [],
   "source": [
    "reglinear=LinearRegression()"
   ],
   "metadata": {
    "collapsed": false,
    "ExecuteTime": {
     "start_time": "2023-04-16T00:31:58.399697Z",
     "end_time": "2023-04-16T00:31:58.422682Z"
    }
   }
  },
  {
   "cell_type": "code",
   "execution_count": 33,
   "outputs": [],
   "source": [
    "reglinear.fit(xtrain, ytrain)\n",
    "ypred=reglinear.predict(xtest)\n",
    "\n"
   ],
   "metadata": {
    "collapsed": false,
    "ExecuteTime": {
     "start_time": "2023-04-16T00:33:48.539742Z",
     "end_time": "2023-04-16T00:33:48.569723Z"
    }
   }
  },
  {
   "cell_type": "code",
   "execution_count": 34,
   "outputs": [
    {
     "name": "stdout",
     "output_type": "stream",
     "text": [
      "Error Absoluto medio:  32.84739100544726\n",
      "Error Cuadratico medio:  1418.5295978941174\n",
      "Raiz del error Cuadratico medio:  37.66337209935028\n"
     ]
    }
   ],
   "source": [
    "print('Error Absoluto medio: ', metrics.mean_absolute_error(ytest,ypred))\n",
    "print('Error Cuadratico medio: ', metrics.mean_squared_error(ytest,ypred))\n",
    "print('Raiz del error Cuadratico medio: ', np.sqrt(metrics.mean_squared_error(ytest,ypred)))"
   ],
   "metadata": {
    "collapsed": false,
    "ExecuteTime": {
     "start_time": "2023-04-16T00:33:49.918084Z",
     "end_time": "2023-04-16T00:33:49.966058Z"
    }
   }
  },
  {
   "cell_type": "code",
   "execution_count": null,
   "outputs": [],
   "source": [],
   "metadata": {
    "collapsed": false
   }
  }
 ],
 "metadata": {
  "kernelspec": {
   "display_name": "Python 3",
   "language": "python",
   "name": "python3"
  },
  "language_info": {
   "codemirror_mode": {
    "name": "ipython",
    "version": 2
   },
   "file_extension": ".py",
   "mimetype": "text/x-python",
   "name": "python",
   "nbconvert_exporter": "python",
   "pygments_lexer": "ipython2",
   "version": "2.7.6"
  }
 },
 "nbformat": 4,
 "nbformat_minor": 0
}
