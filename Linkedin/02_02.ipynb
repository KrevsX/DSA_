{
 "cells": [
  {
   "cell_type": "code",
   "execution_count": 1,
   "metadata": {
    "collapsed": true,
    "ExecuteTime": {
     "start_time": "2023-04-13T00:12:56.771612Z",
     "end_time": "2023-04-13T00:12:56.786603Z"
    }
   },
   "outputs": [],
   "source": [
    "import pandas as pd"
   ]
  },
  {
   "cell_type": "code",
   "execution_count": 3,
   "outputs": [
    {
     "data": {
      "text/plain": "     Edad  Experiencia  Salario\n0    22.0            3     2423\n1    26.0            5     2639\n2    35.0           10     3122\n3    35.0           13     3431\n4    54.0           18     3962\n..    ...          ...      ...\n186  29.0            4     2510\n187  22.0            4     2530\n188  30.0            6     2760\n189  44.0           15     3616\n190  37.0           11     3245\n\n[191 rows x 3 columns]",
      "text/html": "<div>\n<style scoped>\n    .dataframe tbody tr th:only-of-type {\n        vertical-align: middle;\n    }\n\n    .dataframe tbody tr th {\n        vertical-align: top;\n    }\n\n    .dataframe thead th {\n        text-align: right;\n    }\n</style>\n<table border=\"1\" class=\"dataframe\">\n  <thead>\n    <tr style=\"text-align: right;\">\n      <th></th>\n      <th>Edad</th>\n      <th>Experiencia</th>\n      <th>Salario</th>\n    </tr>\n  </thead>\n  <tbody>\n    <tr>\n      <th>0</th>\n      <td>22.0</td>\n      <td>3</td>\n      <td>2423</td>\n    </tr>\n    <tr>\n      <th>1</th>\n      <td>26.0</td>\n      <td>5</td>\n      <td>2639</td>\n    </tr>\n    <tr>\n      <th>2</th>\n      <td>35.0</td>\n      <td>10</td>\n      <td>3122</td>\n    </tr>\n    <tr>\n      <th>3</th>\n      <td>35.0</td>\n      <td>13</td>\n      <td>3431</td>\n    </tr>\n    <tr>\n      <th>4</th>\n      <td>54.0</td>\n      <td>18</td>\n      <td>3962</td>\n    </tr>\n    <tr>\n      <th>...</th>\n      <td>...</td>\n      <td>...</td>\n      <td>...</td>\n    </tr>\n    <tr>\n      <th>186</th>\n      <td>29.0</td>\n      <td>4</td>\n      <td>2510</td>\n    </tr>\n    <tr>\n      <th>187</th>\n      <td>22.0</td>\n      <td>4</td>\n      <td>2530</td>\n    </tr>\n    <tr>\n      <th>188</th>\n      <td>30.0</td>\n      <td>6</td>\n      <td>2760</td>\n    </tr>\n    <tr>\n      <th>189</th>\n      <td>44.0</td>\n      <td>15</td>\n      <td>3616</td>\n    </tr>\n    <tr>\n      <th>190</th>\n      <td>37.0</td>\n      <td>11</td>\n      <td>3245</td>\n    </tr>\n  </tbody>\n</table>\n<p>191 rows × 3 columns</p>\n</div>"
     },
     "execution_count": 3,
     "metadata": {},
     "output_type": "execute_result"
    }
   ],
   "source": [
    "df=pd.read_csv('empleados.csv', delimiter=\";\")\n",
    "df"
   ],
   "metadata": {
    "collapsed": false,
    "ExecuteTime": {
     "start_time": "2023-04-13T00:13:23.443891Z",
     "end_time": "2023-04-13T00:13:23.452885Z"
    }
   }
  },
  {
   "cell_type": "code",
   "execution_count": 4,
   "outputs": [
    {
     "name": "stdout",
     "output_type": "stream",
     "text": [
      "<class 'pandas.core.frame.DataFrame'>\n",
      "RangeIndex: 191 entries, 0 to 190\n",
      "Data columns (total 3 columns):\n",
      " #   Column       Non-Null Count  Dtype  \n",
      "---  ------       --------------  -----  \n",
      " 0   Edad         145 non-null    float64\n",
      " 1   Experiencia  191 non-null    int64  \n",
      " 2   Salario      191 non-null    int64  \n",
      "dtypes: float64(1), int64(2)\n",
      "memory usage: 4.6 KB\n"
     ]
    }
   ],
   "source": [
    "df.info()"
   ],
   "metadata": {
    "collapsed": false,
    "ExecuteTime": {
     "start_time": "2023-04-13T00:13:35.412197Z",
     "end_time": "2023-04-13T00:13:35.428187Z"
    }
   }
  },
  {
   "cell_type": "code",
   "execution_count": 6,
   "outputs": [
    {
     "data": {
      "text/plain": "Edad             33.868966\nExperiencia       8.926702\nSalario        2992.000000\ndtype: float64"
     },
     "execution_count": 6,
     "metadata": {},
     "output_type": "execute_result"
    }
   ],
   "source": [
    "df.mean(axis=0)"
   ],
   "metadata": {
    "collapsed": false,
    "ExecuteTime": {
     "start_time": "2023-04-13T00:16:07.489421Z",
     "end_time": "2023-04-13T00:16:07.517404Z"
    }
   }
  },
  {
   "cell_type": "code",
   "execution_count": null,
   "outputs": [],
   "source": [],
   "metadata": {
    "collapsed": false
   }
  }
 ],
 "metadata": {
  "kernelspec": {
   "display_name": "Python 3",
   "language": "python",
   "name": "python3"
  },
  "language_info": {
   "codemirror_mode": {
    "name": "ipython",
    "version": 2
   },
   "file_extension": ".py",
   "mimetype": "text/x-python",
   "name": "python",
   "nbconvert_exporter": "python",
   "pygments_lexer": "ipython2",
   "version": "2.7.6"
  }
 },
 "nbformat": 4,
 "nbformat_minor": 0
}
