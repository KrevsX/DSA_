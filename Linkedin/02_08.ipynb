{
 "cells": [
  {
   "cell_type": "code",
   "execution_count": 1,
   "metadata": {
    "collapsed": true,
    "ExecuteTime": {
     "start_time": "2023-04-13T01:13:29.745015Z",
     "end_time": "2023-04-13T01:13:29.756604Z"
    }
   },
   "outputs": [],
   "source": [
    "import numpy as np"
   ]
  },
  {
   "cell_type": "code",
   "execution_count": 2,
   "outputs": [],
   "source": [
    "emisiones = np.array(\n",
    "[[2,4,13.7,9.4,382],\n",
    "[4.3,4,14.3,9,347],\n",
    "[4,4,9.5,8.5,327],\n",
    "[4.4,6,18.4,7.1,377],\n",
    "[2.7,6,13.7,9.3,294],\n",
    "[3.1,6,19.4,6.4,297],\n",
    "[4,4,9.6,13.3,313],\n",
    "[1.8,6,11.5,18,207],\n",
    "[6.3,4,11.6,9.6,253],\n",
    "[5,6,11.3,9.7,269],\n",
    "[2.8,8,13.1,10,235],\n",
    "[2.2,8,13.2,10.6,235],\n",
    "[2.8,8,13.3,6.9,307],\n",
    "[4,8,11.9,6.7,354],\n",
    "[4,8,12.9,5.7,337],\n",
    "[3.9,8,12.6,5.8,368],\n",
    "[3.8,6,13.1,6.1,327],\n",
    "[4,6,12.8,5.9,205],\n",
    "[5,6,13.3,6.5,193],\n",
    "[6.7,6,19.7,6.1,207],\n",
    "[4,6,16.7,5.9,209],\n",
    "[2.9,8,19.7,8.4,200],\n",
    "[2.7,8,16.7,8.3,193],\n",
    "[3.1,4,10,9.6,235],\n",
    "[3.6,4,11.5,10.2,239],\n",
    "[3.9,4,9.3,11.2,230],\n",
    "[2.1,4,12.2,7.2,278]])"
   ],
   "metadata": {
    "collapsed": false,
    "ExecuteTime": {
     "start_time": "2023-04-13T01:15:25.091127Z",
     "end_time": "2023-04-13T01:15:25.115112Z"
    }
   }
  },
  {
   "cell_type": "code",
   "execution_count": 5,
   "outputs": [],
   "source": [
    "fst_rows=emisiones[emisiones[:,4].argsort()[::-1][:10]]"
   ],
   "metadata": {
    "collapsed": false,
    "ExecuteTime": {
     "start_time": "2023-04-13T01:16:54.260055Z",
     "end_time": "2023-04-13T01:16:54.274047Z"
    }
   }
  },
  {
   "cell_type": "code",
   "execution_count": 6,
   "outputs": [
    {
     "data": {
      "text/plain": "array([[  2. ,   4. ,  13.7,   9.4, 382. ],\n       [  4.4,   6. ,  18.4,   7.1, 377. ],\n       [  3.9,   8. ,  12.6,   5.8, 368. ],\n       [  4. ,   8. ,  11.9,   6.7, 354. ],\n       [  4.3,   4. ,  14.3,   9. , 347. ],\n       [  4. ,   8. ,  12.9,   5.7, 337. ],\n       [  4. ,   4. ,   9.5,   8.5, 327. ],\n       [  3.8,   6. ,  13.1,   6.1, 327. ],\n       [  4. ,   4. ,   9.6,  13.3, 313. ],\n       [  2.8,   8. ,  13.3,   6.9, 307. ]])"
     },
     "execution_count": 6,
     "metadata": {},
     "output_type": "execute_result"
    }
   ],
   "source": [
    "fst_rows"
   ],
   "metadata": {
    "collapsed": false,
    "ExecuteTime": {
     "start_time": "2023-04-13T01:16:55.363998Z",
     "end_time": "2023-04-13T01:16:55.377990Z"
    }
   }
  },
  {
   "cell_type": "code",
   "execution_count": 7,
   "outputs": [],
   "source": [],
   "metadata": {
    "collapsed": false,
    "ExecuteTime": {
     "start_time": "2023-04-13T01:19:17.873544Z",
     "end_time": "2023-04-13T01:19:17.892533Z"
    }
   }
  },
  {
   "cell_type": "code",
   "execution_count": null,
   "outputs": [],
   "source": [],
   "metadata": {
    "collapsed": false
   }
  }
 ],
 "metadata": {
  "kernelspec": {
   "display_name": "Python 3",
   "language": "python",
   "name": "python3"
  },
  "language_info": {
   "codemirror_mode": {
    "name": "ipython",
    "version": 2
   },
   "file_extension": ".py",
   "mimetype": "text/x-python",
   "name": "python",
   "nbconvert_exporter": "python",
   "pygments_lexer": "ipython2",
   "version": "2.7.6"
  }
 },
 "nbformat": 4,
 "nbformat_minor": 0
}
