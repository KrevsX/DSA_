{
 "cells": [
  {
   "cell_type": "code",
   "execution_count": 1,
   "metadata": {
    "collapsed": true,
    "ExecuteTime": {
     "start_time": "2023-04-13T01:04:10.085559Z",
     "end_time": "2023-04-13T01:04:10.099550Z"
    }
   },
   "outputs": [],
   "source": [
    "import pandas as pd"
   ]
  },
  {
   "cell_type": "code",
   "execution_count": 2,
   "outputs": [
    {
     "data": {
      "text/plain": "          Marca  Motor  Cilindros  Consumo Ciudad  Consumo Carretera  CO2\n0      Delicacy    2.1          4            13.7                9.1  290\n1        Fusion    2.6          4            12.7                8.6  327\n2      Majestic    2.0          4            13.7                9.4  382\n3        Garnet    4.3          4            14.3                9.0  347\n4           Pit    3.6          4            14.6               10.4  377\n..          ...    ...        ...             ...                ...  ...\n94     Carquipo    3.7          4            16.7               10.3  248\n95         Carx    3.1          4            10.0                9.6  235\n96        Carya    3.6          4            11.5               10.2  239\n97  Picker Auto    3.9          4             9.3               11.2  230\n98     Ape Auto    2.1          4            12.2                7.2  278\n\n[99 rows x 6 columns]",
      "text/html": "<div>\n<style scoped>\n    .dataframe tbody tr th:only-of-type {\n        vertical-align: middle;\n    }\n\n    .dataframe tbody tr th {\n        vertical-align: top;\n    }\n\n    .dataframe thead th {\n        text-align: right;\n    }\n</style>\n<table border=\"1\" class=\"dataframe\">\n  <thead>\n    <tr style=\"text-align: right;\">\n      <th></th>\n      <th>Marca</th>\n      <th>Motor</th>\n      <th>Cilindros</th>\n      <th>Consumo Ciudad</th>\n      <th>Consumo Carretera</th>\n      <th>CO2</th>\n    </tr>\n  </thead>\n  <tbody>\n    <tr>\n      <th>0</th>\n      <td>Delicacy</td>\n      <td>2.1</td>\n      <td>4</td>\n      <td>13.7</td>\n      <td>9.1</td>\n      <td>290</td>\n    </tr>\n    <tr>\n      <th>1</th>\n      <td>Fusion</td>\n      <td>2.6</td>\n      <td>4</td>\n      <td>12.7</td>\n      <td>8.6</td>\n      <td>327</td>\n    </tr>\n    <tr>\n      <th>2</th>\n      <td>Majestic</td>\n      <td>2.0</td>\n      <td>4</td>\n      <td>13.7</td>\n      <td>9.4</td>\n      <td>382</td>\n    </tr>\n    <tr>\n      <th>3</th>\n      <td>Garnet</td>\n      <td>4.3</td>\n      <td>4</td>\n      <td>14.3</td>\n      <td>9.0</td>\n      <td>347</td>\n    </tr>\n    <tr>\n      <th>4</th>\n      <td>Pit</td>\n      <td>3.6</td>\n      <td>4</td>\n      <td>14.6</td>\n      <td>10.4</td>\n      <td>377</td>\n    </tr>\n    <tr>\n      <th>...</th>\n      <td>...</td>\n      <td>...</td>\n      <td>...</td>\n      <td>...</td>\n      <td>...</td>\n      <td>...</td>\n    </tr>\n    <tr>\n      <th>94</th>\n      <td>Carquipo</td>\n      <td>3.7</td>\n      <td>4</td>\n      <td>16.7</td>\n      <td>10.3</td>\n      <td>248</td>\n    </tr>\n    <tr>\n      <th>95</th>\n      <td>Carx</td>\n      <td>3.1</td>\n      <td>4</td>\n      <td>10.0</td>\n      <td>9.6</td>\n      <td>235</td>\n    </tr>\n    <tr>\n      <th>96</th>\n      <td>Carya</td>\n      <td>3.6</td>\n      <td>4</td>\n      <td>11.5</td>\n      <td>10.2</td>\n      <td>239</td>\n    </tr>\n    <tr>\n      <th>97</th>\n      <td>Picker Auto</td>\n      <td>3.9</td>\n      <td>4</td>\n      <td>9.3</td>\n      <td>11.2</td>\n      <td>230</td>\n    </tr>\n    <tr>\n      <th>98</th>\n      <td>Ape Auto</td>\n      <td>2.1</td>\n      <td>4</td>\n      <td>12.2</td>\n      <td>7.2</td>\n      <td>278</td>\n    </tr>\n  </tbody>\n</table>\n<p>99 rows × 6 columns</p>\n</div>"
     },
     "execution_count": 2,
     "metadata": {},
     "output_type": "execute_result"
    }
   ],
   "source": [
    "df=pd.read_csv('emisiones.csv',delimiter=\";\")\n",
    "df"
   ],
   "metadata": {
    "collapsed": false,
    "ExecuteTime": {
     "start_time": "2023-04-13T01:04:27.932145Z",
     "end_time": "2023-04-13T01:04:27.982113Z"
    }
   }
  },
  {
   "cell_type": "code",
   "execution_count": 3,
   "outputs": [
    {
     "data": {
      "text/plain": "Marca                 object\nMotor                float64\nCilindros              int64\nConsumo Ciudad       float64\nConsumo Carretera    float64\nCO2                    int64\ndtype: object"
     },
     "execution_count": 3,
     "metadata": {},
     "output_type": "execute_result"
    }
   ],
   "source": [
    "df.dtypes"
   ],
   "metadata": {
    "collapsed": false,
    "ExecuteTime": {
     "start_time": "2023-04-13T01:04:46.410436Z",
     "end_time": "2023-04-13T01:04:46.430422Z"
    }
   }
  },
  {
   "cell_type": "code",
   "execution_count": 5,
   "outputs": [
    {
     "name": "stdout",
     "output_type": "stream",
     "text": [
      "<class 'pandas.core.frame.DataFrame'>\n",
      "RangeIndex: 99 entries, 0 to 98\n",
      "Data columns (total 6 columns):\n",
      " #   Column             Non-Null Count  Dtype  \n",
      "---  ------             --------------  -----  \n",
      " 0   Marca              99 non-null     object \n",
      " 1   Motor              99 non-null     float64\n",
      " 2   Cilindros          99 non-null     int64  \n",
      " 3   Consumo Ciudad     99 non-null     float64\n",
      " 4   Consumo Carretera  99 non-null     float64\n",
      " 5   CO2                99 non-null     int64  \n",
      "dtypes: float64(3), int64(2), object(1)\n",
      "memory usage: 4.8+ KB\n"
     ]
    }
   ],
   "source": [
    "df.info()"
   ],
   "metadata": {
    "collapsed": false,
    "ExecuteTime": {
     "start_time": "2023-04-13T01:05:09.846609Z",
     "end_time": "2023-04-13T01:05:09.870593Z"
    }
   }
  },
  {
   "cell_type": "code",
   "execution_count": 7,
   "outputs": [],
   "source": [
    "column_numeric=df.select_dtypes(include=['float','int'])"
   ],
   "metadata": {
    "collapsed": false,
    "ExecuteTime": {
     "start_time": "2023-04-13T01:06:15.033717Z",
     "end_time": "2023-04-13T01:06:15.046708Z"
    }
   }
  },
  {
   "cell_type": "code",
   "execution_count": 8,
   "outputs": [
    {
     "data": {
      "text/plain": "    Motor  Cilindros  Consumo Ciudad  Consumo Carretera  CO2\n0     2.1          4            13.7                9.1  290\n1     2.6          4            12.7                8.6  327\n2     2.0          4            13.7                9.4  382\n3     4.3          4            14.3                9.0  347\n4     3.6          4            14.6               10.4  377\n..    ...        ...             ...                ...  ...\n94    3.7          4            16.7               10.3  248\n95    3.1          4            10.0                9.6  235\n96    3.6          4            11.5               10.2  239\n97    3.9          4             9.3               11.2  230\n98    2.1          4            12.2                7.2  278\n\n[99 rows x 5 columns]",
      "text/html": "<div>\n<style scoped>\n    .dataframe tbody tr th:only-of-type {\n        vertical-align: middle;\n    }\n\n    .dataframe tbody tr th {\n        vertical-align: top;\n    }\n\n    .dataframe thead th {\n        text-align: right;\n    }\n</style>\n<table border=\"1\" class=\"dataframe\">\n  <thead>\n    <tr style=\"text-align: right;\">\n      <th></th>\n      <th>Motor</th>\n      <th>Cilindros</th>\n      <th>Consumo Ciudad</th>\n      <th>Consumo Carretera</th>\n      <th>CO2</th>\n    </tr>\n  </thead>\n  <tbody>\n    <tr>\n      <th>0</th>\n      <td>2.1</td>\n      <td>4</td>\n      <td>13.7</td>\n      <td>9.1</td>\n      <td>290</td>\n    </tr>\n    <tr>\n      <th>1</th>\n      <td>2.6</td>\n      <td>4</td>\n      <td>12.7</td>\n      <td>8.6</td>\n      <td>327</td>\n    </tr>\n    <tr>\n      <th>2</th>\n      <td>2.0</td>\n      <td>4</td>\n      <td>13.7</td>\n      <td>9.4</td>\n      <td>382</td>\n    </tr>\n    <tr>\n      <th>3</th>\n      <td>4.3</td>\n      <td>4</td>\n      <td>14.3</td>\n      <td>9.0</td>\n      <td>347</td>\n    </tr>\n    <tr>\n      <th>4</th>\n      <td>3.6</td>\n      <td>4</td>\n      <td>14.6</td>\n      <td>10.4</td>\n      <td>377</td>\n    </tr>\n    <tr>\n      <th>...</th>\n      <td>...</td>\n      <td>...</td>\n      <td>...</td>\n      <td>...</td>\n      <td>...</td>\n    </tr>\n    <tr>\n      <th>94</th>\n      <td>3.7</td>\n      <td>4</td>\n      <td>16.7</td>\n      <td>10.3</td>\n      <td>248</td>\n    </tr>\n    <tr>\n      <th>95</th>\n      <td>3.1</td>\n      <td>4</td>\n      <td>10.0</td>\n      <td>9.6</td>\n      <td>235</td>\n    </tr>\n    <tr>\n      <th>96</th>\n      <td>3.6</td>\n      <td>4</td>\n      <td>11.5</td>\n      <td>10.2</td>\n      <td>239</td>\n    </tr>\n    <tr>\n      <th>97</th>\n      <td>3.9</td>\n      <td>4</td>\n      <td>9.3</td>\n      <td>11.2</td>\n      <td>230</td>\n    </tr>\n    <tr>\n      <th>98</th>\n      <td>2.1</td>\n      <td>4</td>\n      <td>12.2</td>\n      <td>7.2</td>\n      <td>278</td>\n    </tr>\n  </tbody>\n</table>\n<p>99 rows × 5 columns</p>\n</div>"
     },
     "execution_count": 8,
     "metadata": {},
     "output_type": "execute_result"
    }
   ],
   "source": [
    "column_numeric"
   ],
   "metadata": {
    "collapsed": false,
    "ExecuteTime": {
     "start_time": "2023-04-13T01:06:19.720872Z",
     "end_time": "2023-04-13T01:06:19.744857Z"
    }
   }
  },
  {
   "cell_type": "code",
   "execution_count": null,
   "outputs": [],
   "source": [],
   "metadata": {
    "collapsed": false
   }
  }
 ],
 "metadata": {
  "kernelspec": {
   "display_name": "Python 3",
   "language": "python",
   "name": "python3"
  },
  "language_info": {
   "codemirror_mode": {
    "name": "ipython",
    "version": 2
   },
   "file_extension": ".py",
   "mimetype": "text/x-python",
   "name": "python",
   "nbconvert_exporter": "python",
   "pygments_lexer": "ipython2",
   "version": "2.7.6"
  }
 },
 "nbformat": 4,
 "nbformat_minor": 0
}
