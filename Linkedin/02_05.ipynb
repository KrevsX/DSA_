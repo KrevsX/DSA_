{
 "cells": [
  {
   "cell_type": "code",
   "execution_count": 1,
   "metadata": {
    "collapsed": true,
    "ExecuteTime": {
     "start_time": "2023-04-29T23:04:55.478121Z",
     "end_time": "2023-04-29T23:04:55.493359Z"
    }
   },
   "outputs": [],
   "source": [
    "import pandas as pd\n"
   ]
  },
  {
   "cell_type": "code",
   "execution_count": 2,
   "outputs": [
    {
     "data": {
      "text/plain": "<bound method DataFrame.items of      Año  temperatura\n0   1960         71.4\n1   1961         71.9\n2   1962         71.9\n3   1963         72.3\n4   1964         71.7\n..   ...          ...\n57  2017         74.6\n58  2018         73.5\n59  2019         72.7\n60  2020         74.6\n61  2021         73.5\n\n[62 rows x 2 columns]>"
     },
     "execution_count": 2,
     "metadata": {},
     "output_type": "execute_result"
    }
   ],
   "source": [
    "df=pd.read_csv('temperaturas.csv',delimiter=\";\")\n",
    "df.items\n"
   ],
   "metadata": {
    "collapsed": false,
    "ExecuteTime": {
     "start_time": "2023-04-29T23:04:55.496356Z",
     "end_time": "2023-04-29T23:04:55.567857Z"
    }
   }
  },
  {
   "cell_type": "code",
   "execution_count": 3,
   "outputs": [],
   "source": [
    "new_temp=pd.DataFrame.from_dict([{'Año':'2022','temperatura':'73.4'}])"
   ],
   "metadata": {
    "collapsed": false,
    "ExecuteTime": {
     "start_time": "2023-04-29T23:04:55.523884Z",
     "end_time": "2023-04-29T23:04:55.588844Z"
    }
   }
  },
  {
   "cell_type": "code",
   "execution_count": 4,
   "outputs": [],
   "source": [
    "new_tempTwo=pd.DataFrame.from_dict([{'Año':'2023','temperatura':'74.5'}])"
   ],
   "metadata": {
    "collapsed": false,
    "ExecuteTime": {
     "start_time": "2023-04-29T23:04:55.543871Z",
     "end_time": "2023-04-29T23:04:55.588844Z"
    }
   }
  },
  {
   "cell_type": "code",
   "execution_count": 5,
   "outputs": [],
   "source": [
    "df=pd.concat([df,new_temp,new_tempTwo], ignore_index=True)"
   ],
   "metadata": {
    "collapsed": false,
    "ExecuteTime": {
     "start_time": "2023-04-29T23:04:55.557863Z",
     "end_time": "2023-04-29T23:04:55.589843Z"
    }
   }
  },
  {
   "cell_type": "code",
   "execution_count": 6,
   "outputs": [
    {
     "data": {
      "text/plain": "<bound method DataFrame.items of      Año temperatura\n0   1960        71.4\n1   1961        71.9\n2   1962        71.9\n3   1963        72.3\n4   1964        71.7\n..   ...         ...\n59  2019        72.7\n60  2020        74.6\n61  2021        73.5\n62  2022        73.4\n63  2023        74.5\n\n[64 rows x 2 columns]>"
     },
     "execution_count": 6,
     "metadata": {},
     "output_type": "execute_result"
    }
   ],
   "source": [
    "df.items"
   ],
   "metadata": {
    "collapsed": false,
    "ExecuteTime": {
     "start_time": "2023-04-29T23:04:55.572854Z",
     "end_time": "2023-04-29T23:04:55.598838Z"
    }
   }
  },
  {
   "cell_type": "code",
   "execution_count": 6,
   "outputs": [],
   "source": [],
   "metadata": {
    "collapsed": false,
    "ExecuteTime": {
     "start_time": "2023-04-29T23:04:55.587844Z",
     "end_time": "2023-04-29T23:04:55.662798Z"
    }
   }
  }
 ],
 "metadata": {
  "kernelspec": {
   "display_name": "Python 3",
   "language": "python",
   "name": "python3"
  },
  "language_info": {
   "codemirror_mode": {
    "name": "ipython",
    "version": 2
   },
   "file_extension": ".py",
   "mimetype": "text/x-python",
   "name": "python",
   "nbconvert_exporter": "python",
   "pygments_lexer": "ipython2",
   "version": "2.7.6"
  }
 },
 "nbformat": 4,
 "nbformat_minor": 0
}
