{
 "cells": [
  {
   "cell_type": "code",
   "execution_count": 19,
   "metadata": {
    "collapsed": true,
    "ExecuteTime": {
     "start_time": "2023-04-13T00:57:12.248805Z",
     "end_time": "2023-04-13T00:57:12.287615Z"
    }
   },
   "outputs": [],
   "source": [
    "import pandas as pd\n"
   ]
  },
  {
   "cell_type": "code",
   "execution_count": 20,
   "outputs": [
    {
     "data": {
      "text/plain": "<bound method DataFrame.items of      Año  temperatura\n0   1960         71.4\n1   1961         71.9\n2   1962         71.9\n3   1963         72.3\n4   1964         71.7\n..   ...          ...\n57  2017         74.6\n58  2018         73.5\n59  2019         72.7\n60  2020         74.6\n61  2021         73.5\n\n[62 rows x 2 columns]>"
     },
     "execution_count": 20,
     "metadata": {},
     "output_type": "execute_result"
    }
   ],
   "source": [
    "df=pd.read_csv('temperaturas.csv',delimiter=\";\")\n",
    "df.items\n"
   ],
   "metadata": {
    "collapsed": false,
    "ExecuteTime": {
     "start_time": "2023-04-13T00:57:12.271792Z",
     "end_time": "2023-04-13T00:57:12.299266Z"
    }
   }
  },
  {
   "cell_type": "code",
   "execution_count": 21,
   "outputs": [],
   "source": [
    "new_temp=pd.DataFrame.from_dict([{'Año':'2022','temperatura':'73.4'}])"
   ],
   "metadata": {
    "collapsed": false,
    "ExecuteTime": {
     "start_time": "2023-04-13T00:57:12.301266Z",
     "end_time": "2023-04-13T00:57:12.335244Z"
    }
   }
  },
  {
   "cell_type": "code",
   "execution_count": 22,
   "outputs": [],
   "source": [
    "new_tempTwo=pd.DataFrame.from_dict([{'Año':'2023','temperatura':'74.5'}])"
   ],
   "metadata": {
    "collapsed": false,
    "ExecuteTime": {
     "start_time": "2023-04-13T00:57:12.318255Z",
     "end_time": "2023-04-13T00:57:12.349236Z"
    }
   }
  },
  {
   "cell_type": "code",
   "execution_count": 23,
   "outputs": [],
   "source": [
    "df=pd.concat([df,new_temp,new_tempTwo], ignore_index=True)"
   ],
   "metadata": {
    "collapsed": false,
    "ExecuteTime": {
     "start_time": "2023-04-13T00:57:12.335244Z",
     "end_time": "2023-04-13T00:57:12.351235Z"
    }
   }
  },
  {
   "cell_type": "code",
   "execution_count": 24,
   "outputs": [
    {
     "data": {
      "text/plain": "<bound method DataFrame.items of      Año temperatura\n0   1960        71.4\n1   1961        71.9\n2   1962        71.9\n3   1963        72.3\n4   1964        71.7\n..   ...         ...\n59  2019        72.7\n60  2020        74.6\n61  2021        73.5\n62  2022        73.4\n63  2023        74.5\n\n[64 rows x 2 columns]>"
     },
     "execution_count": 24,
     "metadata": {},
     "output_type": "execute_result"
    }
   ],
   "source": [
    "df.items"
   ],
   "metadata": {
    "collapsed": false,
    "ExecuteTime": {
     "start_time": "2023-04-13T00:57:12.349236Z",
     "end_time": "2023-04-13T00:57:12.390210Z"
    }
   }
  },
  {
   "cell_type": "code",
   "execution_count": 24,
   "outputs": [],
   "source": [],
   "metadata": {
    "collapsed": false,
    "ExecuteTime": {
     "start_time": "2023-04-13T00:57:12.384214Z",
     "end_time": "2023-04-13T00:57:12.394208Z"
    }
   }
  }
 ],
 "metadata": {
  "kernelspec": {
   "display_name": "Python 3",
   "language": "python",
   "name": "python3"
  },
  "language_info": {
   "codemirror_mode": {
    "name": "ipython",
    "version": 2
   },
   "file_extension": ".py",
   "mimetype": "text/x-python",
   "name": "python",
   "nbconvert_exporter": "python",
   "pygments_lexer": "ipython2",
   "version": "2.7.6"
  }
 },
 "nbformat": 4,
 "nbformat_minor": 0
}
