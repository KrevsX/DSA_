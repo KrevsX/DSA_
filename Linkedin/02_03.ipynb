{
 "cells": [
  {
   "cell_type": "code",
   "execution_count": 9,
   "metadata": {
    "collapsed": true,
    "ExecuteTime": {
     "start_time": "2023-04-29T23:01:33.168498Z",
     "end_time": "2023-04-29T23:01:33.194481Z"
    }
   },
   "outputs": [],
   "source": [
    "import pandas as pd\n"
   ]
  },
  {
   "cell_type": "code",
   "execution_count": 10,
   "outputs": [
    {
     "data": {
      "text/plain": "     Año  temperatura\n0   1960         71.4\n1   1961         71.9\n2   1962         71.9\n3   1963         72.3\n4   1964         71.7\n..   ...          ...\n57  2017         74.6\n58  2018         73.5\n59  2019         72.7\n60  2020         74.6\n61  2021         73.5\n\n[62 rows x 2 columns]",
      "text/html": "<div>\n<style scoped>\n    .dataframe tbody tr th:only-of-type {\n        vertical-align: middle;\n    }\n\n    .dataframe tbody tr th {\n        vertical-align: top;\n    }\n\n    .dataframe thead th {\n        text-align: right;\n    }\n</style>\n<table border=\"1\" class=\"dataframe\">\n  <thead>\n    <tr style=\"text-align: right;\">\n      <th></th>\n      <th>Año</th>\n      <th>temperatura</th>\n    </tr>\n  </thead>\n  <tbody>\n    <tr>\n      <th>0</th>\n      <td>1960</td>\n      <td>71.4</td>\n    </tr>\n    <tr>\n      <th>1</th>\n      <td>1961</td>\n      <td>71.9</td>\n    </tr>\n    <tr>\n      <th>2</th>\n      <td>1962</td>\n      <td>71.9</td>\n    </tr>\n    <tr>\n      <th>3</th>\n      <td>1963</td>\n      <td>72.3</td>\n    </tr>\n    <tr>\n      <th>4</th>\n      <td>1964</td>\n      <td>71.7</td>\n    </tr>\n    <tr>\n      <th>...</th>\n      <td>...</td>\n      <td>...</td>\n    </tr>\n    <tr>\n      <th>57</th>\n      <td>2017</td>\n      <td>74.6</td>\n    </tr>\n    <tr>\n      <th>58</th>\n      <td>2018</td>\n      <td>73.5</td>\n    </tr>\n    <tr>\n      <th>59</th>\n      <td>2019</td>\n      <td>72.7</td>\n    </tr>\n    <tr>\n      <th>60</th>\n      <td>2020</td>\n      <td>74.6</td>\n    </tr>\n    <tr>\n      <th>61</th>\n      <td>2021</td>\n      <td>73.5</td>\n    </tr>\n  </tbody>\n</table>\n<p>62 rows × 2 columns</p>\n</div>"
     },
     "execution_count": 10,
     "metadata": {},
     "output_type": "execute_result"
    }
   ],
   "source": [
    "df=pd.read_csv('temperaturas.csv', delimiter=\";\")\n",
    "df"
   ],
   "metadata": {
    "collapsed": false,
    "ExecuteTime": {
     "start_time": "2023-04-29T23:01:33.177493Z",
     "end_time": "2023-04-29T23:01:33.268436Z"
    }
   }
  },
  {
   "cell_type": "code",
   "execution_count": 11,
   "outputs": [
    {
     "name": "stdout",
     "output_type": "stream",
     "text": [
      "<class 'pandas.core.frame.DataFrame'>\n",
      "RangeIndex: 62 entries, 0 to 61\n",
      "Data columns (total 2 columns):\n",
      " #   Column       Non-Null Count  Dtype  \n",
      "---  ------       --------------  -----  \n",
      " 0   Año          62 non-null     int64  \n",
      " 1   temperatura  62 non-null     float64\n",
      "dtypes: float64(1), int64(1)\n",
      "memory usage: 1.1 KB\n"
     ]
    }
   ],
   "source": [
    "df.info()\n"
   ],
   "metadata": {
    "collapsed": false,
    "ExecuteTime": {
     "start_time": "2023-04-29T23:01:33.216468Z",
     "end_time": "2023-04-29T23:01:33.270434Z"
    }
   }
  },
  {
   "cell_type": "code",
   "execution_count": 12,
   "outputs": [
    {
     "data": {
      "text/plain": "70.9"
     },
     "execution_count": 12,
     "metadata": {},
     "output_type": "execute_result"
    }
   ],
   "source": [
    "df['temperatura'].min()"
   ],
   "metadata": {
    "collapsed": false,
    "ExecuteTime": {
     "start_time": "2023-04-29T23:01:33.242453Z",
     "end_time": "2023-04-29T23:01:33.270434Z"
    }
   }
  },
  {
   "cell_type": "code",
   "execution_count": 13,
   "outputs": [
    {
     "data": {
      "text/plain": "75.3"
     },
     "execution_count": 13,
     "metadata": {},
     "output_type": "execute_result"
    }
   ],
   "source": [
    "df['temperatura'].max()"
   ],
   "metadata": {
    "collapsed": false,
    "ExecuteTime": {
     "start_time": "2023-04-29T23:01:33.270434Z",
     "end_time": "2023-04-29T23:01:33.381283Z"
    }
   }
  },
  {
   "cell_type": "code",
   "execution_count": 14,
   "outputs": [
    {
     "data": {
      "text/plain": "1.0573219315056979"
     },
     "execution_count": 14,
     "metadata": {},
     "output_type": "execute_result"
    }
   ],
   "source": [
    "df['temperatura'].std()"
   ],
   "metadata": {
    "collapsed": false,
    "ExecuteTime": {
     "start_time": "2023-04-29T23:01:33.301332Z",
     "end_time": "2023-04-29T23:01:33.435248Z"
    }
   }
  },
  {
   "cell_type": "code",
   "execution_count": 15,
   "outputs": [
    {
     "data": {
      "text/plain": "1.1179296668429397"
     },
     "execution_count": 15,
     "metadata": {},
     "output_type": "execute_result"
    }
   ],
   "source": [
    "df['temperatura'].var()"
   ],
   "metadata": {
    "collapsed": false,
    "ExecuteTime": {
     "start_time": "2023-04-29T23:01:33.332313Z",
     "end_time": "2023-04-29T23:01:33.456236Z"
    }
   }
  },
  {
   "cell_type": "code",
   "execution_count": 16,
   "outputs": [
    {
     "data": {
      "text/plain": "count    62.000000\nmean     72.624194\nstd       1.057322\nmin      70.900000\n25%      71.725000\n50%      72.450000\n75%      73.300000\nmax      75.300000\nName: temperatura, dtype: float64"
     },
     "execution_count": 16,
     "metadata": {},
     "output_type": "execute_result"
    }
   ],
   "source": [
    "df['temperatura'].describe()"
   ],
   "metadata": {
    "collapsed": false,
    "ExecuteTime": {
     "start_time": "2023-04-29T23:01:33.348303Z",
     "end_time": "2023-04-29T23:01:33.457235Z"
    }
   }
  },
  {
   "cell_type": "code",
   "execution_count": 16,
   "outputs": [],
   "source": [],
   "metadata": {
    "collapsed": false,
    "ExecuteTime": {
     "start_time": "2023-04-29T23:01:33.381283Z",
     "end_time": "2023-04-29T23:01:33.477222Z"
    }
   }
  }
 ],
 "metadata": {
  "kernelspec": {
   "display_name": "Python 3",
   "language": "python",
   "name": "python3"
  },
  "language_info": {
   "codemirror_mode": {
    "name": "ipython",
    "version": 2
   },
   "file_extension": ".py",
   "mimetype": "text/x-python",
   "name": "python",
   "nbconvert_exporter": "python",
   "pygments_lexer": "ipython2",
   "version": "2.7.6"
  }
 },
 "nbformat": 4,
 "nbformat_minor": 0
}
