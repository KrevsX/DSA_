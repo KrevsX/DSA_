{
 "cells": [
  {
   "cell_type": "code",
   "execution_count": 1,
   "metadata": {
    "collapsed": true,
    "ExecuteTime": {
     "start_time": "2023-04-16T01:17:38.142376Z",
     "end_time": "2023-04-16T01:17:38.157381Z"
    }
   },
   "outputs": [],
   "source": [
    "#LOCAL OUTLIER FACTOR"
   ]
  },
  {
   "cell_type": "code",
   "execution_count": 2,
   "outputs": [],
   "source": [
    "import pandas as pd\n",
    "from sklearn.neighbors import LocalOutlierFactor"
   ],
   "metadata": {
    "collapsed": false,
    "ExecuteTime": {
     "start_time": "2023-04-16T01:20:17.156914Z",
     "end_time": "2023-04-16T01:20:17.636992Z"
    }
   }
  },
  {
   "cell_type": "code",
   "execution_count": 3,
   "outputs": [],
   "source": [
    "df=pd.read_csv('0406datos.csv', delimiter=\";\")"
   ],
   "metadata": {
    "collapsed": false,
    "ExecuteTime": {
     "start_time": "2023-04-16T01:20:40.598003Z",
     "end_time": "2023-04-16T01:20:40.620988Z"
    }
   }
  },
  {
   "cell_type": "code",
   "execution_count": 6,
   "outputs": [
    {
     "data": {
      "text/plain": "<bound method DataFrame.info of      Variable1  Variable2\n0    -4.030499  -6.955657\n1    -6.687653   7.467359\n2    -3.334960   5.775981\n3    -5.812554  -7.506389\n4    -6.648924   7.142999\n..         ...        ...\n995   3.278744   2.969732\n996  -2.306115   8.377314\n997   4.286679   1.978930\n998  -8.016003   5.113801\n999  -3.067987   7.395899\n\n[1000 rows x 2 columns]>"
     },
     "execution_count": 6,
     "metadata": {},
     "output_type": "execute_result"
    }
   ],
   "source": [
    "df.info"
   ],
   "metadata": {
    "collapsed": false,
    "ExecuteTime": {
     "start_time": "2023-04-16T01:20:56.348730Z",
     "end_time": "2023-04-16T01:20:56.364719Z"
    }
   }
  },
  {
   "cell_type": "code",
   "execution_count": 9,
   "outputs": [],
   "source": [
    "local_outlier_factor=LocalOutlierFactor()\n",
    "local_outlier_factor.fit(df)\n",
    "\n",
    "df['local_outlier']=local_outlier_factor.fit_predict(df)"
   ],
   "metadata": {
    "collapsed": false,
    "ExecuteTime": {
     "start_time": "2023-04-16T01:22:18.589196Z",
     "end_time": "2023-04-16T01:22:18.617179Z"
    }
   }
  },
  {
   "cell_type": "code",
   "execution_count": 10,
   "outputs": [
    {
     "name": "stdout",
     "output_type": "stream",
     "text": [
      " 1    959\n",
      "-1     41\n",
      "Name: local_outlier, dtype: int64\n"
     ]
    }
   ],
   "source": [
    "print(df['local_outlier'].value_counts())"
   ],
   "metadata": {
    "collapsed": false,
    "ExecuteTime": {
     "start_time": "2023-04-16T01:22:51.898039Z",
     "end_time": "2023-04-16T01:22:51.937015Z"
    }
   }
  },
  {
   "cell_type": "code",
   "execution_count": null,
   "outputs": [],
   "source": [],
   "metadata": {
    "collapsed": false
   }
  }
 ],
 "metadata": {
  "kernelspec": {
   "display_name": "Python 3",
   "language": "python",
   "name": "python3"
  },
  "language_info": {
   "codemirror_mode": {
    "name": "ipython",
    "version": 2
   },
   "file_extension": ".py",
   "mimetype": "text/x-python",
   "name": "python",
   "nbconvert_exporter": "python",
   "pygments_lexer": "ipython2",
   "version": "2.7.6"
  }
 },
 "nbformat": 4,
 "nbformat_minor": 0
}
