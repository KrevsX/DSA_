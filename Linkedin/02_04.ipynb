{
 "cells": [
  {
   "cell_type": "code",
   "execution_count": 1,
   "metadata": {
    "collapsed": true,
    "ExecuteTime": {
     "start_time": "2023-04-29T23:03:28.079039Z",
     "end_time": "2023-04-29T23:03:28.360771Z"
    }
   },
   "outputs": [],
   "source": [
    "import pandas as pd\n",
    "from sklearn.preprocessing import MinMaxScaler"
   ]
  },
  {
   "cell_type": "code",
   "execution_count": 2,
   "outputs": [
    {
     "data": {
      "text/plain": "    Altura    Peso\n0     1.68   63.11\n1     1.70   64.47\n2     1.73   66.28\n3     1.75   68.10\n4     1.78   69.92\n5     1.80   72.19\n6     1.83   74.46\n7     1.57  105.18\n8     1.19  114.41\n9     1.74   82.30\n10    1.82  117.53\n11    1.32  104.75\n12    1.40   58.88\n13    1.14   66.02\n14    1.25  106.64\n15    1.71  110.20\n16    1.39   82.25\n17    1.55  100.12\n18    1.55   92.07\n19    1.93  129.42",
      "text/html": "<div>\n<style scoped>\n    .dataframe tbody tr th:only-of-type {\n        vertical-align: middle;\n    }\n\n    .dataframe tbody tr th {\n        vertical-align: top;\n    }\n\n    .dataframe thead th {\n        text-align: right;\n    }\n</style>\n<table border=\"1\" class=\"dataframe\">\n  <thead>\n    <tr style=\"text-align: right;\">\n      <th></th>\n      <th>Altura</th>\n      <th>Peso</th>\n    </tr>\n  </thead>\n  <tbody>\n    <tr>\n      <th>0</th>\n      <td>1.68</td>\n      <td>63.11</td>\n    </tr>\n    <tr>\n      <th>1</th>\n      <td>1.70</td>\n      <td>64.47</td>\n    </tr>\n    <tr>\n      <th>2</th>\n      <td>1.73</td>\n      <td>66.28</td>\n    </tr>\n    <tr>\n      <th>3</th>\n      <td>1.75</td>\n      <td>68.10</td>\n    </tr>\n    <tr>\n      <th>4</th>\n      <td>1.78</td>\n      <td>69.92</td>\n    </tr>\n    <tr>\n      <th>5</th>\n      <td>1.80</td>\n      <td>72.19</td>\n    </tr>\n    <tr>\n      <th>6</th>\n      <td>1.83</td>\n      <td>74.46</td>\n    </tr>\n    <tr>\n      <th>7</th>\n      <td>1.57</td>\n      <td>105.18</td>\n    </tr>\n    <tr>\n      <th>8</th>\n      <td>1.19</td>\n      <td>114.41</td>\n    </tr>\n    <tr>\n      <th>9</th>\n      <td>1.74</td>\n      <td>82.30</td>\n    </tr>\n    <tr>\n      <th>10</th>\n      <td>1.82</td>\n      <td>117.53</td>\n    </tr>\n    <tr>\n      <th>11</th>\n      <td>1.32</td>\n      <td>104.75</td>\n    </tr>\n    <tr>\n      <th>12</th>\n      <td>1.40</td>\n      <td>58.88</td>\n    </tr>\n    <tr>\n      <th>13</th>\n      <td>1.14</td>\n      <td>66.02</td>\n    </tr>\n    <tr>\n      <th>14</th>\n      <td>1.25</td>\n      <td>106.64</td>\n    </tr>\n    <tr>\n      <th>15</th>\n      <td>1.71</td>\n      <td>110.20</td>\n    </tr>\n    <tr>\n      <th>16</th>\n      <td>1.39</td>\n      <td>82.25</td>\n    </tr>\n    <tr>\n      <th>17</th>\n      <td>1.55</td>\n      <td>100.12</td>\n    </tr>\n    <tr>\n      <th>18</th>\n      <td>1.55</td>\n      <td>92.07</td>\n    </tr>\n    <tr>\n      <th>19</th>\n      <td>1.93</td>\n      <td>129.42</td>\n    </tr>\n  </tbody>\n</table>\n</div>"
     },
     "execution_count": 2,
     "metadata": {},
     "output_type": "execute_result"
    }
   ],
   "source": [
    "df=pd.read_csv('datos.csv',delimiter=\";\")\n",
    "df.head(20)"
   ],
   "metadata": {
    "collapsed": false,
    "ExecuteTime": {
     "start_time": "2023-04-29T23:03:28.365766Z",
     "end_time": "2023-04-29T23:03:28.407382Z"
    }
   }
  },
  {
   "cell_type": "code",
   "execution_count": 3,
   "outputs": [],
   "source": [
    "scaler=MinMaxScaler()"
   ],
   "metadata": {
    "collapsed": false,
    "ExecuteTime": {
     "start_time": "2023-04-29T23:03:28.409380Z",
     "end_time": "2023-04-29T23:03:28.440315Z"
    }
   }
  },
  {
   "cell_type": "code",
   "execution_count": 4,
   "outputs": [],
   "source": [
    "scaled_df=scaler.fit_transform(df)"
   ],
   "metadata": {
    "collapsed": false,
    "ExecuteTime": {
     "start_time": "2023-04-29T23:03:28.428323Z",
     "end_time": "2023-04-29T23:03:28.513269Z"
    }
   }
  },
  {
   "cell_type": "code",
   "execution_count": 5,
   "outputs": [
    {
     "data": {
      "text/plain": "      Altura      Peso\n0   0.655172  0.141173\n1   0.678161  0.158788\n2   0.712644  0.182230\n3   0.735632  0.205802\n4   0.770115  0.229374\n5   0.793103  0.258775\n6   0.827586  0.288175\n7   0.528736  0.686051\n8   0.091954  0.805595\n9   0.724138  0.389716\n10  0.816092  0.846004\n11  0.241379  0.680482\n12  0.333333  0.086388\n13  0.034483  0.178863\n14  0.160920  0.704960\n15  0.689655  0.751069\n16  0.321839  0.389069\n17  0.505747  0.620515\n18  0.505747  0.516254\n19  0.942529  1.000000\n20  0.310345  0.238829\n21  0.344828  0.798342\n22  1.000000  0.105815\n23  0.689655  0.365108\n24  0.333333  0.940422\n25  0.528736  0.533739\n26  0.862069  0.812848\n27  0.770115  0.064888\n28  0.241379  0.830333\n29  0.678161  0.036265\n30  1.000000  0.253465\n31  0.586207  0.576350\n32  0.195402  0.000648\n33  0.793103  0.853128\n34  0.919540  0.064370\n35  0.689655  0.889911\n36  0.965517  0.134827\n37  0.000000  0.091180\n38  0.517241  0.248802\n39  0.747126  0.285326\n40  0.471264  0.528040\n41  0.413793  0.000000\n42  0.448276  0.011786\n43  0.471264  0.029400\n44  0.505747  0.047015\n45  0.528736  0.064629\n46  0.563218  0.082373\n47  0.597701  0.099987\n48  0.620690  0.117601",
      "text/html": "<div>\n<style scoped>\n    .dataframe tbody tr th:only-of-type {\n        vertical-align: middle;\n    }\n\n    .dataframe tbody tr th {\n        vertical-align: top;\n    }\n\n    .dataframe thead th {\n        text-align: right;\n    }\n</style>\n<table border=\"1\" class=\"dataframe\">\n  <thead>\n    <tr style=\"text-align: right;\">\n      <th></th>\n      <th>Altura</th>\n      <th>Peso</th>\n    </tr>\n  </thead>\n  <tbody>\n    <tr>\n      <th>0</th>\n      <td>0.655172</td>\n      <td>0.141173</td>\n    </tr>\n    <tr>\n      <th>1</th>\n      <td>0.678161</td>\n      <td>0.158788</td>\n    </tr>\n    <tr>\n      <th>2</th>\n      <td>0.712644</td>\n      <td>0.182230</td>\n    </tr>\n    <tr>\n      <th>3</th>\n      <td>0.735632</td>\n      <td>0.205802</td>\n    </tr>\n    <tr>\n      <th>4</th>\n      <td>0.770115</td>\n      <td>0.229374</td>\n    </tr>\n    <tr>\n      <th>5</th>\n      <td>0.793103</td>\n      <td>0.258775</td>\n    </tr>\n    <tr>\n      <th>6</th>\n      <td>0.827586</td>\n      <td>0.288175</td>\n    </tr>\n    <tr>\n      <th>7</th>\n      <td>0.528736</td>\n      <td>0.686051</td>\n    </tr>\n    <tr>\n      <th>8</th>\n      <td>0.091954</td>\n      <td>0.805595</td>\n    </tr>\n    <tr>\n      <th>9</th>\n      <td>0.724138</td>\n      <td>0.389716</td>\n    </tr>\n    <tr>\n      <th>10</th>\n      <td>0.816092</td>\n      <td>0.846004</td>\n    </tr>\n    <tr>\n      <th>11</th>\n      <td>0.241379</td>\n      <td>0.680482</td>\n    </tr>\n    <tr>\n      <th>12</th>\n      <td>0.333333</td>\n      <td>0.086388</td>\n    </tr>\n    <tr>\n      <th>13</th>\n      <td>0.034483</td>\n      <td>0.178863</td>\n    </tr>\n    <tr>\n      <th>14</th>\n      <td>0.160920</td>\n      <td>0.704960</td>\n    </tr>\n    <tr>\n      <th>15</th>\n      <td>0.689655</td>\n      <td>0.751069</td>\n    </tr>\n    <tr>\n      <th>16</th>\n      <td>0.321839</td>\n      <td>0.389069</td>\n    </tr>\n    <tr>\n      <th>17</th>\n      <td>0.505747</td>\n      <td>0.620515</td>\n    </tr>\n    <tr>\n      <th>18</th>\n      <td>0.505747</td>\n      <td>0.516254</td>\n    </tr>\n    <tr>\n      <th>19</th>\n      <td>0.942529</td>\n      <td>1.000000</td>\n    </tr>\n    <tr>\n      <th>20</th>\n      <td>0.310345</td>\n      <td>0.238829</td>\n    </tr>\n    <tr>\n      <th>21</th>\n      <td>0.344828</td>\n      <td>0.798342</td>\n    </tr>\n    <tr>\n      <th>22</th>\n      <td>1.000000</td>\n      <td>0.105815</td>\n    </tr>\n    <tr>\n      <th>23</th>\n      <td>0.689655</td>\n      <td>0.365108</td>\n    </tr>\n    <tr>\n      <th>24</th>\n      <td>0.333333</td>\n      <td>0.940422</td>\n    </tr>\n    <tr>\n      <th>25</th>\n      <td>0.528736</td>\n      <td>0.533739</td>\n    </tr>\n    <tr>\n      <th>26</th>\n      <td>0.862069</td>\n      <td>0.812848</td>\n    </tr>\n    <tr>\n      <th>27</th>\n      <td>0.770115</td>\n      <td>0.064888</td>\n    </tr>\n    <tr>\n      <th>28</th>\n      <td>0.241379</td>\n      <td>0.830333</td>\n    </tr>\n    <tr>\n      <th>29</th>\n      <td>0.678161</td>\n      <td>0.036265</td>\n    </tr>\n    <tr>\n      <th>30</th>\n      <td>1.000000</td>\n      <td>0.253465</td>\n    </tr>\n    <tr>\n      <th>31</th>\n      <td>0.586207</td>\n      <td>0.576350</td>\n    </tr>\n    <tr>\n      <th>32</th>\n      <td>0.195402</td>\n      <td>0.000648</td>\n    </tr>\n    <tr>\n      <th>33</th>\n      <td>0.793103</td>\n      <td>0.853128</td>\n    </tr>\n    <tr>\n      <th>34</th>\n      <td>0.919540</td>\n      <td>0.064370</td>\n    </tr>\n    <tr>\n      <th>35</th>\n      <td>0.689655</td>\n      <td>0.889911</td>\n    </tr>\n    <tr>\n      <th>36</th>\n      <td>0.965517</td>\n      <td>0.134827</td>\n    </tr>\n    <tr>\n      <th>37</th>\n      <td>0.000000</td>\n      <td>0.091180</td>\n    </tr>\n    <tr>\n      <th>38</th>\n      <td>0.517241</td>\n      <td>0.248802</td>\n    </tr>\n    <tr>\n      <th>39</th>\n      <td>0.747126</td>\n      <td>0.285326</td>\n    </tr>\n    <tr>\n      <th>40</th>\n      <td>0.471264</td>\n      <td>0.528040</td>\n    </tr>\n    <tr>\n      <th>41</th>\n      <td>0.413793</td>\n      <td>0.000000</td>\n    </tr>\n    <tr>\n      <th>42</th>\n      <td>0.448276</td>\n      <td>0.011786</td>\n    </tr>\n    <tr>\n      <th>43</th>\n      <td>0.471264</td>\n      <td>0.029400</td>\n    </tr>\n    <tr>\n      <th>44</th>\n      <td>0.505747</td>\n      <td>0.047015</td>\n    </tr>\n    <tr>\n      <th>45</th>\n      <td>0.528736</td>\n      <td>0.064629</td>\n    </tr>\n    <tr>\n      <th>46</th>\n      <td>0.563218</td>\n      <td>0.082373</td>\n    </tr>\n    <tr>\n      <th>47</th>\n      <td>0.597701</td>\n      <td>0.099987</td>\n    </tr>\n    <tr>\n      <th>48</th>\n      <td>0.620690</td>\n      <td>0.117601</td>\n    </tr>\n  </tbody>\n</table>\n</div>"
     },
     "execution_count": 5,
     "metadata": {},
     "output_type": "execute_result"
    }
   ],
   "source": [
    "scaled_df = pd.DataFrame(scaled_df,columns=['Altura','Peso'])\n",
    "scaled_df"
   ],
   "metadata": {
    "collapsed": false,
    "ExecuteTime": {
     "start_time": "2023-04-29T23:03:28.459303Z",
     "end_time": "2023-04-29T23:03:28.571154Z"
    }
   }
  },
  {
   "cell_type": "code",
   "execution_count": 5,
   "outputs": [],
   "source": [],
   "metadata": {
    "collapsed": false,
    "ExecuteTime": {
     "start_time": "2023-04-29T23:03:28.488285Z",
     "end_time": "2023-04-29T23:03:28.572155Z"
    }
   }
  }
 ],
 "metadata": {
  "kernelspec": {
   "display_name": "Python 3",
   "language": "python",
   "name": "python3"
  },
  "language_info": {
   "codemirror_mode": {
    "name": "ipython",
    "version": 2
   },
   "file_extension": ".py",
   "mimetype": "text/x-python",
   "name": "python",
   "nbconvert_exporter": "python",
   "pygments_lexer": "ipython2",
   "version": "2.7.6"
  }
 },
 "nbformat": 4,
 "nbformat_minor": 0
}
