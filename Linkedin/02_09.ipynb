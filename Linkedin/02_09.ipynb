{
 "cells": [
  {
   "cell_type": "code",
   "execution_count": 24,
   "metadata": {
    "collapsed": true,
    "ExecuteTime": {
     "start_time": "2023-04-15T23:26:41.729676Z",
     "end_time": "2023-04-15T23:26:41.811665Z"
    }
   },
   "outputs": [],
   "source": [
    "import pandas as pd"
   ]
  },
  {
   "cell_type": "code",
   "execution_count": 25,
   "outputs": [],
   "source": [
    "df=pd.read_csv('emisiones.csv', delimiter=\";\")"
   ],
   "metadata": {
    "collapsed": false,
    "ExecuteTime": {
     "start_time": "2023-04-15T23:26:41.813664Z",
     "end_time": "2023-04-15T23:26:42.014479Z"
    }
   }
  },
  {
   "cell_type": "code",
   "execution_count": 26,
   "outputs": [
    {
     "data": {
      "text/plain": "          Marca  Motor  Cilindros  Consumo Ciudad  Consumo Carretera  CO2\n0      Delicacy    2.1          4            13.7                9.1  290\n1        Fusion    2.6          4            12.7                8.6  327\n2      Majestic    2.0          4            13.7                9.4  382\n3        Garnet    4.3          4            14.3                9.0  347\n4           Pit    3.6          4            14.6               10.4  377\n..          ...    ...        ...             ...                ...  ...\n94     Carquipo    3.7          4            16.7               10.3  248\n95         Carx    3.1          4            10.0                9.6  235\n96        Carya    3.6          4            11.5               10.2  239\n97  Picker Auto    3.9          4             9.3               11.2  230\n98     Ape Auto    2.1          4            12.2                7.2  278\n\n[99 rows x 6 columns]",
      "text/html": "<div>\n<style scoped>\n    .dataframe tbody tr th:only-of-type {\n        vertical-align: middle;\n    }\n\n    .dataframe tbody tr th {\n        vertical-align: top;\n    }\n\n    .dataframe thead th {\n        text-align: right;\n    }\n</style>\n<table border=\"1\" class=\"dataframe\">\n  <thead>\n    <tr style=\"text-align: right;\">\n      <th></th>\n      <th>Marca</th>\n      <th>Motor</th>\n      <th>Cilindros</th>\n      <th>Consumo Ciudad</th>\n      <th>Consumo Carretera</th>\n      <th>CO2</th>\n    </tr>\n  </thead>\n  <tbody>\n    <tr>\n      <th>0</th>\n      <td>Delicacy</td>\n      <td>2.1</td>\n      <td>4</td>\n      <td>13.7</td>\n      <td>9.1</td>\n      <td>290</td>\n    </tr>\n    <tr>\n      <th>1</th>\n      <td>Fusion</td>\n      <td>2.6</td>\n      <td>4</td>\n      <td>12.7</td>\n      <td>8.6</td>\n      <td>327</td>\n    </tr>\n    <tr>\n      <th>2</th>\n      <td>Majestic</td>\n      <td>2.0</td>\n      <td>4</td>\n      <td>13.7</td>\n      <td>9.4</td>\n      <td>382</td>\n    </tr>\n    <tr>\n      <th>3</th>\n      <td>Garnet</td>\n      <td>4.3</td>\n      <td>4</td>\n      <td>14.3</td>\n      <td>9.0</td>\n      <td>347</td>\n    </tr>\n    <tr>\n      <th>4</th>\n      <td>Pit</td>\n      <td>3.6</td>\n      <td>4</td>\n      <td>14.6</td>\n      <td>10.4</td>\n      <td>377</td>\n    </tr>\n    <tr>\n      <th>...</th>\n      <td>...</td>\n      <td>...</td>\n      <td>...</td>\n      <td>...</td>\n      <td>...</td>\n      <td>...</td>\n    </tr>\n    <tr>\n      <th>94</th>\n      <td>Carquipo</td>\n      <td>3.7</td>\n      <td>4</td>\n      <td>16.7</td>\n      <td>10.3</td>\n      <td>248</td>\n    </tr>\n    <tr>\n      <th>95</th>\n      <td>Carx</td>\n      <td>3.1</td>\n      <td>4</td>\n      <td>10.0</td>\n      <td>9.6</td>\n      <td>235</td>\n    </tr>\n    <tr>\n      <th>96</th>\n      <td>Carya</td>\n      <td>3.6</td>\n      <td>4</td>\n      <td>11.5</td>\n      <td>10.2</td>\n      <td>239</td>\n    </tr>\n    <tr>\n      <th>97</th>\n      <td>Picker Auto</td>\n      <td>3.9</td>\n      <td>4</td>\n      <td>9.3</td>\n      <td>11.2</td>\n      <td>230</td>\n    </tr>\n    <tr>\n      <th>98</th>\n      <td>Ape Auto</td>\n      <td>2.1</td>\n      <td>4</td>\n      <td>12.2</td>\n      <td>7.2</td>\n      <td>278</td>\n    </tr>\n  </tbody>\n</table>\n<p>99 rows × 6 columns</p>\n</div>"
     },
     "execution_count": 26,
     "metadata": {},
     "output_type": "execute_result"
    }
   ],
   "source": [
    "df"
   ],
   "metadata": {
    "collapsed": false,
    "ExecuteTime": {
     "start_time": "2023-04-15T23:26:42.020476Z",
     "end_time": "2023-04-15T23:26:42.092306Z"
    }
   }
  },
  {
   "cell_type": "code",
   "execution_count": 27,
   "outputs": [],
   "source": [
    "df=df.iloc[:,[0,1,3,2,4]]"
   ],
   "metadata": {
    "collapsed": false,
    "ExecuteTime": {
     "start_time": "2023-04-15T23:26:42.095306Z",
     "end_time": "2023-04-15T23:26:42.117292Z"
    }
   }
  },
  {
   "cell_type": "code",
   "execution_count": 27,
   "outputs": [],
   "source": [],
   "metadata": {
    "collapsed": false,
    "ExecuteTime": {
     "start_time": "2023-04-15T23:26:42.111296Z",
     "end_time": "2023-04-15T23:26:42.151273Z"
    }
   }
  },
  {
   "cell_type": "code",
   "execution_count": 28,
   "outputs": [],
   "source": [
    "new_order=['Marca','Cilindros','Motor','Consumo Carretera','Consumo Ciudad']"
   ],
   "metadata": {
    "collapsed": false,
    "ExecuteTime": {
     "start_time": "2023-04-15T23:26:42.126286Z",
     "end_time": "2023-04-15T23:26:42.213232Z"
    }
   }
  },
  {
   "cell_type": "code",
   "execution_count": 29,
   "outputs": [],
   "source": [
    "df_mod=df.reindex(columns=new_order)"
   ],
   "metadata": {
    "collapsed": false,
    "ExecuteTime": {
     "start_time": "2023-04-15T23:26:42.145275Z",
     "end_time": "2023-04-15T23:26:42.241384Z"
    }
   }
  },
  {
   "cell_type": "code",
   "execution_count": 30,
   "outputs": [
    {
     "data": {
      "text/plain": "          Marca  Cilindros  Motor  Consumo Carretera  Consumo Ciudad\n0      Delicacy          4    2.1                9.1            13.7\n1        Fusion          4    2.6                8.6            12.7\n2      Majestic          4    2.0                9.4            13.7\n3        Garnet          4    4.3                9.0            14.3\n4           Pit          4    3.6               10.4            14.6\n..          ...        ...    ...                ...             ...\n94     Carquipo          4    3.7               10.3            16.7\n95         Carx          4    3.1                9.6            10.0\n96        Carya          4    3.6               10.2            11.5\n97  Picker Auto          4    3.9               11.2             9.3\n98     Ape Auto          4    2.1                7.2            12.2\n\n[99 rows x 5 columns]",
      "text/html": "<div>\n<style scoped>\n    .dataframe tbody tr th:only-of-type {\n        vertical-align: middle;\n    }\n\n    .dataframe tbody tr th {\n        vertical-align: top;\n    }\n\n    .dataframe thead th {\n        text-align: right;\n    }\n</style>\n<table border=\"1\" class=\"dataframe\">\n  <thead>\n    <tr style=\"text-align: right;\">\n      <th></th>\n      <th>Marca</th>\n      <th>Cilindros</th>\n      <th>Motor</th>\n      <th>Consumo Carretera</th>\n      <th>Consumo Ciudad</th>\n    </tr>\n  </thead>\n  <tbody>\n    <tr>\n      <th>0</th>\n      <td>Delicacy</td>\n      <td>4</td>\n      <td>2.1</td>\n      <td>9.1</td>\n      <td>13.7</td>\n    </tr>\n    <tr>\n      <th>1</th>\n      <td>Fusion</td>\n      <td>4</td>\n      <td>2.6</td>\n      <td>8.6</td>\n      <td>12.7</td>\n    </tr>\n    <tr>\n      <th>2</th>\n      <td>Majestic</td>\n      <td>4</td>\n      <td>2.0</td>\n      <td>9.4</td>\n      <td>13.7</td>\n    </tr>\n    <tr>\n      <th>3</th>\n      <td>Garnet</td>\n      <td>4</td>\n      <td>4.3</td>\n      <td>9.0</td>\n      <td>14.3</td>\n    </tr>\n    <tr>\n      <th>4</th>\n      <td>Pit</td>\n      <td>4</td>\n      <td>3.6</td>\n      <td>10.4</td>\n      <td>14.6</td>\n    </tr>\n    <tr>\n      <th>...</th>\n      <td>...</td>\n      <td>...</td>\n      <td>...</td>\n      <td>...</td>\n      <td>...</td>\n    </tr>\n    <tr>\n      <th>94</th>\n      <td>Carquipo</td>\n      <td>4</td>\n      <td>3.7</td>\n      <td>10.3</td>\n      <td>16.7</td>\n    </tr>\n    <tr>\n      <th>95</th>\n      <td>Carx</td>\n      <td>4</td>\n      <td>3.1</td>\n      <td>9.6</td>\n      <td>10.0</td>\n    </tr>\n    <tr>\n      <th>96</th>\n      <td>Carya</td>\n      <td>4</td>\n      <td>3.6</td>\n      <td>10.2</td>\n      <td>11.5</td>\n    </tr>\n    <tr>\n      <th>97</th>\n      <td>Picker Auto</td>\n      <td>4</td>\n      <td>3.9</td>\n      <td>11.2</td>\n      <td>9.3</td>\n    </tr>\n    <tr>\n      <th>98</th>\n      <td>Ape Auto</td>\n      <td>4</td>\n      <td>2.1</td>\n      <td>7.2</td>\n      <td>12.2</td>\n    </tr>\n  </tbody>\n</table>\n<p>99 rows × 5 columns</p>\n</div>"
     },
     "execution_count": 30,
     "metadata": {},
     "output_type": "execute_result"
    }
   ],
   "source": [
    "df_mod"
   ],
   "metadata": {
    "collapsed": false,
    "ExecuteTime": {
     "start_time": "2023-04-15T23:26:42.175255Z",
     "end_time": "2023-04-15T23:26:42.242382Z"
    }
   }
  },
  {
   "cell_type": "code",
   "execution_count": 30,
   "outputs": [],
   "source": [],
   "metadata": {
    "collapsed": false,
    "ExecuteTime": {
     "start_time": "2023-04-15T23:26:42.222226Z",
     "end_time": "2023-04-15T23:26:42.242382Z"
    }
   }
  }
 ],
 "metadata": {
  "kernelspec": {
   "display_name": "Python 3",
   "language": "python",
   "name": "python3"
  },
  "language_info": {
   "codemirror_mode": {
    "name": "ipython",
    "version": 2
   },
   "file_extension": ".py",
   "mimetype": "text/x-python",
   "name": "python",
   "nbconvert_exporter": "python",
   "pygments_lexer": "ipython2",
   "version": "2.7.6"
  }
 },
 "nbformat": 4,
 "nbformat_minor": 0
}
