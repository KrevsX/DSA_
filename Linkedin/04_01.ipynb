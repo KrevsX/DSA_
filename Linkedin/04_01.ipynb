{
 "cells": [
  {
   "cell_type": "code",
   "execution_count": 5,
   "metadata": {
    "collapsed": true,
    "ExecuteTime": {
     "start_time": "2023-04-15T23:54:09.561834Z",
     "end_time": "2023-04-15T23:54:09.568828Z"
    }
   },
   "outputs": [],
   "source": [
    "import pandas as pd\n",
    "from sklearn.linear_model import LinearRegression\n",
    "from sklearn.model_selection import train_test_split"
   ]
  },
  {
   "cell_type": "code",
   "execution_count": 6,
   "outputs": [
    {
     "data": {
      "text/plain": "      Nombre       Sexo Estado_Civil  Edad  Experiencia  Salario Gerencia  \\\n0  Alexandro  Masculino   Soltero(a)    22            3     2423       No   \n1     Felipa   Femenino   Soltero(a)    26            5     2639       No   \n2     Daniel  Masculino    Casado(a)    35           10     3122       No   \n3       John  Masculino    Casado(a)    35           13     3431       Sí   \n4    Ruperta   Femenino    Casado(a)    54           18     3962       No   \n\n           Departamento  \n0            Publicidad  \n1             Comercial  \n2             Comercial  \n3  Servicios al cliente  \n4              Producto  ",
      "text/html": "<div>\n<style scoped>\n    .dataframe tbody tr th:only-of-type {\n        vertical-align: middle;\n    }\n\n    .dataframe tbody tr th {\n        vertical-align: top;\n    }\n\n    .dataframe thead th {\n        text-align: right;\n    }\n</style>\n<table border=\"1\" class=\"dataframe\">\n  <thead>\n    <tr style=\"text-align: right;\">\n      <th></th>\n      <th>Nombre</th>\n      <th>Sexo</th>\n      <th>Estado_Civil</th>\n      <th>Edad</th>\n      <th>Experiencia</th>\n      <th>Salario</th>\n      <th>Gerencia</th>\n      <th>Departamento</th>\n    </tr>\n  </thead>\n  <tbody>\n    <tr>\n      <th>0</th>\n      <td>Alexandro</td>\n      <td>Masculino</td>\n      <td>Soltero(a)</td>\n      <td>22</td>\n      <td>3</td>\n      <td>2423</td>\n      <td>No</td>\n      <td>Publicidad</td>\n    </tr>\n    <tr>\n      <th>1</th>\n      <td>Felipa</td>\n      <td>Femenino</td>\n      <td>Soltero(a)</td>\n      <td>26</td>\n      <td>5</td>\n      <td>2639</td>\n      <td>No</td>\n      <td>Comercial</td>\n    </tr>\n    <tr>\n      <th>2</th>\n      <td>Daniel</td>\n      <td>Masculino</td>\n      <td>Casado(a)</td>\n      <td>35</td>\n      <td>10</td>\n      <td>3122</td>\n      <td>No</td>\n      <td>Comercial</td>\n    </tr>\n    <tr>\n      <th>3</th>\n      <td>John</td>\n      <td>Masculino</td>\n      <td>Casado(a)</td>\n      <td>35</td>\n      <td>13</td>\n      <td>3431</td>\n      <td>Sí</td>\n      <td>Servicios al cliente</td>\n    </tr>\n    <tr>\n      <th>4</th>\n      <td>Ruperta</td>\n      <td>Femenino</td>\n      <td>Casado(a)</td>\n      <td>54</td>\n      <td>18</td>\n      <td>3962</td>\n      <td>No</td>\n      <td>Producto</td>\n    </tr>\n  </tbody>\n</table>\n</div>"
     },
     "execution_count": 6,
     "metadata": {},
     "output_type": "execute_result"
    }
   ],
   "source": [
    "df=pd.read_csv('0401empleados.csv', delimiter=\";\")\n",
    "df.head()"
   ],
   "metadata": {
    "collapsed": false,
    "ExecuteTime": {
     "start_time": "2023-04-15T23:54:36.698430Z",
     "end_time": "2023-04-15T23:54:36.735408Z"
    }
   }
  },
  {
   "cell_type": "code",
   "execution_count": 8,
   "outputs": [],
   "source": [
    "y=df['Salario'].values.reshape(-1,1)\n",
    "X=df['Experiencia'].values.reshape(-1,1)\n"
   ],
   "metadata": {
    "collapsed": false,
    "ExecuteTime": {
     "start_time": "2023-04-16T00:00:31.598207Z",
     "end_time": "2023-04-16T00:00:31.618195Z"
    }
   }
  },
  {
   "cell_type": "code",
   "execution_count": 9,
   "outputs": [],
   "source": [
    "xtrain, xtest,ytrain, ytest = train_test_split(X, y, test_size=0.20)"
   ],
   "metadata": {
    "collapsed": false,
    "ExecuteTime": {
     "start_time": "2023-04-16T00:01:39.048121Z",
     "end_time": "2023-04-16T00:01:39.065108Z"
    }
   }
  },
  {
   "cell_type": "code",
   "execution_count": 10,
   "outputs": [],
   "source": [
    "linearRe= LinearRegression()"
   ],
   "metadata": {
    "collapsed": false,
    "ExecuteTime": {
     "start_time": "2023-04-16T00:01:46.767468Z",
     "end_time": "2023-04-16T00:01:46.782460Z"
    }
   }
  },
  {
   "cell_type": "code",
   "execution_count": 12,
   "outputs": [
    {
     "name": "stdout",
     "output_type": "stream",
     "text": [
      "Coeficiente de Regresion:  [[108.67663992]]\n",
      "Puntaje de Regresion:  0.9863736704887326\n"
     ]
    }
   ],
   "source": [
    "linearRe.fit(xtrain, ytrain)\n",
    "\n",
    "print('Coeficiente de Regresion: ', linearRe.coef_)\n",
    "print('Puntaje de Regresion: ', linearRe.score(xtest, ytest))"
   ],
   "metadata": {
    "collapsed": false,
    "ExecuteTime": {
     "start_time": "2023-04-16T00:03:56.043257Z",
     "end_time": "2023-04-16T00:03:57.671253Z"
    }
   }
  },
  {
   "cell_type": "code",
   "execution_count": null,
   "outputs": [],
   "source": [],
   "metadata": {
    "collapsed": false
   }
  }
 ],
 "metadata": {
  "kernelspec": {
   "display_name": "Python 3",
   "language": "python",
   "name": "python3"
  },
  "language_info": {
   "codemirror_mode": {
    "name": "ipython",
    "version": 2
   },
   "file_extension": ".py",
   "mimetype": "text/x-python",
   "name": "python",
   "nbconvert_exporter": "python",
   "pygments_lexer": "ipython2",
   "version": "2.7.6"
  }
 },
 "nbformat": 4,
 "nbformat_minor": 0
}
