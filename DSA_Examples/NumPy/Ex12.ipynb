{
 "cells": [
  {
   "cell_type": "code",
   "execution_count": 13,
   "metadata": {
    "collapsed": true,
    "ExecuteTime": {
     "start_time": "2023-05-30T18:45:15.709291Z",
     "end_time": "2023-05-30T18:45:15.955814Z"
    }
   },
   "outputs": [],
   "source": [
    "import pandas as pd"
   ]
  },
  {
   "cell_type": "code",
   "execution_count": 14,
   "outputs": [],
   "source": [
    "df=pd.read_csv('0401empleados.csv', delimiter=\";\")"
   ],
   "metadata": {
    "collapsed": false,
    "ExecuteTime": {
     "start_time": "2023-05-30T18:45:15.780256Z",
     "end_time": "2023-05-30T18:45:15.979800Z"
    }
   }
  },
  {
   "cell_type": "code",
   "execution_count": 15,
   "outputs": [
    {
     "data": {
      "text/plain": "      Nombre       Sexo Estado_Civil  Edad  Experiencia  Salario Gerencia  \\\n0  Alexandro  Masculino   Soltero(a)    22            3     2423       No   \n1     Felipa   Femenino   Soltero(a)    26            5     2639       No   \n2     Daniel  Masculino    Casado(a)    35           10     3122       No   \n3       John  Masculino    Casado(a)    35           13     3431       Sí   \n4    Ruperta   Femenino    Casado(a)    54           18     3962       No   \n\n           Departamento  \n0            Publicidad  \n1             Comercial  \n2             Comercial  \n3  Servicios al cliente  \n4              Producto  ",
      "text/html": "<div>\n<style scoped>\n    .dataframe tbody tr th:only-of-type {\n        vertical-align: middle;\n    }\n\n    .dataframe tbody tr th {\n        vertical-align: top;\n    }\n\n    .dataframe thead th {\n        text-align: right;\n    }\n</style>\n<table border=\"1\" class=\"dataframe\">\n  <thead>\n    <tr style=\"text-align: right;\">\n      <th></th>\n      <th>Nombre</th>\n      <th>Sexo</th>\n      <th>Estado_Civil</th>\n      <th>Edad</th>\n      <th>Experiencia</th>\n      <th>Salario</th>\n      <th>Gerencia</th>\n      <th>Departamento</th>\n    </tr>\n  </thead>\n  <tbody>\n    <tr>\n      <th>0</th>\n      <td>Alexandro</td>\n      <td>Masculino</td>\n      <td>Soltero(a)</td>\n      <td>22</td>\n      <td>3</td>\n      <td>2423</td>\n      <td>No</td>\n      <td>Publicidad</td>\n    </tr>\n    <tr>\n      <th>1</th>\n      <td>Felipa</td>\n      <td>Femenino</td>\n      <td>Soltero(a)</td>\n      <td>26</td>\n      <td>5</td>\n      <td>2639</td>\n      <td>No</td>\n      <td>Comercial</td>\n    </tr>\n    <tr>\n      <th>2</th>\n      <td>Daniel</td>\n      <td>Masculino</td>\n      <td>Casado(a)</td>\n      <td>35</td>\n      <td>10</td>\n      <td>3122</td>\n      <td>No</td>\n      <td>Comercial</td>\n    </tr>\n    <tr>\n      <th>3</th>\n      <td>John</td>\n      <td>Masculino</td>\n      <td>Casado(a)</td>\n      <td>35</td>\n      <td>13</td>\n      <td>3431</td>\n      <td>Sí</td>\n      <td>Servicios al cliente</td>\n    </tr>\n    <tr>\n      <th>4</th>\n      <td>Ruperta</td>\n      <td>Femenino</td>\n      <td>Casado(a)</td>\n      <td>54</td>\n      <td>18</td>\n      <td>3962</td>\n      <td>No</td>\n      <td>Producto</td>\n    </tr>\n  </tbody>\n</table>\n</div>"
     },
     "execution_count": 15,
     "metadata": {},
     "output_type": "execute_result"
    }
   ],
   "source": [
    "df.head()"
   ],
   "metadata": {
    "collapsed": false,
    "ExecuteTime": {
     "start_time": "2023-05-30T18:45:15.948819Z",
     "end_time": "2023-05-30T18:45:15.995790Z"
    }
   }
  },
  {
   "cell_type": "code",
   "execution_count": 16,
   "outputs": [],
   "source": [
    "df.set_index(['Experiencia','Salario'],inplace=True)"
   ],
   "metadata": {
    "collapsed": false,
    "ExecuteTime": {
     "start_time": "2023-05-30T18:45:15.991794Z",
     "end_time": "2023-05-30T18:45:16.093800Z"
    }
   }
  },
  {
   "cell_type": "code",
   "execution_count": 17,
   "outputs": [
    {
     "data": {
      "text/plain": "MultiIndex([( 3, 2423),\n            ( 5, 2639),\n            (10, 3122),\n            (13, 3431),\n            (18, 3962),\n            ( 4, 2564),\n            ( 6, 2709),\n            (24, 4532),\n            ( 1, 1977),\n            ( 8, 2953),\n            ...\n            ( 1, 1904),\n            ( 4, 2507),\n            (14, 3532),\n            ( 4, 2546),\n            ( 1, 1964),\n            ( 4, 2510),\n            ( 4, 2530),\n            ( 6, 2760),\n            (15, 3616),\n            (11, 3245)],\n           names=['Experiencia', 'Salario'], length=143)"
     },
     "execution_count": 17,
     "metadata": {},
     "output_type": "execute_result"
    }
   ],
   "source": [
    "df.index"
   ],
   "metadata": {
    "collapsed": false,
    "ExecuteTime": {
     "start_time": "2023-05-30T18:45:16.038764Z",
     "end_time": "2023-05-30T18:45:16.093800Z"
    }
   }
  },
  {
   "cell_type": "code",
   "execution_count": 18,
   "outputs": [
    {
     "data": {
      "text/plain": "Index(['Nombre', 'Sexo', 'Estado_Civil', 'Edad', 'Gerencia', 'Departamento'], dtype='object')"
     },
     "execution_count": 18,
     "metadata": {},
     "output_type": "execute_result"
    }
   ],
   "source": [
    "\n",
    "df.columns"
   ],
   "metadata": {
    "collapsed": false,
    "ExecuteTime": {
     "start_time": "2023-05-30T18:45:16.071297Z",
     "end_time": "2023-05-30T18:45:16.094803Z"
    }
   }
  }
 ],
 "metadata": {
  "kernelspec": {
   "display_name": "Python 3",
   "language": "python",
   "name": "python3"
  },
  "language_info": {
   "codemirror_mode": {
    "name": "ipython",
    "version": 2
   },
   "file_extension": ".py",
   "mimetype": "text/x-python",
   "name": "python",
   "nbconvert_exporter": "python",
   "pygments_lexer": "ipython2",
   "version": "2.7.6"
  }
 },
 "nbformat": 4,
 "nbformat_minor": 0
}
