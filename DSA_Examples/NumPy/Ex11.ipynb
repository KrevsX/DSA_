{
 "cells": [
  {
   "cell_type": "code",
   "execution_count": 32,
   "metadata": {
    "collapsed": true,
    "ExecuteTime": {
     "start_time": "2023-04-30T23:13:08.780568Z",
     "end_time": "2023-04-30T23:13:08.837751Z"
    }
   },
   "outputs": [],
   "source": [
    "import pandas as pd"
   ]
  },
  {
   "cell_type": "code",
   "execution_count": 33,
   "outputs": [],
   "source": [
    "df=pd.DataFrame()"
   ],
   "metadata": {
    "collapsed": false,
    "ExecuteTime": {
     "start_time": "2023-04-30T23:13:08.794559Z",
     "end_time": "2023-04-30T23:13:08.837751Z"
    }
   }
  },
  {
   "cell_type": "code",
   "execution_count": 34,
   "outputs": [
    {
     "data": {
      "text/plain": "pandas.core.frame.DataFrame"
     },
     "execution_count": 34,
     "metadata": {},
     "output_type": "execute_result"
    }
   ],
   "source": [
    "type(df)"
   ],
   "metadata": {
    "collapsed": false,
    "ExecuteTime": {
     "start_time": "2023-04-30T23:13:08.824758Z",
     "end_time": "2023-04-30T23:13:08.853741Z"
    }
   }
  },
  {
   "cell_type": "code",
   "execution_count": 35,
   "outputs": [],
   "source": [
    "df=pd.read_csv('0401empleados.csv',delimiter=\";\")"
   ],
   "metadata": {
    "collapsed": false,
    "ExecuteTime": {
     "start_time": "2023-04-30T23:13:08.842748Z",
     "end_time": "2023-04-30T23:13:08.912706Z"
    }
   }
  },
  {
   "cell_type": "code",
   "execution_count": 36,
   "outputs": [
    {
     "data": {
      "text/plain": "        Nombre       Sexo   Estado_Civil  Edad  Experiencia  Salario Gerencia  \\\n0    Alexandro  Masculino     Soltero(a)    22            3     2423       No   \n1       Felipa   Femenino     Soltero(a)    26            5     2639       No   \n2       Daniel  Masculino      Casado(a)    35           10     3122       No   \n3         John  Masculino      Casado(a)    35           13     3431       Sí   \n4      Ruperta   Femenino      Casado(a)    54           18     3962       No   \n..         ...        ...            ...   ...          ...      ...      ...   \n138   Hernando  Masculino  Divorciado(a)    29            4     2510       No   \n139       Vito  Masculino  Divorciado(a)    22            4     2530       No   \n140       Jose  Masculino      Casado(a)    30            6     2760       No   \n141    Marcelo  Masculino  Divorciado(a)    44           15     3616       No   \n142    Leandro  Masculino      Casado(a)    37           11     3245       No   \n\n             Departamento  \n0              Publicidad  \n1               Comercial  \n2               Comercial  \n3    Servicios al cliente  \n4                Producto  \n..                    ...  \n138                    IT  \n139              Producto  \n140  Servicios al cliente  \n141                    IT  \n142              Finanzas  \n\n[143 rows x 8 columns]",
      "text/html": "<div>\n<style scoped>\n    .dataframe tbody tr th:only-of-type {\n        vertical-align: middle;\n    }\n\n    .dataframe tbody tr th {\n        vertical-align: top;\n    }\n\n    .dataframe thead th {\n        text-align: right;\n    }\n</style>\n<table border=\"1\" class=\"dataframe\">\n  <thead>\n    <tr style=\"text-align: right;\">\n      <th></th>\n      <th>Nombre</th>\n      <th>Sexo</th>\n      <th>Estado_Civil</th>\n      <th>Edad</th>\n      <th>Experiencia</th>\n      <th>Salario</th>\n      <th>Gerencia</th>\n      <th>Departamento</th>\n    </tr>\n  </thead>\n  <tbody>\n    <tr>\n      <th>0</th>\n      <td>Alexandro</td>\n      <td>Masculino</td>\n      <td>Soltero(a)</td>\n      <td>22</td>\n      <td>3</td>\n      <td>2423</td>\n      <td>No</td>\n      <td>Publicidad</td>\n    </tr>\n    <tr>\n      <th>1</th>\n      <td>Felipa</td>\n      <td>Femenino</td>\n      <td>Soltero(a)</td>\n      <td>26</td>\n      <td>5</td>\n      <td>2639</td>\n      <td>No</td>\n      <td>Comercial</td>\n    </tr>\n    <tr>\n      <th>2</th>\n      <td>Daniel</td>\n      <td>Masculino</td>\n      <td>Casado(a)</td>\n      <td>35</td>\n      <td>10</td>\n      <td>3122</td>\n      <td>No</td>\n      <td>Comercial</td>\n    </tr>\n    <tr>\n      <th>3</th>\n      <td>John</td>\n      <td>Masculino</td>\n      <td>Casado(a)</td>\n      <td>35</td>\n      <td>13</td>\n      <td>3431</td>\n      <td>Sí</td>\n      <td>Servicios al cliente</td>\n    </tr>\n    <tr>\n      <th>4</th>\n      <td>Ruperta</td>\n      <td>Femenino</td>\n      <td>Casado(a)</td>\n      <td>54</td>\n      <td>18</td>\n      <td>3962</td>\n      <td>No</td>\n      <td>Producto</td>\n    </tr>\n    <tr>\n      <th>...</th>\n      <td>...</td>\n      <td>...</td>\n      <td>...</td>\n      <td>...</td>\n      <td>...</td>\n      <td>...</td>\n      <td>...</td>\n      <td>...</td>\n    </tr>\n    <tr>\n      <th>138</th>\n      <td>Hernando</td>\n      <td>Masculino</td>\n      <td>Divorciado(a)</td>\n      <td>29</td>\n      <td>4</td>\n      <td>2510</td>\n      <td>No</td>\n      <td>IT</td>\n    </tr>\n    <tr>\n      <th>139</th>\n      <td>Vito</td>\n      <td>Masculino</td>\n      <td>Divorciado(a)</td>\n      <td>22</td>\n      <td>4</td>\n      <td>2530</td>\n      <td>No</td>\n      <td>Producto</td>\n    </tr>\n    <tr>\n      <th>140</th>\n      <td>Jose</td>\n      <td>Masculino</td>\n      <td>Casado(a)</td>\n      <td>30</td>\n      <td>6</td>\n      <td>2760</td>\n      <td>No</td>\n      <td>Servicios al cliente</td>\n    </tr>\n    <tr>\n      <th>141</th>\n      <td>Marcelo</td>\n      <td>Masculino</td>\n      <td>Divorciado(a)</td>\n      <td>44</td>\n      <td>15</td>\n      <td>3616</td>\n      <td>No</td>\n      <td>IT</td>\n    </tr>\n    <tr>\n      <th>142</th>\n      <td>Leandro</td>\n      <td>Masculino</td>\n      <td>Casado(a)</td>\n      <td>37</td>\n      <td>11</td>\n      <td>3245</td>\n      <td>No</td>\n      <td>Finanzas</td>\n    </tr>\n  </tbody>\n</table>\n<p>143 rows × 8 columns</p>\n</div>"
     },
     "execution_count": 36,
     "metadata": {},
     "output_type": "execute_result"
    }
   ],
   "source": [
    "df\n"
   ],
   "metadata": {
    "collapsed": false,
    "ExecuteTime": {
     "start_time": "2023-04-30T23:13:08.887720Z",
     "end_time": "2023-04-30T23:13:08.934691Z"
    }
   }
  },
  {
   "cell_type": "code",
   "execution_count": 37,
   "outputs": [
    {
     "data": {
      "text/plain": "      Nombre       Sexo Estado_Civil  Edad  Experiencia  Salario Gerencia  \\\n0  Alexandro  Masculino   Soltero(a)    22            3     2423       No   \n1     Felipa   Femenino   Soltero(a)    26            5     2639       No   \n2     Daniel  Masculino    Casado(a)    35           10     3122       No   \n3       John  Masculino    Casado(a)    35           13     3431       Sí   \n4    Ruperta   Femenino    Casado(a)    54           18     3962       No   \n\n           Departamento  \n0            Publicidad  \n1             Comercial  \n2             Comercial  \n3  Servicios al cliente  \n4              Producto  ",
      "text/html": "<div>\n<style scoped>\n    .dataframe tbody tr th:only-of-type {\n        vertical-align: middle;\n    }\n\n    .dataframe tbody tr th {\n        vertical-align: top;\n    }\n\n    .dataframe thead th {\n        text-align: right;\n    }\n</style>\n<table border=\"1\" class=\"dataframe\">\n  <thead>\n    <tr style=\"text-align: right;\">\n      <th></th>\n      <th>Nombre</th>\n      <th>Sexo</th>\n      <th>Estado_Civil</th>\n      <th>Edad</th>\n      <th>Experiencia</th>\n      <th>Salario</th>\n      <th>Gerencia</th>\n      <th>Departamento</th>\n    </tr>\n  </thead>\n  <tbody>\n    <tr>\n      <th>0</th>\n      <td>Alexandro</td>\n      <td>Masculino</td>\n      <td>Soltero(a)</td>\n      <td>22</td>\n      <td>3</td>\n      <td>2423</td>\n      <td>No</td>\n      <td>Publicidad</td>\n    </tr>\n    <tr>\n      <th>1</th>\n      <td>Felipa</td>\n      <td>Femenino</td>\n      <td>Soltero(a)</td>\n      <td>26</td>\n      <td>5</td>\n      <td>2639</td>\n      <td>No</td>\n      <td>Comercial</td>\n    </tr>\n    <tr>\n      <th>2</th>\n      <td>Daniel</td>\n      <td>Masculino</td>\n      <td>Casado(a)</td>\n      <td>35</td>\n      <td>10</td>\n      <td>3122</td>\n      <td>No</td>\n      <td>Comercial</td>\n    </tr>\n    <tr>\n      <th>3</th>\n      <td>John</td>\n      <td>Masculino</td>\n      <td>Casado(a)</td>\n      <td>35</td>\n      <td>13</td>\n      <td>3431</td>\n      <td>Sí</td>\n      <td>Servicios al cliente</td>\n    </tr>\n    <tr>\n      <th>4</th>\n      <td>Ruperta</td>\n      <td>Femenino</td>\n      <td>Casado(a)</td>\n      <td>54</td>\n      <td>18</td>\n      <td>3962</td>\n      <td>No</td>\n      <td>Producto</td>\n    </tr>\n  </tbody>\n</table>\n</div>"
     },
     "execution_count": 37,
     "metadata": {},
     "output_type": "execute_result"
    }
   ],
   "source": [
    "df.head()"
   ],
   "metadata": {
    "collapsed": false,
    "ExecuteTime": {
     "start_time": "2023-04-30T23:13:08.934691Z",
     "end_time": "2023-04-30T23:13:09.024636Z"
    }
   }
  },
  {
   "cell_type": "code",
   "execution_count": 38,
   "outputs": [
    {
     "data": {
      "text/plain": "       Nombre       Sexo   Estado_Civil  Edad  Experiencia  Salario Gerencia  \\\n138  Hernando  Masculino  Divorciado(a)    29            4     2510       No   \n139      Vito  Masculino  Divorciado(a)    22            4     2530       No   \n140      Jose  Masculino      Casado(a)    30            6     2760       No   \n141   Marcelo  Masculino  Divorciado(a)    44           15     3616       No   \n142   Leandro  Masculino      Casado(a)    37           11     3245       No   \n\n             Departamento  \n138                    IT  \n139              Producto  \n140  Servicios al cliente  \n141                    IT  \n142              Finanzas  ",
      "text/html": "<div>\n<style scoped>\n    .dataframe tbody tr th:only-of-type {\n        vertical-align: middle;\n    }\n\n    .dataframe tbody tr th {\n        vertical-align: top;\n    }\n\n    .dataframe thead th {\n        text-align: right;\n    }\n</style>\n<table border=\"1\" class=\"dataframe\">\n  <thead>\n    <tr style=\"text-align: right;\">\n      <th></th>\n      <th>Nombre</th>\n      <th>Sexo</th>\n      <th>Estado_Civil</th>\n      <th>Edad</th>\n      <th>Experiencia</th>\n      <th>Salario</th>\n      <th>Gerencia</th>\n      <th>Departamento</th>\n    </tr>\n  </thead>\n  <tbody>\n    <tr>\n      <th>138</th>\n      <td>Hernando</td>\n      <td>Masculino</td>\n      <td>Divorciado(a)</td>\n      <td>29</td>\n      <td>4</td>\n      <td>2510</td>\n      <td>No</td>\n      <td>IT</td>\n    </tr>\n    <tr>\n      <th>139</th>\n      <td>Vito</td>\n      <td>Masculino</td>\n      <td>Divorciado(a)</td>\n      <td>22</td>\n      <td>4</td>\n      <td>2530</td>\n      <td>No</td>\n      <td>Producto</td>\n    </tr>\n    <tr>\n      <th>140</th>\n      <td>Jose</td>\n      <td>Masculino</td>\n      <td>Casado(a)</td>\n      <td>30</td>\n      <td>6</td>\n      <td>2760</td>\n      <td>No</td>\n      <td>Servicios al cliente</td>\n    </tr>\n    <tr>\n      <th>141</th>\n      <td>Marcelo</td>\n      <td>Masculino</td>\n      <td>Divorciado(a)</td>\n      <td>44</td>\n      <td>15</td>\n      <td>3616</td>\n      <td>No</td>\n      <td>IT</td>\n    </tr>\n    <tr>\n      <th>142</th>\n      <td>Leandro</td>\n      <td>Masculino</td>\n      <td>Casado(a)</td>\n      <td>37</td>\n      <td>11</td>\n      <td>3245</td>\n      <td>No</td>\n      <td>Finanzas</td>\n    </tr>\n  </tbody>\n</table>\n</div>"
     },
     "execution_count": 38,
     "metadata": {},
     "output_type": "execute_result"
    }
   ],
   "source": [
    "df.tail()"
   ],
   "metadata": {
    "collapsed": false,
    "ExecuteTime": {
     "start_time": "2023-04-30T23:13:08.965672Z",
     "end_time": "2023-04-30T23:13:09.042625Z"
    }
   }
  },
  {
   "cell_type": "code",
   "execution_count": 39,
   "outputs": [
    {
     "data": {
      "text/plain": "      Nombre       Sexo Estado_Civil  Edad  Experiencia  Salario Gerencia  \\\n0  Alexandro  Masculino   Soltero(a)    22            3     2423       No   \n1     Felipa   Femenino   Soltero(a)    26            5     2639       No   \n\n  Departamento  \n0   Publicidad  \n1    Comercial  ",
      "text/html": "<div>\n<style scoped>\n    .dataframe tbody tr th:only-of-type {\n        vertical-align: middle;\n    }\n\n    .dataframe tbody tr th {\n        vertical-align: top;\n    }\n\n    .dataframe thead th {\n        text-align: right;\n    }\n</style>\n<table border=\"1\" class=\"dataframe\">\n  <thead>\n    <tr style=\"text-align: right;\">\n      <th></th>\n      <th>Nombre</th>\n      <th>Sexo</th>\n      <th>Estado_Civil</th>\n      <th>Edad</th>\n      <th>Experiencia</th>\n      <th>Salario</th>\n      <th>Gerencia</th>\n      <th>Departamento</th>\n    </tr>\n  </thead>\n  <tbody>\n    <tr>\n      <th>0</th>\n      <td>Alexandro</td>\n      <td>Masculino</td>\n      <td>Soltero(a)</td>\n      <td>22</td>\n      <td>3</td>\n      <td>2423</td>\n      <td>No</td>\n      <td>Publicidad</td>\n    </tr>\n    <tr>\n      <th>1</th>\n      <td>Felipa</td>\n      <td>Femenino</td>\n      <td>Soltero(a)</td>\n      <td>26</td>\n      <td>5</td>\n      <td>2639</td>\n      <td>No</td>\n      <td>Comercial</td>\n    </tr>\n  </tbody>\n</table>\n</div>"
     },
     "execution_count": 39,
     "metadata": {},
     "output_type": "execute_result"
    }
   ],
   "source": [
    "df.head(2)"
   ],
   "metadata": {
    "collapsed": false,
    "ExecuteTime": {
     "start_time": "2023-04-30T23:13:08.995655Z",
     "end_time": "2023-04-30T23:13:09.083600Z"
    }
   }
  },
  {
   "cell_type": "code",
   "execution_count": 40,
   "outputs": [
    {
     "data": {
      "text/plain": "      Nombre       Sexo   Estado_Civil  Edad  Experiencia  Salario Gerencia  \\\n141  Marcelo  Masculino  Divorciado(a)    44           15     3616       No   \n142  Leandro  Masculino      Casado(a)    37           11     3245       No   \n\n    Departamento  \n141           IT  \n142     Finanzas  ",
      "text/html": "<div>\n<style scoped>\n    .dataframe tbody tr th:only-of-type {\n        vertical-align: middle;\n    }\n\n    .dataframe tbody tr th {\n        vertical-align: top;\n    }\n\n    .dataframe thead th {\n        text-align: right;\n    }\n</style>\n<table border=\"1\" class=\"dataframe\">\n  <thead>\n    <tr style=\"text-align: right;\">\n      <th></th>\n      <th>Nombre</th>\n      <th>Sexo</th>\n      <th>Estado_Civil</th>\n      <th>Edad</th>\n      <th>Experiencia</th>\n      <th>Salario</th>\n      <th>Gerencia</th>\n      <th>Departamento</th>\n    </tr>\n  </thead>\n  <tbody>\n    <tr>\n      <th>141</th>\n      <td>Marcelo</td>\n      <td>Masculino</td>\n      <td>Divorciado(a)</td>\n      <td>44</td>\n      <td>15</td>\n      <td>3616</td>\n      <td>No</td>\n      <td>IT</td>\n    </tr>\n    <tr>\n      <th>142</th>\n      <td>Leandro</td>\n      <td>Masculino</td>\n      <td>Casado(a)</td>\n      <td>37</td>\n      <td>11</td>\n      <td>3245</td>\n      <td>No</td>\n      <td>Finanzas</td>\n    </tr>\n  </tbody>\n</table>\n</div>"
     },
     "execution_count": 40,
     "metadata": {},
     "output_type": "execute_result"
    }
   ],
   "source": [
    "df.tail(2)"
   ],
   "metadata": {
    "collapsed": false,
    "ExecuteTime": {
     "start_time": "2023-04-30T23:13:09.026634Z",
     "end_time": "2023-04-30T23:13:09.163554Z"
    }
   }
  },
  {
   "cell_type": "code",
   "execution_count": 41,
   "outputs": [
    {
     "data": {
      "text/plain": "Nombre           Alexandro\nSexo             Masculino\nEstado_Civil    Soltero(a)\nEdad                    22\nExperiencia              3\nSalario               2423\nGerencia                No\nDepartamento    Publicidad\nName: 0, dtype: object"
     },
     "execution_count": 41,
     "metadata": {},
     "output_type": "execute_result"
    }
   ],
   "source": [
    "df.iloc[0]"
   ],
   "metadata": {
    "collapsed": false,
    "ExecuteTime": {
     "start_time": "2023-04-30T23:13:09.061613Z",
     "end_time": "2023-04-30T23:13:09.171545Z"
    }
   }
  },
  {
   "cell_type": "code",
   "execution_count": 42,
   "outputs": [
    {
     "data": {
      "text/plain": "Nombre                          John\nSexo                       Masculino\nEstado_Civil               Casado(a)\nEdad                              35\nExperiencia                       13\nSalario                         3431\nGerencia                          Sí\nDepartamento    Servicios al cliente\nName: 3, dtype: object"
     },
     "execution_count": 42,
     "metadata": {},
     "output_type": "execute_result"
    }
   ],
   "source": [
    "df.iloc[3]"
   ],
   "metadata": {
    "collapsed": false,
    "ExecuteTime": {
     "start_time": "2023-04-30T23:13:09.088597Z",
     "end_time": "2023-04-30T23:13:09.305462Z"
    }
   }
  },
  {
   "cell_type": "code",
   "execution_count": 43,
   "outputs": [
    {
     "data": {
      "text/plain": "array([['Alexandro', 'Masculino', 'Soltero(a)', ..., 2423, 'No',\n        'Publicidad'],\n       ['Felipa', 'Femenino', 'Soltero(a)', ..., 2639, 'No', 'Comercial'],\n       ['Daniel', 'Masculino', 'Casado(a)', ..., 3122, 'No', 'Comercial'],\n       ...,\n       ['Jose', 'Masculino', 'Casado(a)', ..., 2760, 'No',\n        'Servicios al cliente'],\n       ['Marcelo', 'Masculino', 'Divorciado(a)', ..., 3616, 'No', 'IT'],\n       ['Leandro', 'Masculino', 'Casado(a)', ..., 3245, 'No', 'Finanzas']],\n      dtype=object)"
     },
     "execution_count": 43,
     "metadata": {},
     "output_type": "execute_result"
    }
   ],
   "source": [
    "df.values"
   ],
   "metadata": {
    "collapsed": false,
    "ExecuteTime": {
     "start_time": "2023-04-30T23:13:09.119577Z",
     "end_time": "2023-04-30T23:13:09.365425Z"
    }
   }
  },
  {
   "cell_type": "code",
   "execution_count": 44,
   "outputs": [],
   "source": [
    "df=pd.read_csv('0401empleados.csv',delimiter=\";\", chunksize=2)"
   ],
   "metadata": {
    "collapsed": false,
    "ExecuteTime": {
     "start_time": "2023-04-30T23:13:09.151559Z",
     "end_time": "2023-04-30T23:13:09.366429Z"
    }
   }
  },
  {
   "cell_type": "code",
   "execution_count": 45,
   "outputs": [
    {
     "name": "stdout",
     "output_type": "stream",
     "text": [
      "      Nombre       Sexo Estado_Civil  Edad  Experiencia  Salario Gerencia  \\\n",
      "0  Alexandro  Masculino   Soltero(a)    22            3     2423       No   \n",
      "1     Felipa   Femenino   Soltero(a)    26            5     2639       No   \n",
      "\n",
      "  Departamento  \n",
      "0   Publicidad  \n",
      "1    Comercial  \n",
      "   Nombre       Sexo Estado_Civil  Edad  Experiencia  Salario Gerencia  \\\n",
      "2  Daniel  Masculino    Casado(a)    35           10     3122       No   \n",
      "3    John  Masculino    Casado(a)    35           13     3431       Sí   \n",
      "\n",
      "           Departamento  \n",
      "2             Comercial  \n",
      "3  Servicios al cliente  \n",
      "      Nombre      Sexo Estado_Civil  Edad  Experiencia  Salario Gerencia  \\\n",
      "4    Ruperta  Femenino    Casado(a)    54           18     3962       No   \n",
      "5  Francisca  Femenino   Soltero(a)    27            4     2564       No   \n",
      "\n",
      "  Departamento  \n",
      "4     Producto  \n",
      "5           IT  \n",
      "   Nombre      Sexo Estado_Civil  Edad  Experiencia  Salario Gerencia  \\\n",
      "6  Selena  Femenino    Casado(a)    24            6     2709       Sí   \n",
      "7  Ximena  Femenino   Soltero(a)    58           24     4532       No   \n",
      "\n",
      "   Departamento  \n",
      "6  Contabilidad  \n",
      "7         Legal  \n",
      "  Nombre       Sexo   Estado_Civil  Edad  Experiencia  Salario Gerencia  \\\n",
      "8  David  Masculino  Divorciado(a)    20            1     1977       No   \n",
      "9    Max  Masculino  Divorciado(a)    39            8     2953       No   \n",
      "\n",
      "       Departamento  \n",
      "8  Recursos Humanos  \n",
      "9            Ventas  \n",
      "   Nombre       Sexo   Estado_Civil  Edad  Experiencia  Salario Gerencia  \\\n",
      "10  Paula   Femenino  Divorciado(a)    55           12     3306       No   \n",
      "11    Tim  Masculino  Divorciado(a)    22            4     2518       No   \n",
      "\n",
      "        Departamento  \n",
      "10          Producto  \n",
      "11  Recursos Humanos  \n",
      "    Nombre       Sexo Estado_Civil  Edad  Experiencia  Salario Gerencia  \\\n",
      "12  Gloria   Femenino    Casado(a)    31           11     3267       No   \n",
      "13   Jesse  Masculino   Soltero(a)    34           11     3257       No   \n",
      "\n",
      "            Departamento  \n",
      "12  Servicios al cliente  \n",
      "13            Publicidad  \n",
      "    Nombre       Sexo Estado_Civil  Edad  Experiencia  Salario Gerencia  \\\n",
      "14  Ronald  Masculino   Soltero(a)    23            5     2695       No   \n",
      "15  Manola   Femenino   Soltero(a)    40            9     3023       No   \n",
      "\n",
      "            Departamento  \n",
      "14  Servicios al cliente  \n",
      "15                    IT  \n",
      "      Nombre       Sexo Estado_Civil  Edad  Experiencia  Salario Gerencia  \\\n",
      "16   Isabela   Femenino    Casado(a)    66           12     3344       No   \n",
      "17  Herberto  Masculino    Casado(a)    28            3     2391       No   \n",
      "\n",
      "            Departamento  \n",
      "16          Contabilidad  \n",
      "17  Servicios al cliente  \n",
      "      Nombre      Sexo   Estado_Civil  Edad  Experiencia  Salario Gerencia  \\\n",
      "18     Lilia  Femenino  Divorciado(a)    42           16     3796       No   \n",
      "19  Agustina  Femenino      Casado(a)    21            3     2371       No   \n",
      "\n",
      "            Departamento  \n",
      "18                Ventas  \n",
      "19  Servicios al cliente  \n",
      "     Nombre       Sexo   Estado_Civil  Edad  Experiencia  Salario Gerencia  \\\n",
      "20  Anselma   Femenino      Casado(a)    18            0     1887       No   \n",
      "21    Lucho  Masculino  Divorciado(a)    40            3     2385       No   \n",
      "\n",
      "    Departamento  \n",
      "20  Contabilidad  \n",
      "21      Finanzas  \n",
      "       Nombre      Sexo Estado_Civil  Edad  Experiencia  Salario Gerencia  \\\n",
      "22  Maristela  Femenino   Soltero(a)    38           11     3256       No   \n",
      "23   Gabriela  Femenino   Soltero(a)    19            1     1985       No   \n",
      "\n",
      "   Departamento  \n",
      "22   Publicidad  \n",
      "23     Producto  \n",
      "      Nombre       Sexo   Estado_Civil  Edad  Experiencia  Salario Gerencia  \\\n",
      "24  Gabriela   Femenino     Soltero(a)    37           13     3409       No   \n",
      "25  Olegario  Masculino  Divorciado(a)    49            5     2626       No   \n",
      "\n",
      "        Departamento  \n",
      "24                IT  \n",
      "25  Recursos Humanos  \n",
      "    Nombre       Sexo Estado_Civil  Edad  Experiencia  Salario Gerencia  \\\n",
      "26   Berta   Femenino    Casado(a)    65           27     4888       No   \n",
      "27  Albino  Masculino    Casado(a)    21            2     2207       No   \n",
      "\n",
      "   Departamento  \n",
      "26           IT  \n",
      "27    Comercial  \n",
      "     Nombre       Sexo   Estado_Civil  Edad  Experiencia  Salario Gerencia  \\\n",
      "28   Albert  Masculino      Casado(a)    28            4     2527       No   \n",
      "29  Florina   Femenino  Divorciado(a)    55           33     5462       No   \n",
      "\n",
      "        Departamento  \n",
      "28  Recursos Humanos  \n",
      "29                IT  \n",
      "     Nombre      Sexo   Estado_Civil  Edad  Experiencia  Salario Gerencia  \\\n",
      "30  Soledad  Femenino  Divorciado(a)    21            3     2477       No   \n",
      "31   Miriam  Femenino     Soltero(a)    38            1     1999       No   \n",
      "\n",
      "    Departamento  \n",
      "30            IT  \n",
      "31  Contabilidad  \n",
      "   Nombre       Sexo Estado_Civil  Edad  Experiencia  Salario Gerencia  \\\n",
      "32  Lucio  Masculino   Soltero(a)    54           12     3317       No   \n",
      "33  Luisa   Femenino   Soltero(a)    29            5     2648       No   \n",
      "\n",
      "        Departamento  \n",
      "32  Recursos Humanos  \n",
      "33      Contabilidad  \n",
      "      Nombre       Sexo   Estado_Civil  Edad  Experiencia  Salario Gerencia  \\\n",
      "34    Regina   Femenino  Divorciado(a)    19            1     2033       No   \n",
      "35  Dionisio  Masculino      Casado(a)    47           20     4168       No   \n",
      "\n",
      "   Departamento  \n",
      "34    Comercial  \n",
      "35    Comercial  \n",
      "    Nombre       Sexo Estado_Civil  Edad  Experiencia  Salario Gerencia  \\\n",
      "36  Eliseo  Masculino    Casado(a)    36            7     2900       No   \n",
      "37  Loreto  Masculino   Soltero(a)    21            3     2432       No   \n",
      "\n",
      "   Departamento  \n",
      "36       Ventas  \n",
      "37     Producto  \n",
      "     Nombre       Sexo Estado_Civil  Edad  Experiencia  Salario Gerencia  \\\n",
      "38   Olivia   Femenino    Casado(a)    26            5     2655       No   \n",
      "39  Alfonso  Masculino    Casado(a)    32           10     3134       No   \n",
      "\n",
      "   Departamento  \n",
      "38       Ventas  \n",
      "39   Publicidad  \n",
      "     Nombre      Sexo Estado_Civil  Edad  Experiencia  Salario Gerencia  \\\n",
      "40  Carlota  Femenino   Soltero(a)    25            3     2317       No   \n",
      "41   Eligia  Femenino   Soltero(a)    24            3     2453       No   \n",
      "\n",
      "        Departamento  \n",
      "40  Recursos Humanos  \n",
      "41            Ventas  \n",
      "   Nombre       Sexo   Estado_Civil  Edad  Experiencia  Salario Gerencia  \\\n",
      "42  Amada   Femenino  Divorciado(a)    30            3     2443       No   \n",
      "43  Amado  Masculino     Soltero(a)    29            2     2221       No   \n",
      "\n",
      "   Departamento  \n",
      "42     Producto  \n",
      "43        Legal  \n",
      "      Nombre       Sexo   Estado_Civil  Edad  Experiencia  Salario Gerencia  \\\n",
      "44    Cirino  Masculino  Divorciado(a)    28            4     2581       No   \n",
      "45  Joaquina   Femenino      Casado(a)    27            1     2007       No   \n",
      "\n",
      "   Departamento  \n",
      "44    Comercial  \n",
      "45    Comercial  \n",
      "      Nombre       Sexo Estado_Civil  Edad  Experiencia  Salario Gerencia  \\\n",
      "46  Herberto  Masculino   Soltero(a)    33           12     3364       No   \n",
      "47  Susanita   Femenino    Casado(a)    23            2     2228       No   \n",
      "\n",
      "            Departamento  \n",
      "46  Servicios al cliente  \n",
      "47                 Legal  \n",
      "     Nombre      Sexo   Estado_Civil  Edad  Experiencia  Salario Gerencia  \\\n",
      "48   Melisa  Femenino     Soltero(a)    24            3     2362       No   \n",
      "49  Yolanda  Femenino  Divorciado(a)    46            1     1939       No   \n",
      "\n",
      "    Departamento  \n",
      "48         Legal  \n",
      "49  Contabilidad  \n",
      "     Nombre       Sexo Estado_Civil  Edad  Experiencia  Salario Gerencia  \\\n",
      "50  Paulino  Masculino   Soltero(a)    59           15     3641       No   \n",
      "51  Teodora   Femenino    Casado(a)    71           32     5332       No   \n",
      "\n",
      "   Departamento  \n",
      "50        Legal  \n",
      "51    Comercial  \n",
      "       Nombre       Sexo Estado_Civil  Edad  Experiencia  Salario Gerencia  \\\n",
      "52   Herminia   Femenino   Soltero(a)    34            9     3010       No   \n",
      "53  Francisco  Masculino    Casado(a)    34            8     2920       No   \n",
      "\n",
      "     Departamento  \n",
      "52     Publicidad  \n",
      "53  Reclutamiento  \n",
      "     Nombre       Sexo   Estado_Civil  Edad  Experiencia  Salario Gerencia  \\\n",
      "54  Pastora   Femenino  Divorciado(a)    28            5     2631       No   \n",
      "55     Jose  Masculino     Soltero(a)    21            3     2300       No   \n",
      "\n",
      "            Departamento  \n",
      "54             Comercial  \n",
      "55  Servicios al cliente  \n",
      "    Nombre       Sexo   Estado_Civil  Edad  Experiencia  Salario Gerencia  \\\n",
      "56     Eva   Femenino     Soltero(a)    33            8     2931       Sí   \n",
      "57  Erasmo  Masculino  Divorciado(a)    37            2     2148       No   \n",
      "\n",
      "   Departamento  \n",
      "56    Comercial  \n",
      "57   Publicidad  \n",
      "       Nombre       Sexo Estado_Civil  Edad  Experiencia  Salario Gerencia  \\\n",
      "58     Eliana   Femenino    Casado(a)    28            6     2779       No   \n",
      "59  Adalberto  Masculino    Casado(a)    21            2     2249       No   \n",
      "\n",
      "   Departamento  \n",
      "58    Comercial  \n",
      "59        Legal  \n",
      "   Nombre      Sexo Estado_Civil  Edad  Experiencia  Salario Gerencia  \\\n",
      "60  Luisa  Femenino   Soltero(a)    47            9     3020       No   \n",
      "61    Ana  Femenino   Soltero(a)    54            8     2953       Sí   \n",
      "\n",
      "    Departamento  \n",
      "60         Legal  \n",
      "61  Contabilidad  \n",
      "       Nombre       Sexo Estado_Civil  Edad  Experiencia  Salario Gerencia  \\\n",
      "62  Aureliano  Masculino   Soltero(a)    22            4     2524       No   \n",
      "63    Samanta   Femenino    Casado(a)    20            2     2298       No   \n",
      "\n",
      "   Departamento  \n",
      "62   Publicidad  \n",
      "63           IT  \n",
      "   Nombre      Sexo   Estado_Civil  Edad  Experiencia  Salario Gerencia  \\\n",
      "64    Ana  Femenino  Divorciado(a)    47            5     2625       No   \n",
      "65  Amada  Femenino     Soltero(a)    21            2     2274       No   \n",
      "\n",
      "    Departamento  \n",
      "64  Contabilidad  \n",
      "65      Producto  \n",
      "      Nombre       Sexo   Estado_Civil  Edad  Experiencia  Salario Gerencia  \\\n",
      "66   Carmelo  Masculino      Casado(a)    29            2     2250       No   \n",
      "67  Consuelo   Femenino  Divorciado(a)    24            1     2091       No   \n",
      "\n",
      "    Departamento  \n",
      "66     Comercial  \n",
      "67  Contabilidad  \n",
      "     Nombre       Sexo   Estado_Civil  Edad  Experiencia  Salario Gerencia  \\\n",
      "68      Teo  Masculino      Casado(a)    23            5     2643       No   \n",
      "69  Leandro  Masculino  Divorciado(a)    21            3     2322       No   \n",
      "\n",
      "    Departamento  \n",
      "68    Publicidad  \n",
      "69  Contabilidad  \n",
      "      Nombre      Sexo Estado_Civil  Edad  Experiencia  Salario Gerencia  \\\n",
      "70     Fanny  Femenino    Casado(a)    32            7     2843       No   \n",
      "71  Dionisia  Femenino   Soltero(a)    32            8     2936       Sí   \n",
      "\n",
      "   Departamento  \n",
      "70           IT  \n",
      "71     Producto  \n",
      "      Nombre      Sexo Estado_Civil  Edad  Experiencia  Salario Gerencia  \\\n",
      "72  Joaquina  Femenino    Casado(a)    54           25     4657       Sí   \n",
      "73     Leire  Femenino    Casado(a)    42            2     2237       No   \n",
      "\n",
      "        Departamento  \n",
      "72          Producto  \n",
      "73  Recursos Humanos  \n",
      "     Nombre       Sexo Estado_Civil  Edad  Experiencia  Salario Gerencia  \\\n",
      "74  Lorenzo  Masculino   Soltero(a)    24            3     2335       No   \n",
      "75  Hilario  Masculino    Casado(a)    45           10     3166       No   \n",
      "\n",
      "        Departamento  \n",
      "74  Recursos Humanos  \n",
      "75      Contabilidad  \n",
      "      Nombre      Sexo Estado_Civil  Edad  Experiencia  Salario Gerencia  \\\n",
      "76  Susanita  Femenino   Soltero(a)    33            4     2581       No   \n",
      "77     Flora  Femenino   Soltero(a)    20            2     2256       No   \n",
      "\n",
      "        Departamento  \n",
      "76  Recursos Humanos  \n",
      "77          Producto  \n",
      "   Nombre       Sexo   Estado_Civil  Edad  Experiencia  Salario Gerencia  \\\n",
      "78  Celso  Masculino      Casado(a)    47           15     3646       No   \n",
      "79    Luz   Femenino  Divorciado(a)    29            4     2592       No   \n",
      "\n",
      "            Departamento  \n",
      "78      Recursos Humanos  \n",
      "79  Servicios al cliente  \n",
      "       Nombre      Sexo   Estado_Civil  Edad  Experiencia  Salario Gerencia  \\\n",
      "80     Adelia  Femenino      Casado(a)    25            3     2477       No   \n",
      "81  Francisca  Femenino  Divorciado(a)    23            2     2270       No   \n",
      "\n",
      "    Departamento  \n",
      "80  Contabilidad  \n",
      "81         Legal  \n",
      "       Nombre       Sexo Estado_Civil  Edad  Experiencia  Salario Gerencia  \\\n",
      "82   Santiago  Masculino   Soltero(a)    19            1     1920       No   \n",
      "83  Fulgencio  Masculino    Casado(a)    37           10     3117       No   \n",
      "\n",
      "   Departamento  \n",
      "82        Legal  \n",
      "83     Finanzas  \n",
      "     Nombre       Sexo Estado_Civil  Edad  Experiencia  Salario Gerencia  \\\n",
      "84  Clarisa   Femenino    Casado(a)    56            8     2972       Sí   \n",
      "85   Loreto  Masculino   Soltero(a)    22            3     2492       No   \n",
      "\n",
      "   Departamento  \n",
      "84           IT  \n",
      "85     Producto  \n",
      "    Nombre      Sexo   Estado_Civil  Edad  Experiencia  Salario Gerencia  \\\n",
      "86   Clara  Femenino     Soltero(a)    24            3     2347       No   \n",
      "87  Soraya  Femenino  Divorciado(a)    19            1     2037       No   \n",
      "\n",
      "            Departamento  \n",
      "86             Comercial  \n",
      "87  Servicios al cliente  \n",
      "   Nombre       Sexo   Estado_Civil  Edad  Experiencia  Salario Gerencia  \\\n",
      "88  Reyes   Femenino     Soltero(a)    27            4     2508       No   \n",
      "89   Iker  Masculino  Divorciado(a)    39           11     3287       No   \n",
      "\n",
      "   Departamento  \n",
      "88     Producto  \n",
      "89        Legal  \n",
      "     Nombre       Sexo   Estado_Civil  Edad  Experiencia  Salario Gerencia  \\\n",
      "90  Ernesto  Masculino  Divorciado(a)    51           11     3233       No   \n",
      "91   Estela   Femenino      Casado(a)    55            5     2675       No   \n",
      "\n",
      "            Departamento  \n",
      "90            Publicidad  \n",
      "91  Servicios al cliente  \n",
      "     Nombre       Sexo Estado_Civil  Edad  Experiencia  Salario Gerencia  \\\n",
      "92  Pastora   Femenino    Casado(a)    51            8     2995       Sí   \n",
      "93  Amancio  Masculino    Casado(a)    46            9     3054       Sí   \n",
      "\n",
      "        Departamento  \n",
      "92     Reclutamiento  \n",
      "93  Recursos Humanos  \n",
      "   Nombre       Sexo Estado_Civil  Edad  Experiencia  Salario Gerencia  \\\n",
      "94    Eva   Femenino    Casado(a)    44           12     3373       Sí   \n",
      "95   Lino  Masculino    Casado(a)    26            5     2662       No   \n",
      "\n",
      "   Departamento  \n",
      "94    Comercial  \n",
      "95        Legal  \n",
      "   Nombre       Sexo   Estado_Civil  Edad  Experiencia  Salario Gerencia  \\\n",
      "96   Juan  Masculino  Divorciado(a)    37            3     2325       No   \n",
      "97  Adela   Femenino  Divorciado(a)    21            3     2467       No   \n",
      "\n",
      "            Departamento  \n",
      "96  Servicios al cliente  \n",
      "97          Contabilidad  \n",
      "     Nombre       Sexo Estado_Civil  Edad  Experiencia  Salario Gerencia  \\\n",
      "98  Eugenio  Masculino    Casado(a)    45           18     3908       No   \n",
      "99    Daisy   Femenino    Casado(a)    61            8     2902       No   \n",
      "\n",
      "   Departamento  \n",
      "98       Ventas  \n",
      "99       Ventas  \n",
      "     Nombre      Sexo   Estado_Civil  Edad  Experiencia  Salario Gerencia  \\\n",
      "100   Marta  Femenino     Soltero(a)    51            5     2651       No   \n",
      "101  Elodia  Femenino  Divorciado(a)    21            3     2462       No   \n",
      "\n",
      "    Departamento  \n",
      "100    Comercial  \n",
      "101           IT  \n",
      "     Nombre       Sexo   Estado_Civil  Edad  Experiencia  Salario Gerencia  \\\n",
      "102  Emilio  Masculino  Divorciado(a)    18            0     1872       No   \n",
      "103   Kevin  Masculino     Soltero(a)    50            8     2985       Sí   \n",
      "\n",
      "    Departamento  \n",
      "102           IT  \n",
      "103     Finanzas  \n",
      "      Nombre       Sexo   Estado_Civil  Edad  Experiencia  Salario Gerencia  \\\n",
      "104    Belen   Femenino     Soltero(a)    29            4     2596       No   \n",
      "105  Richard  Masculino  Divorciado(a)    34            7     2804       No   \n",
      "\n",
      "             Departamento  \n",
      "104          Contabilidad  \n",
      "105  Servicios al cliente  \n",
      "      Nombre       Sexo Estado_Civil  Edad  Experiencia  Salario Gerencia  \\\n",
      "106    Aaron  Masculino   Soltero(a)    45            9     3093       Sí   \n",
      "107  Douglas  Masculino    Casado(a)    40            6     2735       No   \n",
      "\n",
      "    Departamento  \n",
      "106   Publicidad  \n",
      "107        Legal  \n",
      "    Nombre       Sexo Estado_Civil  Edad  Experiencia  Salario Gerencia  \\\n",
      "108   Sean  Masculino   Soltero(a)    36            2     2114       No   \n",
      "109  Celia   Femenino    Casado(a)    32           11     3260       No   \n",
      "\n",
      "    Departamento  \n",
      "108       Ventas  \n",
      "109    Comercial  \n",
      "     Nombre      Sexo   Estado_Civil  Edad  Experiencia  Salario Gerencia  \\\n",
      "110  Angela  Femenino     Soltero(a)    19            1     2100       No   \n",
      "111    Olga  Femenino  Divorciado(a)    32            4     2573       No   \n",
      "\n",
      "    Departamento  \n",
      "110           IT  \n",
      "111        Legal  \n",
      "      Nombre       Sexo Estado_Civil  Edad  Experiencia  Salario Gerencia  \\\n",
      "112  Rafaela   Femenino    Casado(a)    44           11     3292       No   \n",
      "113    Corey  Masculino    Casado(a)    58           32     5360       No   \n",
      "\n",
      "    Departamento  \n",
      "112     Finanzas  \n",
      "113     Producto  \n",
      "     Nombre       Sexo   Estado_Civil  Edad  Experiencia  Salario Gerencia  \\\n",
      "114  Otilia   Femenino  Divorciado(a)    42            8     2990       No   \n",
      "115   Shaun  Masculino      Casado(a)    28            6     2796       No   \n",
      "\n",
      "             Departamento  \n",
      "114  Servicios al cliente  \n",
      "115             Comercial  \n",
      "     Nombre       Sexo   Estado_Civil  Edad  Experiencia  Salario Gerencia  \\\n",
      "116    Eric  Masculino  Divorciado(a)    34            6     2745       No   \n",
      "117  Daniel  Masculino      Casado(a)    18            0     1875       No   \n",
      "\n",
      "    Departamento  \n",
      "116       Ventas  \n",
      "117   Publicidad  \n",
      "    Nombre       Sexo   Estado_Civil  Edad  Experiencia  Salario Gerencia  \\\n",
      "118  James  Masculino      Casado(a)    46           20     4154       No   \n",
      "119   Gala   Femenino  Divorciado(a)    40            1     1946       No   \n",
      "\n",
      "         Departamento  \n",
      "118  Recursos Humanos  \n",
      "119                IT  \n",
      "    Nombre      Sexo Estado_Civil  Edad  Experiencia  Salario Gerencia  \\\n",
      "120  Elena  Femenino    Casado(a)    24            2     2101       No   \n",
      "121   Luna  Femenino   Soltero(a)    35            6     2772       No   \n",
      "\n",
      "         Departamento  \n",
      "120             Legal  \n",
      "121  Recursos Humanos  \n",
      "       Nombre      Sexo Estado_Civil  Edad  Experiencia  Salario Gerencia  \\\n",
      "122  Jennifer  Femenino   Soltero(a)    22            1     1930       No   \n",
      "123   Rosenda  Femenino    Casado(a)    30            4     2596       No   \n",
      "\n",
      "             Departamento  \n",
      "122  Servicios al cliente  \n",
      "123                    IT  \n",
      "     Nombre       Sexo Estado_Civil  Edad  Experiencia  Salario Gerencia  \\\n",
      "124  Odalis   Femenino   Soltero(a)    31            2     2262       No   \n",
      "125  Felipe  Masculino   Soltero(a)    27            3     2456       No   \n",
      "\n",
      "             Departamento  \n",
      "124  Servicios al cliente  \n",
      "125            Publicidad  \n",
      "    Nombre       Sexo Estado_Civil  Edad  Experiencia  Salario Gerencia  \\\n",
      "126   Jose  Masculino    Casado(a)    30            4     2513       No   \n",
      "127  Ariel  Masculino    Casado(a)    27            2     2100       No   \n",
      "\n",
      "    Departamento  \n",
      "126    Comercial  \n",
      "127        Legal  \n",
      "    Nombre       Sexo   Estado_Civil  Edad  Experiencia  Salario Gerencia  \\\n",
      "128   Luis  Masculino  Divorciado(a)    51           25     4681       No   \n",
      "129  Lucho  Masculino      Casado(a)    22            4     2507       No   \n",
      "\n",
      "    Departamento  \n",
      "128    Comercial  \n",
      "129       Ventas  \n",
      "         Nombre       Sexo   Estado_Civil  Edad  Experiencia  Salario  \\\n",
      "130      Yesica   Femenino  Divorciado(a)    19            1     1935   \n",
      "131  Victoriano  Masculino      Casado(a)    20            2     2110   \n",
      "\n",
      "    Gerencia          Departamento  \n",
      "130       No             Comercial  \n",
      "131       No  Servicios al cliente  \n",
      "     Nombre       Sexo Estado_Civil  Edad  Experiencia  Salario Gerencia  \\\n",
      "132  Onofre  Masculino   Soltero(a)    18            1     2067       No   \n",
      "133  Carina   Femenino    Casado(a)    29            1     1904       No   \n",
      "\n",
      "    Departamento  \n",
      "132           IT  \n",
      "133     Producto  \n",
      "     Nombre      Sexo Estado_Civil  Edad  Experiencia  Salario Gerencia  \\\n",
      "134  Alicia  Femenino    Casado(a)    24            4     2507       No   \n",
      "135  Lupita  Femenino    Casado(a)    44           14     3532       No   \n",
      "\n",
      "             Departamento  \n",
      "134  Servicios al cliente  \n",
      "135              Producto  \n",
      "     Nombre       Sexo Estado_Civil  Edad  Experiencia  Salario Gerencia  \\\n",
      "136  Soraya   Femenino   Soltero(a)    38            4     2546       No   \n",
      "137    Eric  Masculino    Casado(a)    19            1     1964       No   \n",
      "\n",
      "    Departamento  \n",
      "136        Legal  \n",
      "137        Legal  \n",
      "       Nombre       Sexo   Estado_Civil  Edad  Experiencia  Salario Gerencia  \\\n",
      "138  Hernando  Masculino  Divorciado(a)    29            4     2510       No   \n",
      "139      Vito  Masculino  Divorciado(a)    22            4     2530       No   \n",
      "\n",
      "    Departamento  \n",
      "138           IT  \n",
      "139     Producto  \n",
      "      Nombre       Sexo   Estado_Civil  Edad  Experiencia  Salario Gerencia  \\\n",
      "140     Jose  Masculino      Casado(a)    30            6     2760       No   \n",
      "141  Marcelo  Masculino  Divorciado(a)    44           15     3616       No   \n",
      "\n",
      "             Departamento  \n",
      "140  Servicios al cliente  \n",
      "141                    IT  \n",
      "      Nombre       Sexo Estado_Civil  Edad  Experiencia  Salario Gerencia  \\\n",
      "142  Leandro  Masculino    Casado(a)    37           11     3245       No   \n",
      "\n",
      "    Departamento  \n",
      "142     Finanzas  \n"
     ]
    }
   ],
   "source": [
    "for chunk in df:\n",
    "    print(chunk)"
   ],
   "metadata": {
    "collapsed": false,
    "ExecuteTime": {
     "start_time": "2023-04-30T23:13:09.232510Z",
     "end_time": "2023-04-30T23:13:09.732199Z"
    }
   }
  },
  {
   "cell_type": "code",
   "execution_count": 46,
   "outputs": [],
   "source": [
    "df=pd.read_csv('0401empleados.csv',delimiter=\";\")"
   ],
   "metadata": {
    "collapsed": false,
    "ExecuteTime": {
     "start_time": "2023-04-30T23:13:09.725203Z",
     "end_time": "2023-04-30T23:13:09.746190Z"
    }
   }
  },
  {
   "cell_type": "code",
   "execution_count": 47,
   "outputs": [],
   "source": [
    "df=df[df['Edad']>28]"
   ],
   "metadata": {
    "collapsed": false,
    "ExecuteTime": {
     "start_time": "2023-04-30T23:13:09.743193Z",
     "end_time": "2023-04-30T23:13:09.776173Z"
    }
   }
  },
  {
   "cell_type": "code",
   "execution_count": 48,
   "outputs": [
    {
     "data": {
      "text/plain": "       Nombre       Sexo   Estado_Civil  Edad  Experiencia  Salario Gerencia  \\\n2      Daniel  Masculino      Casado(a)    35           10     3122       No   \n3        John  Masculino      Casado(a)    35           13     3431       Sí   \n4     Ruperta   Femenino      Casado(a)    54           18     3962       No   \n7      Ximena   Femenino     Soltero(a)    58           24     4532       No   \n9         Max  Masculino  Divorciado(a)    39            8     2953       No   \n..        ...        ...            ...   ...          ...      ...      ...   \n136    Soraya   Femenino     Soltero(a)    38            4     2546       No   \n138  Hernando  Masculino  Divorciado(a)    29            4     2510       No   \n140      Jose  Masculino      Casado(a)    30            6     2760       No   \n141   Marcelo  Masculino  Divorciado(a)    44           15     3616       No   \n142   Leandro  Masculino      Casado(a)    37           11     3245       No   \n\n             Departamento  \n2               Comercial  \n3    Servicios al cliente  \n4                Producto  \n7                   Legal  \n9                  Ventas  \n..                    ...  \n136                 Legal  \n138                    IT  \n140  Servicios al cliente  \n141                    IT  \n142              Finanzas  \n\n[83 rows x 8 columns]",
      "text/html": "<div>\n<style scoped>\n    .dataframe tbody tr th:only-of-type {\n        vertical-align: middle;\n    }\n\n    .dataframe tbody tr th {\n        vertical-align: top;\n    }\n\n    .dataframe thead th {\n        text-align: right;\n    }\n</style>\n<table border=\"1\" class=\"dataframe\">\n  <thead>\n    <tr style=\"text-align: right;\">\n      <th></th>\n      <th>Nombre</th>\n      <th>Sexo</th>\n      <th>Estado_Civil</th>\n      <th>Edad</th>\n      <th>Experiencia</th>\n      <th>Salario</th>\n      <th>Gerencia</th>\n      <th>Departamento</th>\n    </tr>\n  </thead>\n  <tbody>\n    <tr>\n      <th>2</th>\n      <td>Daniel</td>\n      <td>Masculino</td>\n      <td>Casado(a)</td>\n      <td>35</td>\n      <td>10</td>\n      <td>3122</td>\n      <td>No</td>\n      <td>Comercial</td>\n    </tr>\n    <tr>\n      <th>3</th>\n      <td>John</td>\n      <td>Masculino</td>\n      <td>Casado(a)</td>\n      <td>35</td>\n      <td>13</td>\n      <td>3431</td>\n      <td>Sí</td>\n      <td>Servicios al cliente</td>\n    </tr>\n    <tr>\n      <th>4</th>\n      <td>Ruperta</td>\n      <td>Femenino</td>\n      <td>Casado(a)</td>\n      <td>54</td>\n      <td>18</td>\n      <td>3962</td>\n      <td>No</td>\n      <td>Producto</td>\n    </tr>\n    <tr>\n      <th>7</th>\n      <td>Ximena</td>\n      <td>Femenino</td>\n      <td>Soltero(a)</td>\n      <td>58</td>\n      <td>24</td>\n      <td>4532</td>\n      <td>No</td>\n      <td>Legal</td>\n    </tr>\n    <tr>\n      <th>9</th>\n      <td>Max</td>\n      <td>Masculino</td>\n      <td>Divorciado(a)</td>\n      <td>39</td>\n      <td>8</td>\n      <td>2953</td>\n      <td>No</td>\n      <td>Ventas</td>\n    </tr>\n    <tr>\n      <th>...</th>\n      <td>...</td>\n      <td>...</td>\n      <td>...</td>\n      <td>...</td>\n      <td>...</td>\n      <td>...</td>\n      <td>...</td>\n      <td>...</td>\n    </tr>\n    <tr>\n      <th>136</th>\n      <td>Soraya</td>\n      <td>Femenino</td>\n      <td>Soltero(a)</td>\n      <td>38</td>\n      <td>4</td>\n      <td>2546</td>\n      <td>No</td>\n      <td>Legal</td>\n    </tr>\n    <tr>\n      <th>138</th>\n      <td>Hernando</td>\n      <td>Masculino</td>\n      <td>Divorciado(a)</td>\n      <td>29</td>\n      <td>4</td>\n      <td>2510</td>\n      <td>No</td>\n      <td>IT</td>\n    </tr>\n    <tr>\n      <th>140</th>\n      <td>Jose</td>\n      <td>Masculino</td>\n      <td>Casado(a)</td>\n      <td>30</td>\n      <td>6</td>\n      <td>2760</td>\n      <td>No</td>\n      <td>Servicios al cliente</td>\n    </tr>\n    <tr>\n      <th>141</th>\n      <td>Marcelo</td>\n      <td>Masculino</td>\n      <td>Divorciado(a)</td>\n      <td>44</td>\n      <td>15</td>\n      <td>3616</td>\n      <td>No</td>\n      <td>IT</td>\n    </tr>\n    <tr>\n      <th>142</th>\n      <td>Leandro</td>\n      <td>Masculino</td>\n      <td>Casado(a)</td>\n      <td>37</td>\n      <td>11</td>\n      <td>3245</td>\n      <td>No</td>\n      <td>Finanzas</td>\n    </tr>\n  </tbody>\n</table>\n<p>83 rows × 8 columns</p>\n</div>"
     },
     "execution_count": 48,
     "metadata": {},
     "output_type": "execute_result"
    }
   ],
   "source": [
    "df"
   ],
   "metadata": {
    "collapsed": false,
    "ExecuteTime": {
     "start_time": "2023-04-30T23:13:09.774176Z",
     "end_time": "2023-04-30T23:13:09.815148Z"
    }
   }
  },
  {
   "cell_type": "code",
   "execution_count": 48,
   "outputs": [],
   "source": [],
   "metadata": {
    "collapsed": false,
    "ExecuteTime": {
     "start_time": "2023-04-30T23:13:09.817147Z",
     "end_time": "2023-04-30T23:13:09.840134Z"
    }
   }
  }
 ],
 "metadata": {
  "kernelspec": {
   "display_name": "Python 3",
   "language": "python",
   "name": "python3"
  },
  "language_info": {
   "codemirror_mode": {
    "name": "ipython",
    "version": 2
   },
   "file_extension": ".py",
   "mimetype": "text/x-python",
   "name": "python",
   "nbconvert_exporter": "python",
   "pygments_lexer": "ipython2",
   "version": "2.7.6"
  }
 },
 "nbformat": 4,
 "nbformat_minor": 0
}
