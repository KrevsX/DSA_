{
 "cells": [
  {
   "cell_type": "code",
   "execution_count": 1,
   "id": "2c1bf94d-f9b3-4ed4-8376-ad467b14bb98",
   "metadata": {},
   "outputs": [
    {
     "data": {
      "text/plain": [
       "'new Objetive....'"
      ]
     },
     "execution_count": 1,
     "metadata": {},
     "output_type": "execute_result"
    }
   ],
   "source": [
    "\"new Objetive....\""
   ]
  },
  {
   "cell_type": "code",
   "execution_count": 2,
   "id": "aae9679d-569d-40f1-a740-a04cb0431476",
   "metadata": {},
   "outputs": [
    {
     "data": {
      "text/plain": [
       "'For Learn news Skills abouth python with Data Scientist'"
      ]
     },
     "execution_count": 2,
     "metadata": {},
     "output_type": "execute_result"
    }
   ],
   "source": [
    "\"For Learn news Skills abouth python with Data Scientist\""
   ]
  },
  {
   "cell_type": "code",
   "execution_count": null,
   "id": "a2b126fc-d8ef-4eca-8f29-db8ff747436c",
   "metadata": {
    "pycharm": {
     "is_executing": true
    }
   },
   "outputs": [],
   "source": [
    "\"im a new Learned\""
   ]
  },
  {
   "cell_type": "code",
   "execution_count": 5,
   "id": "6ef5d5e4",
   "metadata": {
    "collapsed": false,
    "jupyter": {
     "outputs_hidden": false
    },
    "pycharm": {
     "is_executing": true
    }
   },
   "outputs": [
    {
     "data": {
      "text/plain": [
       "'SOLVE SYNTAX'"
      ]
     },
     "execution_count": 5,
     "metadata": {},
     "output_type": "execute_result"
    }
   ],
   "source": [
    "\"SOLVE SYNTAX\""
   ]
  },
  {
   "cell_type": "code",
   "execution_count": 4,
   "id": "a948fed9",
   "metadata": {
    "collapsed": false,
    "jupyter": {
     "outputs_hidden": false
    }
   },
   "outputs": [
    {
     "data": {
      "text/plain": [
       "'NES SCHEMAS'"
      ]
     },
     "execution_count": 4,
     "metadata": {},
     "output_type": "execute_result"
    }
   ],
   "source": [
    "\"NES SCHEMAS\""
   ]
  },
  {
   "cell_type": "code",
   "execution_count": 6,
   "id": "2db6e7bb-b216-4eb7-a081-f4135d5f759a",
   "metadata": {},
   "outputs": [],
   "source": [
    "message= \"Hellos pepople\""
   ]
  },
  {
   "cell_type": "code",
   "execution_count": 12,
   "id": "cdd0efb2-a5aa-402c-967a-3b171164f7d9",
   "metadata": {},
   "outputs": [],
   "source": [
    "message2=\"whats going on\"\n"
   ]
  },
  {
   "cell_type": "code",
   "execution_count": 13,
   "id": "4a983be4-eac8-4707-a379-d7a6f136c26e",
   "metadata": {},
   "outputs": [],
   "source": [
    "message3=\"Im new here using Jupyteer\""
   ]
  },
  {
   "cell_type": "code",
   "execution_count": 15,
   "id": "96bbc8fb-1571-4cb2-8923-c356d25efd88",
   "metadata": {},
   "outputs": [
    {
     "data": {
      "text/plain": [
       "'Hellos pepop;e whats going on Im new here using Jupyteer'"
      ]
     },
     "execution_count": 15,
     "metadata": {},
     "output_type": "execute_result"
    }
   ],
   "source": [
    "f'{message} {message2} {message3}'"
   ]
  },
  {
   "cell_type": "code",
   "execution_count": null,
   "id": "4e2d7cbc-8412-427d-8068-e329d9efebff",
   "metadata": {},
   "outputs": [],
   "source": []
  }
 ],
 "metadata": {
  "kernelspec": {
   "display_name": "Python 3 (ipykernel)",
   "language": "python",
   "name": "python3"
  },
  "language_info": {
   "codemirror_mode": {
    "name": "ipython",
    "version": 3
   },
   "file_extension": ".py",
   "mimetype": "text/x-python",
   "name": "python",
   "nbconvert_exporter": "python",
   "pygments_lexer": "ipython3",
   "version": "3.10.9"
  }
 },
 "nbformat": 4,
 "nbformat_minor": 5
}
