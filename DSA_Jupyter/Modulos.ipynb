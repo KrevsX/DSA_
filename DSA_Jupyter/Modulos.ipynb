{
 "cells": [
  {
   "cell_type": "code",
   "execution_count": 1,
   "metadata": {
    "collapsed": true,
    "ExecuteTime": {
     "start_time": "2023-04-02T01:05:17.992178Z",
     "end_time": "2023-04-02T01:05:18.013164Z"
    }
   },
   "outputs": [
    {
     "data": {
      "text/plain": "'C:\\\\Users\\\\RAVENX\\\\Desktop\\\\Repositories\\\\DSA_\\\\DSA_Jupyter'"
     },
     "execution_count": 1,
     "metadata": {},
     "output_type": "execute_result"
    }
   ],
   "source": [
    "import os\n",
    "\n",
    "os.getcwd()"
   ]
  },
  {
   "cell_type": "code",
   "execution_count": 2,
   "outputs": [
    {
     "data": {
      "text/plain": "['.idea',\n '.ipynb_checkpoints',\n '2772_GUI_DataScientistResumeGuide.pdf',\n '2772_RES_Data_Science_with_Python_E_Books',\n '2772_RES_Data_Science_with_Python_E_Books.zip',\n '2772_RES_Lesson_11_web_scraping_example.zip',\n 'Codicionales.ipynb',\n 'Diccionarios.ipynb',\n 'Funciones.ipynb',\n 'Listas.ipynb',\n 'Modulos.ipynb',\n 'newDates.ipynb',\n 'R_.R',\n 'Slicing.ipynb',\n 'web_scraping_example.html']"
     },
     "execution_count": 2,
     "metadata": {},
     "output_type": "execute_result"
    }
   ],
   "source": [
    "os.listdir()"
   ],
   "metadata": {
    "collapsed": false,
    "ExecuteTime": {
     "start_time": "2023-04-02T01:05:50.642103Z",
     "end_time": "2023-04-02T01:05:50.694069Z"
    }
   }
  },
  {
   "cell_type": "code",
   "execution_count": 4,
   "outputs": [],
   "source": [
    "os.makedirs(\"Nueva Carpeta\")"
   ],
   "metadata": {
    "collapsed": false,
    "ExecuteTime": {
     "start_time": "2023-04-02T01:07:19.986771Z",
     "end_time": "2023-04-02T01:07:20.007757Z"
    }
   }
  },
  {
   "cell_type": "code",
   "execution_count": 5,
   "outputs": [
    {
     "data": {
      "text/plain": "['.idea',\n '.ipynb_checkpoints',\n '2772_GUI_DataScientistResumeGuide.pdf',\n '2772_RES_Data_Science_with_Python_E_Books',\n '2772_RES_Data_Science_with_Python_E_Books.zip',\n '2772_RES_Lesson_11_web_scraping_example.zip',\n 'Codicionales.ipynb',\n 'Diccionarios.ipynb',\n 'Funciones.ipynb',\n 'Listas.ipynb',\n 'Modulos.ipynb',\n 'newDates.ipynb',\n 'Nueva Carpeta',\n 'R_.R',\n 'Slicing.ipynb',\n 'web_scraping_example.html']"
     },
     "execution_count": 5,
     "metadata": {},
     "output_type": "execute_result"
    }
   ],
   "source": [
    "os.listdir()"
   ],
   "metadata": {
    "collapsed": false,
    "ExecuteTime": {
     "start_time": "2023-04-02T01:07:33.923222Z",
     "end_time": "2023-04-02T01:07:34.019160Z"
    }
   }
  },
  {
   "cell_type": "code",
   "execution_count": null,
   "outputs": [],
   "source": [],
   "metadata": {
    "collapsed": false
   }
  }
 ],
 "metadata": {
  "kernelspec": {
   "display_name": "Python 3",
   "language": "python",
   "name": "python3"
  },
  "language_info": {
   "codemirror_mode": {
    "name": "ipython",
    "version": 2
   },
   "file_extension": ".py",
   "mimetype": "text/x-python",
   "name": "python",
   "nbconvert_exporter": "python",
   "pygments_lexer": "ipython2",
   "version": "2.7.6"
  }
 },
 "nbformat": 4,
 "nbformat_minor": 0
}
