{
 "cells": [
  {
   "cell_type": "code",
   "execution_count": 1,
   "id": "e1d959c2-b0ae-47ba-8467-7dcdc0a1362a",
   "metadata": {},
   "outputs": [],
   "source": [
    "countries = ['United States','India', 'China','Brazil']"
   ]
  },
  {
   "cell_type": "code",
   "execution_count": 2,
   "id": "3a7b6758-d586-4b8d-98ea-df00f4023342",
   "metadata": {},
   "outputs": [
    {
     "data": {
      "text/plain": [
       "['United States', 'India', 'China', 'Brazil']"
      ]
     },
     "execution_count": 2,
     "metadata": {},
     "output_type": "execute_result"
    }
   ],
   "source": [
    "countries"
   ]
  },
  {
   "cell_type": "code",
   "execution_count": 11,
   "id": "5249b72d-9fd2-44b4-aaaa-9af381a5e26e",
   "metadata": {},
   "outputs": [
    {
     "data": {
      "text/plain": [
       "'United States'"
      ]
     },
     "execution_count": 11,
     "metadata": {},
     "output_type": "execute_result"
    }
   ],
   "source": [
    "countries[0]\n"
   ]
  },
  {
   "cell_type": "code",
   "execution_count": 12,
   "id": "bfb8f8ea-3880-4d90-b39a-adf767280bab",
   "metadata": {},
   "outputs": [
    {
     "data": {
      "text/plain": [
       "'India'"
      ]
     },
     "execution_count": 12,
     "metadata": {},
     "output_type": "execute_result"
    }
   ],
   "source": [
    "countries[1]"
   ]
  },
  {
   "cell_type": "code",
   "execution_count": 13,
   "id": "21bbb95f-2541-42c3-847c-9ab680fca57f",
   "metadata": {},
   "outputs": [
    {
     "data": {
      "text/plain": [
       "'China'"
      ]
     },
     "execution_count": 13,
     "metadata": {},
     "output_type": "execute_result"
    }
   ],
   "source": [
    "countries[2]"
   ]
  },
  {
   "cell_type": "code",
   "execution_count": 14,
   "id": "b83e147d-87a4-476b-a56f-7cbfd954abb1",
   "metadata": {},
   "outputs": [
    {
     "data": {
      "text/plain": [
       "'Brazil'"
      ]
     },
     "execution_count": 14,
     "metadata": {},
     "output_type": "execute_result"
    }
   ],
   "source": [
    "countries[-1]"
   ]
  },
  {
   "cell_type": "code",
   "execution_count": 15,
   "id": "d7ecbbf1-565f-410e-a3f5-e67e7824df04",
   "metadata": {},
   "outputs": [
    {
     "data": {
      "text/plain": [
       "'United States'"
      ]
     },
     "execution_count": 15,
     "metadata": {},
     "output_type": "execute_result"
    }
   ],
   "source": [
    "countries[-4]"
   ]
  },
  {
   "cell_type": "code",
   "execution_count": 16,
   "id": "f40e3406-5829-4ffa-9863-3af0f51eb649",
   "metadata": {},
   "outputs": [
    {
     "data": {
      "text/plain": [
       "'SLICING'"
      ]
     },
     "execution_count": 16,
     "metadata": {},
     "output_type": "execute_result"
    }
   ],
   "source": [
    "\"SLICING\""
   ]
  },
  {
   "cell_type": "code",
   "execution_count": null,
   "id": "4243d4af-f9c6-4f71-aa56-ba34b6091f29",
   "metadata": {},
   "outputs": [],
   "source": [
    "#Stop seria el excluyente\n",
    "nombrelista[start:stop]\n"
   ]
  },
  {
   "cell_type": "code",
   "execution_count": 21,
   "id": "b1cd2a02-e5b4-4256-a906-b1dd35172c27",
   "metadata": {},
   "outputs": [
    {
     "data": {
      "text/plain": [
       "['United States', 'India', 'China', 'Brazil']"
      ]
     },
     "execution_count": 21,
     "metadata": {},
     "output_type": "execute_result"
    }
   ],
   "source": [
    "countries"
   ]
  },
  {
   "cell_type": "code",
   "execution_count": 1,
   "id": "cdd30b47-ac68-4109-92c2-e9e00fd6aef5",
   "metadata": {},
   "outputs": [
    {
     "ename": "NameError",
     "evalue": "name 'countries' is not defined",
     "output_type": "error",
     "traceback": [
      "\u001B[1;31m---------------------------------------------------------------------------\u001B[0m",
      "\u001B[1;31mNameError\u001B[0m                                 Traceback (most recent call last)",
      "Cell \u001B[1;32mIn[1], line 1\u001B[0m\n\u001B[1;32m----> 1\u001B[0m \u001B[43mcountries\u001B[49m[\u001B[38;5;241m0\u001B[39m:\u001B[38;5;241m3\u001B[39m]\n",
      "\u001B[1;31mNameError\u001B[0m: name 'countries' is not defined"
     ]
    }
   ],
   "source": [
    "countries[0:3]"
   ]
  },
  {
   "cell_type": "code",
   "execution_count": 22,
   "id": "7fd341f6-b6c1-464c-9678-4dfb2c37f675",
   "metadata": {},
   "outputs": [
    {
     "data": {
      "text/plain": [
       "['United States', 'India', 'China']"
      ]
     },
     "execution_count": 22,
     "metadata": {},
     "output_type": "execute_result"
    }
   ],
   "source": [
    "countries[0:3]"
   ]
  },
  {
   "cell_type": "code",
   "execution_count": 26,
   "id": "7f91f76e-e49c-41a8-bfd3-5b61774c439d",
   "metadata": {},
   "outputs": [
    {
     "data": {
      "text/plain": [
       "['India', 'China', 'Brazil']"
      ]
     },
     "execution_count": 26,
     "metadata": {},
     "output_type": "execute_result"
    }
   ],
   "source": [
    "countries[1:4]"
   ]
  },
  {
   "cell_type": "code",
   "execution_count": 27,
   "id": "f5e3c7b8-a2b5-4a61-b54b-465234e69bc1",
   "metadata": {},
   "outputs": [
    {
     "data": {
      "text/plain": [
       "['United States', 'India']"
      ]
     },
     "execution_count": 27,
     "metadata": {},
     "output_type": "execute_result"
    }
   ],
   "source": [
    "countries[0:2]"
   ]
  },
  {
   "cell_type": "code",
   "execution_count": 28,
   "id": "1babfc2e-ebef-423b-a657-3527ca67acff",
   "metadata": {},
   "outputs": [
    {
     "data": {
      "text/plain": [
       "['India', 'China']"
      ]
     },
     "execution_count": 28,
     "metadata": {},
     "output_type": "execute_result"
    }
   ],
   "source": [
    "countries[1:3]"
   ]
  },
  {
   "cell_type": "code",
   "execution_count": 29,
   "id": "08e7ce40-3524-4131-86a8-6f298ef276e9",
   "metadata": {},
   "outputs": [
    {
     "data": {
      "text/plain": [
       "'OPERACIONES Y METODOS'"
      ]
     },
     "execution_count": 29,
     "metadata": {},
     "output_type": "execute_result"
    }
   ],
   "source": [
    "\"OPERACIONES Y METODOS\""
   ]
  },
  {
   "cell_type": "code",
   "execution_count": 30,
   "id": "36807286-c645-44b9-adb3-3ede88b65261",
   "metadata": {},
   "outputs": [
    {
     "data": {
      "text/plain": [
       "['United States', 'India', 'China', 'Brazil']"
      ]
     },
     "execution_count": 30,
     "metadata": {},
     "output_type": "execute_result"
    }
   ],
   "source": [
    "countries"
   ]
  },
  {
   "cell_type": "code",
   "execution_count": 50,
   "id": "8ae9c403-4049-4985-a8e1-69edd439bcc1",
   "metadata": {},
   "outputs": [],
   "source": [
    "countries.append('India')"
   ]
  },
  {
   "cell_type": "code",
   "execution_count": 32,
   "id": "bd3fb5a8-febb-4e92-a547-626dc35c8755",
   "metadata": {},
   "outputs": [
    {
     "data": {
      "text/plain": [
       "['United States', 'India', 'China', 'Brazil', 'Canada']"
      ]
     },
     "execution_count": 32,
     "metadata": {},
     "output_type": "execute_result"
    }
   ],
   "source": [
    "countries"
   ]
  },
  {
   "cell_type": "code",
   "execution_count": 33,
   "id": "a29a4024-e669-4125-9100-88dc2437a19f",
   "metadata": {},
   "outputs": [],
   "source": [
    "countries.insert(0,'Argentina')"
   ]
  },
  {
   "cell_type": "code",
   "execution_count": 34,
   "id": "319784ac-02ac-49db-ba2f-26bd3c569384",
   "metadata": {},
   "outputs": [
    {
     "data": {
      "text/plain": [
       "['Argentina', 'United States', 'India', 'China', 'Brazil', 'Canada']"
      ]
     },
     "execution_count": 34,
     "metadata": {},
     "output_type": "execute_result"
    }
   ],
   "source": [
    "countries"
   ]
  },
  {
   "cell_type": "code",
   "execution_count": 35,
   "id": "2ce42344-b685-473f-bae3-d486dc135ea6",
   "metadata": {},
   "outputs": [],
   "source": [
    "countries2=['UK','Alemania','Australia']"
   ]
  },
  {
   "cell_type": "code",
   "execution_count": 36,
   "id": "c08ce346-4706-407b-ac47-aadcceada707",
   "metadata": {},
   "outputs": [
    {
     "data": {
      "text/plain": [
       "['Argentina',\n",
       " 'United States',\n",
       " 'India',\n",
       " 'China',\n",
       " 'Brazil',\n",
       " 'Canada',\n",
       " 'UK',\n",
       " 'Alemania',\n",
       " 'Australia']"
      ]
     },
     "execution_count": 36,
     "metadata": {},
     "output_type": "execute_result"
    }
   ],
   "source": [
    "countries + countries2"
   ]
  },
  {
   "cell_type": "code",
   "execution_count": 37,
   "id": "be9028d1-98b0-4831-9a4d-90d795eb7e2c",
   "metadata": {},
   "outputs": [],
   "source": [
    "newlist =[countries, countries2]"
   ]
  },
  {
   "cell_type": "code",
   "execution_count": 39,
   "id": "b762a05c-38f0-49e0-878c-170ec7e1f02a",
   "metadata": {},
   "outputs": [
    {
     "data": {
      "text/plain": [
       "[['Argentina', 'United States', 'India', 'China', 'Brazil', 'Canada'],\n",
       " ['UK', 'Alemania', 'Australia']]"
      ]
     },
     "execution_count": 39,
     "metadata": {},
     "output_type": "execute_result"
    }
   ],
   "source": [
    "newlist"
   ]
  },
  {
   "cell_type": "code",
   "execution_count": null,
   "id": "d6a0efb7-3550-47c7-8113-7db00118387f",
   "metadata": {},
   "outputs": [],
   "source": [
    "\"ELIMINAR ELEMENTOS\""
   ]
  },
  {
   "cell_type": "code",
   "execution_count": 40,
   "id": "a0d121d0-f114-4ef0-83fe-1b30aca81ca9",
   "metadata": {},
   "outputs": [
    {
     "data": {
      "text/plain": [
       "['Argentina', 'United States', 'India', 'China', 'Brazil', 'Canada']"
      ]
     },
     "execution_count": 40,
     "metadata": {},
     "output_type": "execute_result"
    }
   ],
   "source": [
    "countries"
   ]
  },
  {
   "cell_type": "code",
   "execution_count": 41,
   "id": "6ef593e7-599b-437d-a6c2-e9660def6bb7",
   "metadata": {},
   "outputs": [],
   "source": [
    "countries.remove('Canada')"
   ]
  },
  {
   "cell_type": "code",
   "execution_count": 43,
   "id": "b7b6f286-d9ff-4210-9bce-ca44bc71332f",
   "metadata": {},
   "outputs": [
    {
     "data": {
      "text/plain": [
       "['Argentina', 'United States', 'India', 'China', 'Brazil']"
      ]
     },
     "execution_count": 43,
     "metadata": {},
     "output_type": "execute_result"
    }
   ],
   "source": [
    "countries\n"
   ]
  },
  {
   "cell_type": "code",
   "execution_count": 44,
   "id": "e16c39ee-9785-4c23-979f-af3ff7008900",
   "metadata": {},
   "outputs": [
    {
     "data": {
      "text/plain": [
       "'Argentina'"
      ]
     },
     "execution_count": 44,
     "metadata": {},
     "output_type": "execute_result"
    }
   ],
   "source": [
    "countries.pop(0)"
   ]
  },
  {
   "cell_type": "code",
   "execution_count": 45,
   "id": "2402fbf7-a4e7-4873-a90a-1e6990b40b57",
   "metadata": {},
   "outputs": [
    {
     "data": {
      "text/plain": [
       "['United States', 'India', 'China', 'Brazil']"
      ]
     },
     "execution_count": 45,
     "metadata": {},
     "output_type": "execute_result"
    }
   ],
   "source": [
    "countries"
   ]
  },
  {
   "cell_type": "code",
   "execution_count": 48,
   "id": "3c68f421-e101-4e8e-b045-41c4c0dce1d5",
   "metadata": {},
   "outputs": [],
   "source": [
    "del countries[0]"
   ]
  },
  {
   "cell_type": "code",
   "execution_count": 51,
   "id": "bb3037db-e0ee-4988-bb4a-e462da53a3ae",
   "metadata": {},
   "outputs": [
    {
     "data": {
      "text/plain": [
       "['China', 'Brazil', 'India']"
      ]
     },
     "execution_count": 51,
     "metadata": {},
     "output_type": "execute_result"
    }
   ],
   "source": [
    "countries"
   ]
  },
  {
   "cell_type": "code",
   "execution_count": 52,
   "id": "8c312efe-029e-4f45-8674-78fd176aad5b",
   "metadata": {},
   "outputs": [
    {
     "data": {
      "text/plain": [
       "'ORDENAR LISTAS///'"
      ]
     },
     "execution_count": 52,
     "metadata": {},
     "output_type": "execute_result"
    }
   ],
   "source": [
    "\"ORDENAR LISTAS///\""
   ]
  },
  {
   "cell_type": "code",
   "execution_count": 53,
   "id": "f154388d-0de8-4b48-815e-b57e99404407",
   "metadata": {},
   "outputs": [],
   "source": [
    "numbers = [4,5,4,8,81,8,4,98,52,5,15,4,5]\n"
   ]
  },
  {
   "cell_type": "code",
   "execution_count": 54,
   "id": "d230a7ac-ee4f-4060-bff7-359350afc149",
   "metadata": {},
   "outputs": [
    {
     "data": {
      "text/plain": [
       "[4, 5, 4, 8, 81, 8, 4, 98, 52, 5, 15, 4, 5]"
      ]
     },
     "execution_count": 54,
     "metadata": {},
     "output_type": "execute_result"
    }
   ],
   "source": [
    "numbers"
   ]
  },
  {
   "cell_type": "code",
   "execution_count": 55,
   "id": "a1b0d2e7-89c3-45e7-bc7e-0af673db6588",
   "metadata": {},
   "outputs": [],
   "source": [
    "numbers.sort()"
   ]
  },
  {
   "cell_type": "code",
   "execution_count": 56,
   "id": "da903a5f-a6a3-4491-a680-5ae9431a819d",
   "metadata": {},
   "outputs": [
    {
     "data": {
      "text/plain": [
       "[4, 4, 4, 4, 5, 5, 5, 8, 8, 15, 52, 81, 98]"
      ]
     },
     "execution_count": 56,
     "metadata": {},
     "output_type": "execute_result"
    }
   ],
   "source": [
    "numbers"
   ]
  },
  {
   "cell_type": "code",
   "execution_count": 57,
   "id": "91811f31-130c-47a3-ad3f-01317e7dfb4d",
   "metadata": {},
   "outputs": [],
   "source": [
    "numbers.sort(reverse=True)"
   ]
  },
  {
   "cell_type": "code",
   "execution_count": 58,
   "id": "7a8e83e4-89f5-494a-b14a-cca8333e27e4",
   "metadata": {},
   "outputs": [
    {
     "data": {
      "text/plain": [
       "[98, 81, 52, 15, 8, 8, 5, 5, 5, 4, 4, 4, 4]"
      ]
     },
     "execution_count": 58,
     "metadata": {},
     "output_type": "execute_result"
    }
   ],
   "source": [
    "numbers"
   ]
  },
  {
   "cell_type": "code",
   "execution_count": 60,
   "id": "dcc5433c-6680-4c31-9e4e-a09adfa55148",
   "metadata": {},
   "outputs": [],
   "source": [
    "numbers[0]=1000"
   ]
  },
  {
   "cell_type": "code",
   "execution_count": 61,
   "id": "eb23c7e9-20f5-4e51-a667-77feaf2689ae",
   "metadata": {},
   "outputs": [
    {
     "data": {
      "text/plain": [
       "[1000, 81, 52, 15, 8, 8, 5, 5, 5, 4, 4, 4, 4]"
      ]
     },
     "execution_count": 61,
     "metadata": {},
     "output_type": "execute_result"
    }
   ],
   "source": [
    "numbers"
   ]
  },
  {
   "cell_type": "code",
   "execution_count": 71,
   "id": "a45dd47b-83fb-4f7c-a91a-9df4c53992d3",
   "metadata": {},
   "outputs": [
    {
     "data": {
      "text/plain": [
       "'COPIAR LISTA'"
      ]
     },
     "execution_count": 71,
     "metadata": {},
     "output_type": "execute_result"
    }
   ],
   "source": [
    "\"COPIAR LISTA\""
   ]
  },
  {
   "cell_type": "code",
   "execution_count": 72,
   "id": "0aa01dc0-b763-4f7e-be6f-510231a67463",
   "metadata": {},
   "outputs": [],
   "source": [
    "countries.append('Argentina')"
   ]
  },
  {
   "cell_type": "code",
   "execution_count": 74,
   "id": "ca613978-9840-42d3-8209-1cdfd237a612",
   "metadata": {},
   "outputs": [],
   "source": [
    "newlistcopied=countries.copy()"
   ]
  },
  {
   "cell_type": "code",
   "execution_count": 76,
   "id": "b1976867-46fd-4e6f-b0ff-20bd1992fe7e",
   "metadata": {},
   "outputs": [
    {
     "data": {
      "text/plain": [
       "['China', 'Brazil', 'India', 'Argentina']"
      ]
     },
     "execution_count": 76,
     "metadata": {},
     "output_type": "execute_result"
    }
   ],
   "source": [
    "newlistcopied"
   ]
  },
  {
   "cell_type": "code",
   "execution_count": 77,
   "id": "8e50b6f6-c3bf-44fa-ab87-741a13f98158",
   "metadata": {},
   "outputs": [],
   "source": [
    "newlist2=countries[:]"
   ]
  },
  {
   "cell_type": "code",
   "execution_count": 78,
   "id": "5b7c9923-6205-486e-8a58-40179975e5b5",
   "metadata": {},
   "outputs": [
    {
     "data": {
      "text/plain": [
       "[['China', 'Brazil', 'India', 'Argentina'], ['UK', 'Alemania', 'Australia']]"
      ]
     },
     "execution_count": 78,
     "metadata": {},
     "output_type": "execute_result"
    }
   ],
   "source": [
    "newlist"
   ]
  },
  {
   "cell_type": "code",
   "execution_count": 79,
   "id": "5a59fef2-e948-46de-9a4b-d0492c95f422",
   "metadata": {},
   "outputs": [
    {
     "data": {
      "text/plain": [
       "['China', 'Brazil', 'India', 'Argentina']"
      ]
     },
     "execution_count": 79,
     "metadata": {},
     "output_type": "execute_result"
    }
   ],
   "source": [
    "newlist2"
   ]
  },
  {
   "cell_type": "code",
   "execution_count": null,
   "id": "4b9a3f42-49ac-4177-999a-e9a8fc7e81f4",
   "metadata": {},
   "outputs": [],
   "source": []
  }
 ],
 "metadata": {
  "kernelspec": {
   "display_name": "Python 3 (ipykernel)",
   "language": "python",
   "name": "python3"
  },
  "language_info": {
   "codemirror_mode": {
    "name": "ipython",
    "version": 3
   },
   "file_extension": ".py",
   "mimetype": "text/x-python",
   "name": "python",
   "nbconvert_exporter": "python",
   "pygments_lexer": "ipython3",
   "version": "3.10.9"
  }
 },
 "nbformat": 4,
 "nbformat_minor": 5
}
