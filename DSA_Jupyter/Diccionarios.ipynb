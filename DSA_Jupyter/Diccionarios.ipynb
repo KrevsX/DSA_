{
 "cells": [
  {
   "cell_type": "code",
   "execution_count": 5,
   "id": "82a5ccc8-6308-4166-96d6-7446e078ea20",
   "metadata": {
    "ExecuteTime": {
     "start_time": "2023-04-02T00:02:56.168667Z",
     "end_time": "2023-04-02T00:02:56.350553Z"
    }
   },
   "outputs": [],
   "source": [
    "dictionary={'key1': 'value1','key2':'value2'}"
   ]
  },
  {
   "cell_type": "code",
   "execution_count": 6,
   "id": "f357f375-f5c2-4666-bb9a-521d3b0e4a8a",
   "metadata": {
    "ExecuteTime": {
     "start_time": "2023-04-02T00:02:56.188654Z",
     "end_time": "2023-04-02T00:02:56.351553Z"
    }
   },
   "outputs": [],
   "source": [
    "data={'nombre':'RipVan', 'edad':28}"
   ]
  },
  {
   "cell_type": "code",
   "execution_count": 7,
   "id": "f7556107-077d-468b-ba87-e3955bb558cf",
   "metadata": {
    "ExecuteTime": {
     "start_time": "2023-04-02T00:02:56.208641Z",
     "end_time": "2023-04-02T00:02:56.362546Z"
    }
   },
   "outputs": [
    {
     "data": {
      "text/plain": "{'nombre': 'RipVan', 'edad': 28}"
     },
     "execution_count": 7,
     "metadata": {},
     "output_type": "execute_result"
    }
   ],
   "source": [
    "data"
   ]
  },
  {
   "cell_type": "code",
   "execution_count": 8,
   "id": "2782cf87-2b3e-4d5f-a16e-2dd6941b07d2",
   "metadata": {
    "ExecuteTime": {
     "start_time": "2023-04-02T00:02:56.219634Z",
     "end_time": "2023-04-02T00:02:56.362546Z"
    }
   },
   "outputs": [
    {
     "data": {
      "text/plain": "'RipVan'"
     },
     "execution_count": 8,
     "metadata": {},
     "output_type": "execute_result"
    }
   ],
   "source": [
    "data['nombre']"
   ]
  },
  {
   "cell_type": "code",
   "execution_count": 9,
   "id": "88e1a874-7691-43c6-ae53-0dabd0ae892f",
   "metadata": {
    "ExecuteTime": {
     "start_time": "2023-04-02T00:02:56.237624Z",
     "end_time": "2023-04-02T00:02:56.363544Z"
    }
   },
   "outputs": [
    {
     "data": {
      "text/plain": "dict_keys(['nombre', 'edad'])"
     },
     "execution_count": 9,
     "metadata": {},
     "output_type": "execute_result"
    }
   ],
   "source": [
    "data.keys()"
   ]
  },
  {
   "cell_type": "code",
   "execution_count": 10,
   "id": "6ff1184e-7a50-411e-8a09-7c8eb44e1833",
   "metadata": {
    "ExecuteTime": {
     "start_time": "2023-04-02T00:02:56.251615Z",
     "end_time": "2023-04-02T00:02:56.364545Z"
    }
   },
   "outputs": [
    {
     "data": {
      "text/plain": "dict_values(['RipVan', 28])"
     },
     "execution_count": 10,
     "metadata": {},
     "output_type": "execute_result"
    }
   ],
   "source": [
    "data.values()"
   ]
  },
  {
   "cell_type": "code",
   "execution_count": 11,
   "id": "503f593b-9396-4fba-af5a-2254257cee50",
   "metadata": {
    "ExecuteTime": {
     "start_time": "2023-04-02T00:02:56.283596Z",
     "end_time": "2023-04-02T00:02:56.365545Z"
    }
   },
   "outputs": [
    {
     "data": {
      "text/plain": "dict_items([('nombre', 'RipVan'), ('edad', 28)])"
     },
     "execution_count": 11,
     "metadata": {},
     "output_type": "execute_result"
    }
   ],
   "source": [
    "data.items()"
   ]
  },
  {
   "cell_type": "code",
   "execution_count": 12,
   "id": "2327629c-9ea7-4b8a-99e3-acd634184b1a",
   "metadata": {
    "ExecuteTime": {
     "start_time": "2023-04-02T00:02:56.298586Z",
     "end_time": "2023-04-02T00:02:56.365545Z"
    }
   },
   "outputs": [],
   "source": [
    "data['estatura']=1.7"
   ]
  },
  {
   "cell_type": "code",
   "execution_count": 13,
   "id": "e6d0ae46-e351-4c3d-bd25-cba4a203c1b9",
   "metadata": {
    "ExecuteTime": {
     "start_time": "2023-04-02T00:02:56.317575Z",
     "end_time": "2023-04-02T00:02:56.366544Z"
    }
   },
   "outputs": [
    {
     "data": {
      "text/plain": "{'nombre': 'RipVan', 'edad': 28, 'estatura': 1.7}"
     },
     "execution_count": 13,
     "metadata": {},
     "output_type": "execute_result"
    }
   ],
   "source": [
    "data"
   ]
  },
  {
   "cell_type": "code",
   "execution_count": 14,
   "id": "c29f3cfb-a0ef-4491-9123-7e3bf4227dd0",
   "metadata": {
    "ExecuteTime": {
     "start_time": "2023-04-02T00:02:56.329566Z",
     "end_time": "2023-04-02T00:02:56.394525Z"
    }
   },
   "outputs": [],
   "source": [
    "data.update({'estatura':1.8})"
   ]
  },
  {
   "cell_type": "code",
   "execution_count": 15,
   "id": "2355a49e-078d-48d3-b4b5-3b2b0a0d166e",
   "metadata": {
    "ExecuteTime": {
     "start_time": "2023-04-02T00:02:56.351553Z",
     "end_time": "2023-04-02T00:02:56.604394Z"
    }
   },
   "outputs": [
    {
     "data": {
      "text/plain": "{'nombre': 'RipVan', 'edad': 28, 'estatura': 1.8}"
     },
     "execution_count": 15,
     "metadata": {},
     "output_type": "execute_result"
    }
   ],
   "source": [
    "data"
   ]
  },
  {
   "cell_type": "code",
   "execution_count": 16,
   "id": "7ee46ade-de52-48cb-89aa-c4ae27103191",
   "metadata": {
    "ExecuteTime": {
     "start_time": "2023-04-02T00:02:56.378536Z",
     "end_time": "2023-04-02T00:02:56.616387Z"
    }
   },
   "outputs": [],
   "source": [
    "data.update({'estatura':2.5, 'lenguajes': ['Ingles', 'Espanol']})"
   ]
  },
  {
   "cell_type": "code",
   "execution_count": 17,
   "id": "3466ca9f-c96f-43ab-b219-6aba3d5380b5",
   "metadata": {
    "ExecuteTime": {
     "start_time": "2023-04-02T00:02:56.393527Z",
     "end_time": "2023-04-02T00:02:56.640372Z"
    }
   },
   "outputs": [
    {
     "data": {
      "text/plain": "{'nombre': 'RipVan',\n 'edad': 28,\n 'estatura': 2.5,\n 'lenguajes': ['Ingles', 'Espanol']}"
     },
     "execution_count": 17,
     "metadata": {},
     "output_type": "execute_result"
    }
   ],
   "source": [
    "data"
   ]
  },
  {
   "cell_type": "code",
   "execution_count": 18,
   "id": "20a968f1-3a0e-46d9-a274-46d1271ce46e",
   "metadata": {
    "ExecuteTime": {
     "start_time": "2023-04-02T00:02:56.413514Z",
     "end_time": "2023-04-02T00:02:56.641372Z"
    }
   },
   "outputs": [
    {
     "data": {
      "text/plain": "'COPIAR DICCIONARIOS'"
     },
     "execution_count": 18,
     "metadata": {},
     "output_type": "execute_result"
    }
   ],
   "source": [
    "\"COPIAR DICCIONARIOS\""
   ]
  },
  {
   "cell_type": "code",
   "execution_count": 19,
   "id": "8d8de806-d688-455e-be34-7258b1e8e00f",
   "metadata": {
    "ExecuteTime": {
     "start_time": "2023-04-02T00:02:56.447493Z",
     "end_time": "2023-04-02T00:02:56.642371Z"
    }
   },
   "outputs": [],
   "source": [
    "newdic=data.copy()"
   ]
  },
  {
   "cell_type": "code",
   "execution_count": 20,
   "id": "68401e7b-b328-4111-bb06-38216df5a55a",
   "metadata": {
    "ExecuteTime": {
     "start_time": "2023-04-02T00:02:56.475475Z",
     "end_time": "2023-04-02T00:02:56.643371Z"
    }
   },
   "outputs": [
    {
     "data": {
      "text/plain": "{'nombre': 'RipVan',\n 'edad': 28,\n 'estatura': 2.5,\n 'lenguajes': ['Ingles', 'Espanol']}"
     },
     "execution_count": 20,
     "metadata": {},
     "output_type": "execute_result"
    }
   ],
   "source": [
    "newdic"
   ]
  },
  {
   "cell_type": "code",
   "execution_count": 21,
   "id": "40c7e1ba-f52e-4b1a-8fb8-15efa7e08ab9",
   "metadata": {
    "ExecuteTime": {
     "start_time": "2023-04-02T00:02:56.490466Z",
     "end_time": "2023-04-02T00:02:56.672352Z"
    }
   },
   "outputs": [
    {
     "data": {
      "text/plain": "'ELIMINAR ELEMENTOS DICIONARIOS'"
     },
     "execution_count": 21,
     "metadata": {},
     "output_type": "execute_result"
    }
   ],
   "source": [
    "\"ELIMINAR ELEMENTOS DICIONARIOS\""
   ]
  },
  {
   "cell_type": "code",
   "execution_count": 22,
   "id": "59dce889-c60f-4cbd-940e-98e93e617001",
   "metadata": {
    "ExecuteTime": {
     "start_time": "2023-04-02T00:02:56.522446Z",
     "end_time": "2023-04-02T00:02:56.673352Z"
    }
   },
   "outputs": [
    {
     "data": {
      "text/plain": "2.5"
     },
     "execution_count": 22,
     "metadata": {},
     "output_type": "execute_result"
    }
   ],
   "source": [
    "data.pop('estatura')"
   ]
  },
  {
   "cell_type": "code",
   "execution_count": 23,
   "id": "787f4c2c-9d25-472a-a27f-d9fbddfa5421",
   "metadata": {
    "ExecuteTime": {
     "start_time": "2023-04-02T00:02:56.557425Z",
     "end_time": "2023-04-02T00:02:56.674351Z"
    }
   },
   "outputs": [
    {
     "data": {
      "text/plain": "{'nombre': 'RipVan', 'edad': 28, 'lenguajes': ['Ingles', 'Espanol']}"
     },
     "execution_count": 23,
     "metadata": {},
     "output_type": "execute_result"
    }
   ],
   "source": [
    "data"
   ]
  },
  {
   "cell_type": "code",
   "execution_count": 24,
   "id": "1da25d24-5d17-4227-907e-634b6588c502",
   "metadata": {
    "ExecuteTime": {
     "start_time": "2023-04-02T00:02:56.583408Z",
     "end_time": "2023-04-02T00:02:56.674351Z"
    }
   },
   "outputs": [],
   "source": [
    "del data['lenguajes']"
   ]
  },
  {
   "cell_type": "code",
   "execution_count": 25,
   "id": "aee037ac-08e7-4b77-8d30-98a2675d15a0",
   "metadata": {
    "ExecuteTime": {
     "start_time": "2023-04-02T00:02:56.602396Z",
     "end_time": "2023-04-02T00:02:56.675351Z"
    }
   },
   "outputs": [
    {
     "data": {
      "text/plain": "{'nombre': 'RipVan', 'edad': 28}"
     },
     "execution_count": 25,
     "metadata": {},
     "output_type": "execute_result"
    }
   ],
   "source": [
    "data"
   ]
  },
  {
   "cell_type": "code",
   "execution_count": 26,
   "id": "07599ae5-f0ea-4c72-8b89-f7263cfd0148",
   "metadata": {
    "ExecuteTime": {
     "start_time": "2023-04-02T00:02:56.615387Z",
     "end_time": "2023-04-02T00:02:56.863235Z"
    }
   },
   "outputs": [],
   "source": [
    "data.clear()"
   ]
  },
  {
   "cell_type": "code",
   "execution_count": 28,
   "id": "841a22c4-49d2-411e-b159-d90ce1abcc32",
   "metadata": {
    "ExecuteTime": {
     "start_time": "2023-04-02T00:03:01.779882Z",
     "end_time": "2023-04-02T00:03:01.815859Z"
    }
   },
   "outputs": [
    {
     "data": {
      "text/plain": "{}"
     },
     "execution_count": 28,
     "metadata": {},
     "output_type": "execute_result"
    }
   ],
   "source": [
    "data"
   ]
  }
 ],
 "metadata": {
  "kernelspec": {
   "display_name": "Python 3 (ipykernel)",
   "language": "python",
   "name": "python3"
  },
  "language_info": {
   "codemirror_mode": {
    "name": "ipython",
    "version": 3
   },
   "file_extension": ".py",
   "mimetype": "text/x-python",
   "name": "python",
   "nbconvert_exporter": "python",
   "pygments_lexer": "ipython3",
   "version": "3.10.9"
  }
 },
 "nbformat": 4,
 "nbformat_minor": 5
}
