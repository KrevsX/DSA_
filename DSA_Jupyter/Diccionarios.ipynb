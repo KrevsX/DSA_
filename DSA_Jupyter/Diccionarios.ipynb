{
 "cells": [
  {
   "cell_type": "code",
   "execution_count": 31,
   "id": "82a5ccc8-6308-4166-96d6-7446e078ea20",
   "metadata": {
    "ExecuteTime": {
     "start_time": "2023-04-08T17:02:53.692901Z",
     "end_time": "2023-04-08T17:02:53.735875Z"
    }
   },
   "outputs": [],
   "source": [
    "dictionary={'key1': 'value1','key2':'value2'}"
   ]
  },
  {
   "cell_type": "code",
   "execution_count": 32,
   "id": "f357f375-f5c2-4666-bb9a-521d3b0e4a8a",
   "metadata": {
    "ExecuteTime": {
     "start_time": "2023-04-08T17:02:53.747868Z",
     "end_time": "2023-04-08T17:02:53.789842Z"
    }
   },
   "outputs": [],
   "source": [
    "data={'nombre':'RipVan', 'edad':28}"
   ]
  },
  {
   "cell_type": "code",
   "execution_count": 33,
   "id": "f7556107-077d-468b-ba87-e3955bb558cf",
   "metadata": {
    "ExecuteTime": {
     "start_time": "2023-04-08T17:02:53.791841Z",
     "end_time": "2023-04-08T17:02:53.834813Z"
    }
   },
   "outputs": [
    {
     "data": {
      "text/plain": "{'nombre': 'RipVan', 'edad': 28}"
     },
     "execution_count": 33,
     "metadata": {},
     "output_type": "execute_result"
    }
   ],
   "source": [
    "data"
   ]
  },
  {
   "cell_type": "code",
   "execution_count": 34,
   "id": "2782cf87-2b3e-4d5f-a16e-2dd6941b07d2",
   "metadata": {
    "ExecuteTime": {
     "start_time": "2023-04-08T17:02:53.839810Z",
     "end_time": "2023-04-08T17:02:53.935750Z"
    }
   },
   "outputs": [
    {
     "data": {
      "text/plain": "'RipVan'"
     },
     "execution_count": 34,
     "metadata": {},
     "output_type": "execute_result"
    }
   ],
   "source": [
    "data['nombre']"
   ]
  },
  {
   "cell_type": "code",
   "execution_count": 35,
   "id": "88e1a874-7691-43c6-ae53-0dabd0ae892f",
   "metadata": {
    "ExecuteTime": {
     "start_time": "2023-04-08T17:02:53.886781Z",
     "end_time": "2023-04-08T17:02:53.937751Z"
    }
   },
   "outputs": [
    {
     "data": {
      "text/plain": "dict_keys(['nombre', 'edad'])"
     },
     "execution_count": 35,
     "metadata": {},
     "output_type": "execute_result"
    }
   ],
   "source": [
    "data.keys()"
   ]
  },
  {
   "cell_type": "code",
   "execution_count": 36,
   "id": "6ff1184e-7a50-411e-8a09-7c8eb44e1833",
   "metadata": {
    "ExecuteTime": {
     "start_time": "2023-04-08T17:02:53.938750Z",
     "end_time": "2023-04-08T17:02:54.036688Z"
    }
   },
   "outputs": [
    {
     "data": {
      "text/plain": "dict_values(['RipVan', 28])"
     },
     "execution_count": 36,
     "metadata": {},
     "output_type": "execute_result"
    }
   ],
   "source": [
    "data.values()"
   ]
  },
  {
   "cell_type": "code",
   "execution_count": 37,
   "id": "503f593b-9396-4fba-af5a-2254257cee50",
   "metadata": {
    "ExecuteTime": {
     "start_time": "2023-04-08T17:02:53.978724Z",
     "end_time": "2023-04-08T17:02:54.049680Z"
    }
   },
   "outputs": [
    {
     "data": {
      "text/plain": "dict_items([('nombre', 'RipVan'), ('edad', 28)])"
     },
     "execution_count": 37,
     "metadata": {},
     "output_type": "execute_result"
    }
   ],
   "source": [
    "data.items()"
   ]
  },
  {
   "cell_type": "code",
   "execution_count": 38,
   "id": "2327629c-9ea7-4b8a-99e3-acd634184b1a",
   "metadata": {
    "ExecuteTime": {
     "start_time": "2023-04-08T17:02:54.042685Z",
     "end_time": "2023-04-08T17:02:54.113642Z"
    }
   },
   "outputs": [],
   "source": [
    "data['estatura']=1.7"
   ]
  },
  {
   "cell_type": "code",
   "execution_count": 39,
   "id": "e6d0ae46-e351-4c3d-bd25-cba4a203c1b9",
   "metadata": {
    "ExecuteTime": {
     "start_time": "2023-04-08T17:02:54.092654Z",
     "end_time": "2023-04-08T17:02:54.139624Z"
    }
   },
   "outputs": [
    {
     "data": {
      "text/plain": "{'nombre': 'RipVan', 'edad': 28, 'estatura': 1.7}"
     },
     "execution_count": 39,
     "metadata": {},
     "output_type": "execute_result"
    }
   ],
   "source": [
    "data"
   ]
  },
  {
   "cell_type": "code",
   "execution_count": 40,
   "id": "c29f3cfb-a0ef-4491-9123-7e3bf4227dd0",
   "metadata": {
    "ExecuteTime": {
     "start_time": "2023-04-08T17:02:54.136626Z",
     "end_time": "2023-04-08T17:02:54.191591Z"
    }
   },
   "outputs": [],
   "source": [
    "data.update({'estatura':1.8})"
   ]
  },
  {
   "cell_type": "code",
   "execution_count": 41,
   "id": "2355a49e-078d-48d3-b4b5-3b2b0a0d166e",
   "metadata": {
    "ExecuteTime": {
     "start_time": "2023-04-08T17:02:54.164608Z",
     "end_time": "2023-04-08T17:02:54.222572Z"
    }
   },
   "outputs": [
    {
     "data": {
      "text/plain": "{'nombre': 'RipVan', 'edad': 28, 'estatura': 1.8}"
     },
     "execution_count": 41,
     "metadata": {},
     "output_type": "execute_result"
    }
   ],
   "source": [
    "data"
   ]
  },
  {
   "cell_type": "code",
   "execution_count": 42,
   "id": "7ee46ade-de52-48cb-89aa-c4ae27103191",
   "metadata": {
    "ExecuteTime": {
     "start_time": "2023-04-08T17:02:54.220574Z",
     "end_time": "2023-04-08T17:02:54.260548Z"
    }
   },
   "outputs": [],
   "source": [
    "data.update({'estatura':2.5, 'lenguajes': ['Ingles', 'Espanol']})"
   ]
  },
  {
   "cell_type": "code",
   "execution_count": 43,
   "id": "3466ca9f-c96f-43ab-b219-6aba3d5380b5",
   "metadata": {
    "ExecuteTime": {
     "start_time": "2023-04-08T17:02:54.254553Z",
     "end_time": "2023-04-08T17:02:54.281538Z"
    }
   },
   "outputs": [
    {
     "data": {
      "text/plain": "{'nombre': 'RipVan',\n 'edad': 28,\n 'estatura': 2.5,\n 'lenguajes': ['Ingles', 'Espanol']}"
     },
     "execution_count": 43,
     "metadata": {},
     "output_type": "execute_result"
    }
   ],
   "source": [
    "data"
   ]
  },
  {
   "cell_type": "code",
   "execution_count": 44,
   "id": "20a968f1-3a0e-46d9-a274-46d1271ce46e",
   "metadata": {
    "ExecuteTime": {
     "start_time": "2023-04-08T17:02:54.292529Z",
     "end_time": "2023-04-08T17:02:54.341498Z"
    }
   },
   "outputs": [
    {
     "data": {
      "text/plain": "'COPIAR DICCIONARIOS'"
     },
     "execution_count": 44,
     "metadata": {},
     "output_type": "execute_result"
    }
   ],
   "source": [
    "\"COPIAR DICCIONARIOS\""
   ]
  },
  {
   "cell_type": "code",
   "execution_count": 45,
   "id": "8d8de806-d688-455e-be34-7258b1e8e00f",
   "metadata": {
    "ExecuteTime": {
     "start_time": "2023-04-08T17:02:54.304521Z",
     "end_time": "2023-04-08T17:02:54.342497Z"
    }
   },
   "outputs": [],
   "source": [
    "newdic=data.copy()"
   ]
  },
  {
   "cell_type": "code",
   "execution_count": 46,
   "id": "68401e7b-b328-4111-bb06-38216df5a55a",
   "metadata": {
    "ExecuteTime": {
     "start_time": "2023-04-08T17:02:54.340499Z",
     "end_time": "2023-04-08T17:02:54.413454Z"
    }
   },
   "outputs": [
    {
     "data": {
      "text/plain": "{'nombre': 'RipVan',\n 'edad': 28,\n 'estatura': 2.5,\n 'lenguajes': ['Ingles', 'Espanol']}"
     },
     "execution_count": 46,
     "metadata": {},
     "output_type": "execute_result"
    }
   ],
   "source": [
    "newdic"
   ]
  },
  {
   "cell_type": "code",
   "execution_count": 47,
   "id": "40c7e1ba-f52e-4b1a-8fb8-15efa7e08ab9",
   "metadata": {
    "ExecuteTime": {
     "start_time": "2023-04-08T17:02:54.383472Z",
     "end_time": "2023-04-08T17:02:54.415454Z"
    }
   },
   "outputs": [
    {
     "data": {
      "text/plain": "'ELIMINAR ELEMENTOS DICIONARIOS'"
     },
     "execution_count": 47,
     "metadata": {},
     "output_type": "execute_result"
    }
   ],
   "source": [
    "\"ELIMINAR ELEMENTOS DICIONARIOS\""
   ]
  },
  {
   "cell_type": "code",
   "execution_count": 48,
   "id": "59dce889-c60f-4cbd-940e-98e93e617001",
   "metadata": {
    "ExecuteTime": {
     "start_time": "2023-04-08T17:02:54.422447Z",
     "end_time": "2023-04-08T17:02:54.495402Z"
    }
   },
   "outputs": [
    {
     "data": {
      "text/plain": "2.5"
     },
     "execution_count": 48,
     "metadata": {},
     "output_type": "execute_result"
    }
   ],
   "source": [
    "data.pop('estatura')"
   ]
  },
  {
   "cell_type": "code",
   "execution_count": 49,
   "id": "787f4c2c-9d25-472a-a27f-d9fbddfa5421",
   "metadata": {
    "ExecuteTime": {
     "start_time": "2023-04-08T17:02:54.468418Z",
     "end_time": "2023-04-08T17:02:54.496403Z"
    }
   },
   "outputs": [
    {
     "data": {
      "text/plain": "{'nombre': 'RipVan', 'edad': 28, 'lenguajes': ['Ingles', 'Espanol']}"
     },
     "execution_count": 49,
     "metadata": {},
     "output_type": "execute_result"
    }
   ],
   "source": [
    "data"
   ]
  },
  {
   "cell_type": "code",
   "execution_count": 50,
   "id": "1da25d24-5d17-4227-907e-634b6588c502",
   "metadata": {
    "ExecuteTime": {
     "start_time": "2023-04-08T17:02:54.499401Z",
     "end_time": "2023-04-08T17:02:54.590344Z"
    }
   },
   "outputs": [],
   "source": [
    "del data['lenguajes']"
   ]
  },
  {
   "cell_type": "code",
   "execution_count": 51,
   "id": "aee037ac-08e7-4b77-8d30-98a2675d15a0",
   "metadata": {
    "ExecuteTime": {
     "start_time": "2023-04-08T17:02:54.523384Z",
     "end_time": "2023-04-08T17:02:54.600338Z"
    }
   },
   "outputs": [
    {
     "data": {
      "text/plain": "{'nombre': 'RipVan', 'edad': 28}"
     },
     "execution_count": 51,
     "metadata": {},
     "output_type": "execute_result"
    }
   ],
   "source": [
    "data"
   ]
  },
  {
   "cell_type": "code",
   "execution_count": 52,
   "id": "07599ae5-f0ea-4c72-8b89-f7263cfd0148",
   "metadata": {
    "ExecuteTime": {
     "start_time": "2023-04-08T17:02:54.571355Z",
     "end_time": "2023-04-08T17:02:54.601336Z"
    }
   },
   "outputs": [],
   "source": [
    "data.clear()"
   ]
  },
  {
   "cell_type": "code",
   "execution_count": 53,
   "id": "841a22c4-49d2-411e-b159-d90ce1abcc32",
   "metadata": {
    "ExecuteTime": {
     "start_time": "2023-04-08T17:02:54.591343Z",
     "end_time": "2023-04-08T17:02:54.621324Z"
    }
   },
   "outputs": [
    {
     "data": {
      "text/plain": "{}"
     },
     "execution_count": 53,
     "metadata": {},
     "output_type": "execute_result"
    }
   ],
   "source": [
    "data"
   ]
  },
  {
   "cell_type": "code",
   "execution_count": 53,
   "outputs": [],
   "source": [],
   "metadata": {
    "collapsed": false,
    "ExecuteTime": {
     "start_time": "2023-04-08T17:02:54.607333Z",
     "end_time": "2023-04-08T17:02:54.673292Z"
    }
   }
  }
 ],
 "metadata": {
  "kernelspec": {
   "display_name": "Python 3 (ipykernel)",
   "language": "python",
   "name": "python3"
  },
  "language_info": {
   "codemirror_mode": {
    "name": "ipython",
    "version": 3
   },
   "file_extension": ".py",
   "mimetype": "text/x-python",
   "name": "python",
   "nbconvert_exporter": "python",
   "pygments_lexer": "ipython3",
   "version": "3.10.9"
  }
 },
 "nbformat": 4,
 "nbformat_minor": 5
}
