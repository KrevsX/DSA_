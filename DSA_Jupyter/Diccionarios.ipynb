{
 "cells": [
  {
   "cell_type": "code",
   "execution_count": 32,
   "id": "82a5ccc8-6308-4166-96d6-7446e078ea20",
   "metadata": {
    "ExecuteTime": {
     "start_time": "2023-04-01T23:49:43.962488Z",
     "end_time": "2023-04-01T23:49:43.990472Z"
    }
   },
   "outputs": [],
   "source": [
    "dictionary={'key1': 'value1','key2':'value2'}"
   ]
  },
  {
   "cell_type": "code",
   "execution_count": 33,
   "id": "f357f375-f5c2-4666-bb9a-521d3b0e4a8a",
   "metadata": {
    "ExecuteTime": {
     "start_time": "2023-04-01T23:49:44.571798Z",
     "end_time": "2023-04-01T23:49:44.591785Z"
    }
   },
   "outputs": [],
   "source": [
    "data={'nombre':'RipVan', 'edad':28}"
   ]
  },
  {
   "cell_type": "code",
   "execution_count": 34,
   "id": "f7556107-077d-468b-ba87-e3955bb558cf",
   "metadata": {
    "ExecuteTime": {
     "start_time": "2023-04-01T23:49:44.893784Z",
     "end_time": "2023-04-01T23:49:44.911773Z"
    }
   },
   "outputs": [
    {
     "data": {
      "text/plain": "{'nombre': 'RipVan', 'edad': 28}"
     },
     "execution_count": 34,
     "metadata": {},
     "output_type": "execute_result"
    }
   ],
   "source": [
    "data"
   ]
  },
  {
   "cell_type": "code",
   "execution_count": 35,
   "id": "2782cf87-2b3e-4d5f-a16e-2dd6941b07d2",
   "metadata": {
    "ExecuteTime": {
     "start_time": "2023-04-01T23:49:45.080667Z",
     "end_time": "2023-04-01T23:49:45.108650Z"
    }
   },
   "outputs": [
    {
     "data": {
      "text/plain": "'RipVan'"
     },
     "execution_count": 35,
     "metadata": {},
     "output_type": "execute_result"
    }
   ],
   "source": [
    "data['nombre']"
   ]
  },
  {
   "cell_type": "code",
   "execution_count": 36,
   "id": "88e1a874-7691-43c6-ae53-0dabd0ae892f",
   "metadata": {
    "ExecuteTime": {
     "start_time": "2023-04-01T23:49:45.246564Z",
     "end_time": "2023-04-01T23:49:45.273547Z"
    }
   },
   "outputs": [
    {
     "data": {
      "text/plain": "dict_keys(['nombre', 'edad'])"
     },
     "execution_count": 36,
     "metadata": {},
     "output_type": "execute_result"
    }
   ],
   "source": [
    "data.keys()"
   ]
  },
  {
   "cell_type": "code",
   "execution_count": 37,
   "id": "6ff1184e-7a50-411e-8a09-7c8eb44e1833",
   "metadata": {
    "ExecuteTime": {
     "start_time": "2023-04-01T23:49:45.407464Z",
     "end_time": "2023-04-01T23:49:45.442443Z"
    }
   },
   "outputs": [
    {
     "data": {
      "text/plain": "dict_values(['RipVan', 28])"
     },
     "execution_count": 37,
     "metadata": {},
     "output_type": "execute_result"
    }
   ],
   "source": [
    "data.values()"
   ]
  },
  {
   "cell_type": "code",
   "execution_count": 38,
   "id": "503f593b-9396-4fba-af5a-2254257cee50",
   "metadata": {
    "ExecuteTime": {
     "start_time": "2023-04-01T23:49:45.559370Z",
     "end_time": "2023-04-01T23:49:45.582355Z"
    }
   },
   "outputs": [
    {
     "data": {
      "text/plain": "dict_items([('nombre', 'RipVan'), ('edad', 28)])"
     },
     "execution_count": 38,
     "metadata": {},
     "output_type": "execute_result"
    }
   ],
   "source": [
    "data.items()"
   ]
  },
  {
   "cell_type": "code",
   "execution_count": 39,
   "id": "2327629c-9ea7-4b8a-99e3-acd634184b1a",
   "metadata": {
    "ExecuteTime": {
     "start_time": "2023-04-01T23:49:45.705279Z",
     "end_time": "2023-04-01T23:49:46.079047Z"
    }
   },
   "outputs": [],
   "source": [
    "data['estatura']=1.7"
   ]
  },
  {
   "cell_type": "code",
   "execution_count": 40,
   "id": "e6d0ae46-e351-4c3d-bd25-cba4a203c1b9",
   "metadata": {
    "ExecuteTime": {
     "start_time": "2023-04-01T23:49:46.078047Z",
     "end_time": "2023-04-01T23:49:46.233950Z"
    }
   },
   "outputs": [
    {
     "data": {
      "text/plain": "{'nombre': 'RipVan', 'edad': 28, 'estatura': 1.7}"
     },
     "execution_count": 40,
     "metadata": {},
     "output_type": "execute_result"
    }
   ],
   "source": [
    "data"
   ]
  },
  {
   "cell_type": "code",
   "execution_count": 41,
   "id": "c29f3cfb-a0ef-4491-9123-7e3bf4227dd0",
   "metadata": {
    "ExecuteTime": {
     "start_time": "2023-04-01T23:49:46.133013Z",
     "end_time": "2023-04-01T23:49:46.238948Z"
    }
   },
   "outputs": [],
   "source": [
    "data.update({'estatura':1.8})"
   ]
  },
  {
   "cell_type": "code",
   "execution_count": 42,
   "id": "2355a49e-078d-48d3-b4b5-3b2b0a0d166e",
   "metadata": {
    "ExecuteTime": {
     "start_time": "2023-04-01T23:49:46.221957Z",
     "end_time": "2023-04-01T23:49:46.289916Z"
    }
   },
   "outputs": [
    {
     "data": {
      "text/plain": "{'nombre': 'RipVan', 'edad': 28, 'estatura': 1.8}"
     },
     "execution_count": 42,
     "metadata": {},
     "output_type": "execute_result"
    }
   ],
   "source": [
    "data"
   ]
  },
  {
   "cell_type": "code",
   "execution_count": 43,
   "id": "7ee46ade-de52-48cb-89aa-c4ae27103191",
   "metadata": {
    "ExecuteTime": {
     "start_time": "2023-04-01T23:49:46.372863Z",
     "end_time": "2023-04-01T23:49:46.421832Z"
    }
   },
   "outputs": [],
   "source": [
    "data.update({'estatura':2.5, 'lenguajes': ['Ingles', 'Espanol']})"
   ]
  },
  {
   "cell_type": "code",
   "execution_count": 44,
   "id": "3466ca9f-c96f-43ab-b219-6aba3d5380b5",
   "metadata": {
    "ExecuteTime": {
     "start_time": "2023-04-01T23:49:46.494788Z",
     "end_time": "2023-04-01T23:49:46.517774Z"
    }
   },
   "outputs": [
    {
     "data": {
      "text/plain": "{'nombre': 'RipVan',\n 'edad': 28,\n 'estatura': 2.5,\n 'lenguajes': ['Ingles', 'Espanol']}"
     },
     "execution_count": 44,
     "metadata": {},
     "output_type": "execute_result"
    }
   ],
   "source": [
    "data"
   ]
  },
  {
   "cell_type": "code",
   "execution_count": 45,
   "id": "20a968f1-3a0e-46d9-a274-46d1271ce46e",
   "metadata": {
    "ExecuteTime": {
     "start_time": "2023-04-01T23:49:46.632702Z",
     "end_time": "2023-04-01T23:49:46.677673Z"
    }
   },
   "outputs": [
    {
     "data": {
      "text/plain": "'COPIAR DICCIONARIOS'"
     },
     "execution_count": 45,
     "metadata": {},
     "output_type": "execute_result"
    }
   ],
   "source": [
    "\"COPIAR DICCIONARIOS\""
   ]
  },
  {
   "cell_type": "code",
   "execution_count": 46,
   "id": "8d8de806-d688-455e-be34-7258b1e8e00f",
   "metadata": {
    "ExecuteTime": {
     "start_time": "2023-04-01T23:49:46.901535Z",
     "end_time": "2023-04-01T23:49:46.931516Z"
    }
   },
   "outputs": [],
   "source": [
    "newdic=data.copy()"
   ]
  },
  {
   "cell_type": "code",
   "execution_count": 47,
   "id": "68401e7b-b328-4111-bb06-38216df5a55a",
   "metadata": {
    "ExecuteTime": {
     "start_time": "2023-04-01T23:49:46.977487Z",
     "end_time": "2023-04-01T23:49:47.014465Z"
    }
   },
   "outputs": [
    {
     "data": {
      "text/plain": "{'nombre': 'RipVan',\n 'edad': 28,\n 'estatura': 2.5,\n 'lenguajes': ['Ingles', 'Espanol']}"
     },
     "execution_count": 47,
     "metadata": {},
     "output_type": "execute_result"
    }
   ],
   "source": [
    "newdic"
   ]
  },
  {
   "cell_type": "code",
   "execution_count": 48,
   "id": "40c7e1ba-f52e-4b1a-8fb8-15efa7e08ab9",
   "metadata": {
    "ExecuteTime": {
     "start_time": "2023-04-01T23:49:47.252317Z",
     "end_time": "2023-04-01T23:49:47.333266Z"
    }
   },
   "outputs": [
    {
     "data": {
      "text/plain": "'ELIMINAR ELEMENTOS DICIONARIOS'"
     },
     "execution_count": 48,
     "metadata": {},
     "output_type": "execute_result"
    }
   ],
   "source": [
    "\"ELIMINAR ELEMENTOS DICIONARIOS\""
   ]
  },
  {
   "cell_type": "code",
   "execution_count": 49,
   "id": "59dce889-c60f-4cbd-940e-98e93e617001",
   "metadata": {
    "ExecuteTime": {
     "start_time": "2023-04-01T23:49:47.314278Z",
     "end_time": "2023-04-01T23:49:47.343261Z"
    }
   },
   "outputs": [
    {
     "data": {
      "text/plain": "2.5"
     },
     "execution_count": 49,
     "metadata": {},
     "output_type": "execute_result"
    }
   ],
   "source": [
    "data.pop('estatura')"
   ]
  },
  {
   "cell_type": "code",
   "execution_count": 50,
   "id": "787f4c2c-9d25-472a-a27f-d9fbddfa5421",
   "metadata": {
    "ExecuteTime": {
     "start_time": "2023-04-01T23:49:47.452192Z",
     "end_time": "2023-04-01T23:49:47.539138Z"
    }
   },
   "outputs": [
    {
     "data": {
      "text/plain": "{'nombre': 'RipVan', 'edad': 28, 'lenguajes': ['Ingles', 'Espanol']}"
     },
     "execution_count": 50,
     "metadata": {},
     "output_type": "execute_result"
    }
   ],
   "source": [
    "data"
   ]
  },
  {
   "cell_type": "code",
   "execution_count": 51,
   "id": "1da25d24-5d17-4227-907e-634b6588c502",
   "metadata": {
    "ExecuteTime": {
     "start_time": "2023-04-01T23:49:47.579115Z",
     "end_time": "2023-04-01T23:49:47.661063Z"
    }
   },
   "outputs": [],
   "source": [
    "del data['lenguajes']"
   ]
  },
  {
   "cell_type": "code",
   "execution_count": 52,
   "id": "aee037ac-08e7-4b77-8d30-98a2675d15a0",
   "metadata": {
    "ExecuteTime": {
     "start_time": "2023-04-01T23:49:47.809969Z",
     "end_time": "2023-04-01T23:49:47.823962Z"
    }
   },
   "outputs": [
    {
     "data": {
      "text/plain": "{'nombre': 'RipVan', 'edad': 28}"
     },
     "execution_count": 52,
     "metadata": {},
     "output_type": "execute_result"
    }
   ],
   "source": [
    "data"
   ]
  },
  {
   "cell_type": "code",
   "execution_count": 53,
   "id": "07599ae5-f0ea-4c72-8b89-f7263cfd0148",
   "metadata": {
    "ExecuteTime": {
     "start_time": "2023-04-01T23:49:48.085799Z",
     "end_time": "2023-04-01T23:49:48.172744Z"
    }
   },
   "outputs": [],
   "source": [
    "data.clear()"
   ]
  },
  {
   "cell_type": "code",
   "execution_count": 54,
   "id": "841a22c4-49d2-411e-b159-d90ce1abcc32",
   "metadata": {
    "ExecuteTime": {
     "start_time": "2023-04-01T23:49:48.135767Z",
     "end_time": "2023-04-01T23:49:48.187735Z"
    }
   },
   "outputs": [
    {
     "data": {
      "text/plain": "{}"
     },
     "execution_count": 54,
     "metadata": {},
     "output_type": "execute_result"
    }
   ],
   "source": [
    "data"
   ]
  },
  {
   "cell_type": "code",
   "execution_count": 55,
   "id": "36c1eb65-5f6e-4563-a0ca-d25b535c1976",
   "metadata": {
    "ExecuteTime": {
     "start_time": "2023-04-01T23:49:48.284675Z",
     "end_time": "2023-04-01T23:49:48.371620Z"
    }
   },
   "outputs": [
    {
     "data": {
      "text/plain": "{}"
     },
     "execution_count": 55,
     "metadata": {},
     "output_type": "execute_result"
    }
   ],
   "source": [
    "data"
   ]
  },
  {
   "cell_type": "code",
   "execution_count": 56,
   "outputs": [],
   "source": [
    "data.clear()"
   ],
   "metadata": {
    "collapsed": false,
    "ExecuteTime": {
     "start_time": "2023-04-01T23:49:48.435580Z",
     "end_time": "2023-04-01T23:49:48.465561Z"
    }
   }
  },
  {
   "cell_type": "code",
   "execution_count": 57,
   "outputs": [
    {
     "data": {
      "text/plain": "{}"
     },
     "execution_count": 57,
     "metadata": {},
     "output_type": "execute_result"
    }
   ],
   "source": [
    "data"
   ],
   "metadata": {
    "collapsed": false,
    "ExecuteTime": {
     "start_time": "2023-04-01T23:49:48.572496Z",
     "end_time": "2023-04-01T23:49:48.635455Z"
    }
   }
  },
  {
   "cell_type": "code",
   "execution_count": 58,
   "outputs": [
    {
     "data": {
      "text/plain": "{}"
     },
     "execution_count": 58,
     "metadata": {},
     "output_type": "execute_result"
    }
   ],
   "source": [
    "data"
   ],
   "metadata": {
    "collapsed": false,
    "ExecuteTime": {
     "start_time": "2023-04-01T23:50:01.438661Z",
     "end_time": "2023-04-01T23:50:01.484630Z"
    }
   }
  },
  {
   "cell_type": "code",
   "execution_count": 57,
   "outputs": [],
   "source": [],
   "metadata": {
    "collapsed": false,
    "ExecuteTime": {
     "start_time": "2023-04-01T23:49:48.745388Z",
     "end_time": "2023-04-01T23:49:48.811347Z"
    }
   }
  },
  {
   "cell_type": "code",
   "execution_count": 57,
   "outputs": [],
   "source": [],
   "metadata": {
    "collapsed": false,
    "ExecuteTime": {
     "start_time": "2023-04-01T23:49:48.968249Z",
     "end_time": "2023-04-01T23:49:49.005226Z"
    }
   }
  },
  {
   "cell_type": "code",
   "execution_count": null,
   "outputs": [],
   "source": [],
   "metadata": {
    "collapsed": false
   }
  }
 ],
 "metadata": {
  "kernelspec": {
   "display_name": "Python 3 (ipykernel)",
   "language": "python",
   "name": "python3"
  },
  "language_info": {
   "codemirror_mode": {
    "name": "ipython",
    "version": 3
   },
   "file_extension": ".py",
   "mimetype": "text/x-python",
   "name": "python",
   "nbconvert_exporter": "python",
   "pygments_lexer": "ipython3",
   "version": "3.10.9"
  }
 },
 "nbformat": 4,
 "nbformat_minor": 5
}
