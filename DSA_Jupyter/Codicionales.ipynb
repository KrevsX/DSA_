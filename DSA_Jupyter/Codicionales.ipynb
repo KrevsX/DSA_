{
 "cells": [
  {
   "cell_type": "code",
   "execution_count": 50,
   "id": "d70084bc-7238-44df-a498-78b43f079b64",
   "metadata": {
    "ExecuteTime": {
     "start_time": "2023-04-06T18:09:06.386853Z",
     "end_time": "2023-04-06T18:09:06.523767Z"
    }
   },
   "outputs": [],
   "source": [
    "edad = 18\n",
    "edad2= 15\n",
    "edad3 = 12\n"
   ]
  },
  {
   "cell_type": "code",
   "execution_count": 51,
   "outputs": [
    {
     "name": "stdout",
     "output_type": "stream",
     "text": [
      "ERES MAYOR DE EDAD..\n"
     ]
    }
   ],
   "source": [
    "if edad >=18:\n",
    "    print(\"ERES MAYOR DE EDAD..\")\n",
    "else:\n",
    "    print(\"ERES UN NINO...\")"
   ],
   "metadata": {
    "collapsed": false,
    "ExecuteTime": {
     "start_time": "2023-04-06T18:09:06.413836Z",
     "end_time": "2023-04-06T18:09:06.546755Z"
    }
   }
  },
  {
   "cell_type": "code",
   "execution_count": 52,
   "outputs": [
    {
     "name": "stdout",
     "output_type": "stream",
     "text": [
      "ERES UN ADOLOECENTE.....\n"
     ]
    }
   ],
   "source": [
    "if edad2 >=18:\n",
    "    print(\"ERES MAYOR DE EDAD..\")\n",
    "elif edad2 >=13:\n",
    "    print(\"ERES UN ADOLOECENTE.....\")\n",
    "else:\n",
    "    print(\"ERES UN NINO...\")"
   ],
   "metadata": {
    "collapsed": false,
    "ExecuteTime": {
     "start_time": "2023-04-06T18:09:06.430826Z",
     "end_time": "2023-04-06T18:09:06.546755Z"
    }
   }
  },
  {
   "cell_type": "code",
   "execution_count": 53,
   "outputs": [
    {
     "name": "stdout",
     "output_type": "stream",
     "text": [
      "ERES UN NINO...\n"
     ]
    }
   ],
   "source": [
    "if edad3 >=18:\n",
    "    print(\"ERES MAYOR DE EDAD..\")\n",
    "elif edad3 >=13:\n",
    "    print(\"ERES UN ADOLOECENTE.....\")\n",
    "else:\n",
    "    print(\"ERES UN NINO...\")"
   ],
   "metadata": {
    "collapsed": false,
    "ExecuteTime": {
     "start_time": "2023-04-06T18:09:06.440820Z",
     "end_time": "2023-04-06T18:09:06.546755Z"
    }
   }
  },
  {
   "cell_type": "code",
   "execution_count": 54,
   "outputs": [],
   "source": [
    "countries = ['United States','India','China','Brazil']"
   ],
   "metadata": {
    "collapsed": false,
    "ExecuteTime": {
     "start_time": "2023-04-06T18:09:06.472799Z",
     "end_time": "2023-04-06T18:09:06.546755Z"
    }
   }
  },
  {
   "cell_type": "markdown",
   "source": [],
   "metadata": {
    "collapsed": false
   }
  },
  {
   "cell_type": "code",
   "execution_count": 55,
   "outputs": [
    {
     "name": "stdout",
     "output_type": "stream",
     "text": [
      "ESTA EN LA LISTA\n"
     ]
    }
   ],
   "source": [
    "#CAMBIAR EL PAIS  PARA VERFICAR SI EXITE EN LA LISTA...\n",
    "if \"China\" in countries:\n",
    "    print(\"ESTA EN LA LISTA\")\n",
    "else:\n",
    "    print(\"NO ESTA EN LA LISTA\")"
   ],
   "metadata": {
    "collapsed": false,
    "ExecuteTime": {
     "start_time": "2023-04-06T18:09:06.490789Z",
     "end_time": "2023-04-06T18:09:06.547752Z"
    }
   }
  },
  {
   "cell_type": "code",
   "execution_count": 56,
   "outputs": [
    {
     "name": "stdout",
     "output_type": "stream",
     "text": [
      "NO ESTA EN LA LISTA\n"
     ]
    }
   ],
   "source": [
    "if \"Colombia\" in countries:\n",
    "    print(\"ESTA EN LA LISTA\")\n",
    "else:\n",
    "    print(\"NO ESTA EN LA LISTA\")"
   ],
   "metadata": {
    "collapsed": false,
    "ExecuteTime": {
     "start_time": "2023-04-06T18:09:06.505779Z",
     "end_time": "2023-04-06T18:09:06.548752Z"
    }
   }
  },
  {
   "cell_type": "code",
   "execution_count": 57,
   "outputs": [],
   "source": [
    "#FOR LOOP (BUCLE FOR)\n"
   ],
   "metadata": {
    "collapsed": false,
    "ExecuteTime": {
     "start_time": "2023-04-06T18:09:06.537760Z",
     "end_time": "2023-04-06T18:09:06.634699Z"
    }
   }
  },
  {
   "cell_type": "code",
   "execution_count": 58,
   "outputs": [
    {
     "name": "stdout",
     "output_type": "stream",
     "text": [
      "United States\n",
      "India\n",
      "China\n",
      "Brazil\n"
     ]
    }
   ],
   "source": [
    "for x in countries:\n",
    "    print(x)"
   ],
   "metadata": {
    "collapsed": false,
    "ExecuteTime": {
     "start_time": "2023-04-06T18:09:06.560745Z",
     "end_time": "2023-04-06T18:09:06.647690Z"
    }
   }
  },
  {
   "cell_type": "code",
   "execution_count": 59,
   "outputs": [
    {
     "name": "stdout",
     "output_type": "stream",
     "text": [
      "United States\n"
     ]
    }
   ],
   "source": [
    "for pais in countries:\n",
    "    if pais == \"United States\":\n",
    "        print(pais)"
   ],
   "metadata": {
    "collapsed": false,
    "ExecuteTime": {
     "start_time": "2023-04-06T18:09:06.584730Z",
     "end_time": "2023-04-06T18:09:06.698658Z"
    }
   }
  },
  {
   "cell_type": "code",
   "execution_count": 60,
   "outputs": [
    {
     "name": "stdout",
     "output_type": "stream",
     "text": [
      "0\n",
      "United States\n",
      "1\n",
      "India\n",
      "2\n",
      "China\n",
      "3\n",
      "Brazil\n"
     ]
    }
   ],
   "source": [
    "for number, pais in enumerate(countries):\n",
    "    print(number)\n",
    "    print(pais)"
   ],
   "metadata": {
    "collapsed": false,
    "ExecuteTime": {
     "start_time": "2023-04-06T18:09:06.614711Z",
     "end_time": "2023-04-06T18:09:06.698658Z"
    }
   }
  },
  {
   "cell_type": "code",
   "execution_count": 61,
   "outputs": [],
   "source": [
    "data = {'nombre':'RIPVAWINKLE','edad':28}"
   ],
   "metadata": {
    "collapsed": false,
    "ExecuteTime": {
     "start_time": "2023-04-06T18:09:06.631700Z",
     "end_time": "2023-04-06T18:09:06.699658Z"
    }
   }
  },
  {
   "cell_type": "code",
   "execution_count": 62,
   "outputs": [
    {
     "data": {
      "text/plain": "{'nombre': 'RIPVAWINKLE', 'edad': 28}"
     },
     "execution_count": 62,
     "metadata": {},
     "output_type": "execute_result"
    }
   ],
   "source": [
    "data"
   ],
   "metadata": {
    "collapsed": false,
    "ExecuteTime": {
     "start_time": "2023-04-06T18:09:06.646691Z",
     "end_time": "2023-04-06T18:09:06.795598Z"
    }
   }
  },
  {
   "cell_type": "code",
   "execution_count": 63,
   "outputs": [
    {
     "name": "stdout",
     "output_type": "stream",
     "text": [
      "nombre\n",
      "RIPVAWINKLE\n",
      "edad\n",
      "28\n"
     ]
    }
   ],
   "source": [
    "for key, value in data.items():\n",
    "    print(key)\n",
    "    print(value)"
   ],
   "metadata": {
    "collapsed": false,
    "ExecuteTime": {
     "start_time": "2023-04-06T18:09:06.667678Z",
     "end_time": "2023-04-06T18:09:06.812588Z"
    }
   }
  },
  {
   "cell_type": "code",
   "execution_count": 64,
   "outputs": [],
   "source": [
    "#FUNCIONES PRE-FABRICADAS"
   ],
   "metadata": {
    "collapsed": false,
    "ExecuteTime": {
     "start_time": "2023-04-06T18:09:06.677671Z",
     "end_time": "2023-04-06T18:09:06.812588Z"
    }
   }
  },
  {
   "cell_type": "code",
   "execution_count": 65,
   "outputs": [
    {
     "data": {
      "text/plain": "['United States', 'India', 'China', 'Brazil']"
     },
     "execution_count": 65,
     "metadata": {},
     "output_type": "execute_result"
    }
   ],
   "source": [
    "countries"
   ],
   "metadata": {
    "collapsed": false,
    "ExecuteTime": {
     "start_time": "2023-04-06T18:09:06.691664Z",
     "end_time": "2023-04-06T18:09:06.813587Z"
    }
   }
  },
  {
   "cell_type": "code",
   "execution_count": 66,
   "outputs": [
    {
     "data": {
      "text/plain": "4"
     },
     "execution_count": 66,
     "metadata": {},
     "output_type": "execute_result"
    }
   ],
   "source": [
    "len(countries)"
   ],
   "metadata": {
    "collapsed": false,
    "ExecuteTime": {
     "start_time": "2023-04-06T18:09:06.708654Z",
     "end_time": "2023-04-06T18:09:06.813587Z"
    }
   }
  },
  {
   "cell_type": "code",
   "execution_count": 67,
   "outputs": [
    {
     "data": {
      "text/plain": "84"
     },
     "execution_count": 67,
     "metadata": {},
     "output_type": "execute_result"
    }
   ],
   "source": [
    "max([16,15,52,11,10,54,84])"
   ],
   "metadata": {
    "collapsed": false,
    "ExecuteTime": {
     "start_time": "2023-04-06T18:09:06.724643Z",
     "end_time": "2023-04-06T18:09:06.814587Z"
    }
   }
  },
  {
   "cell_type": "code",
   "execution_count": 68,
   "outputs": [
    {
     "data": {
      "text/plain": "10"
     },
     "execution_count": 68,
     "metadata": {},
     "output_type": "execute_result"
    }
   ],
   "source": [
    "min([16,15,52,11,10,54,84])"
   ],
   "metadata": {
    "collapsed": false,
    "ExecuteTime": {
     "start_time": "2023-04-06T18:09:06.744630Z",
     "end_time": "2023-04-06T18:09:06.814587Z"
    }
   }
  },
  {
   "cell_type": "code",
   "execution_count": 69,
   "outputs": [
    {
     "data": {
      "text/plain": "list"
     },
     "execution_count": 69,
     "metadata": {},
     "output_type": "execute_result"
    }
   ],
   "source": [
    "type(countries)"
   ],
   "metadata": {
    "collapsed": false,
    "ExecuteTime": {
     "start_time": "2023-04-06T18:09:06.775612Z",
     "end_time": "2023-04-06T18:09:06.961495Z"
    }
   }
  },
  {
   "cell_type": "code",
   "execution_count": 70,
   "outputs": [
    {
     "data": {
      "text/plain": "dict"
     },
     "execution_count": 70,
     "metadata": {},
     "output_type": "execute_result"
    }
   ],
   "source": [
    "type(data)"
   ],
   "metadata": {
    "collapsed": false,
    "ExecuteTime": {
     "start_time": "2023-04-06T18:09:06.824581Z",
     "end_time": "2023-04-06T18:09:06.998472Z"
    }
   }
  },
  {
   "cell_type": "code",
   "execution_count": 71,
   "outputs": [
    {
     "data": {
      "text/plain": "2.33"
     },
     "execution_count": 71,
     "metadata": {},
     "output_type": "execute_result"
    }
   ],
   "source": [
    "round(2.333,2)"
   ],
   "metadata": {
    "collapsed": false,
    "ExecuteTime": {
     "start_time": "2023-04-06T18:09:06.860558Z",
     "end_time": "2023-04-06T18:09:07.009465Z"
    }
   }
  },
  {
   "cell_type": "code",
   "execution_count": 72,
   "outputs": [
    {
     "name": "stdout",
     "output_type": "stream",
     "text": [
      "1\n",
      "3\n",
      "5\n",
      "7\n",
      "9\n"
     ]
    }
   ],
   "source": [
    "for i in range(1,10,2):\n",
    "    print(i)"
   ],
   "metadata": {
    "collapsed": false,
    "ExecuteTime": {
     "start_time": "2023-04-06T18:09:06.882545Z",
     "end_time": "2023-04-06T18:09:07.010465Z"
    }
   }
  },
  {
   "cell_type": "code",
   "execution_count": 72,
   "outputs": [],
   "source": [],
   "metadata": {
    "collapsed": false,
    "ExecuteTime": {
     "start_time": "2023-04-06T18:09:06.898535Z",
     "end_time": "2023-04-06T18:09:07.010465Z"
    }
   }
  }
 ],
 "metadata": {
  "kernelspec": {
   "display_name": "Python 3 (ipykernel)",
   "language": "python",
   "name": "python3"
  },
  "language_info": {
   "codemirror_mode": {
    "name": "ipython",
    "version": 3
   },
   "file_extension": ".py",
   "mimetype": "text/x-python",
   "name": "python",
   "nbconvert_exporter": "python",
   "pygments_lexer": "ipython3",
   "version": "3.10.9"
  }
 },
 "nbformat": 4,
 "nbformat_minor": 5
}
