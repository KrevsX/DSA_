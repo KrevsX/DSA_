{
 "cells": [
  {
   "cell_type": "code",
   "execution_count": 17,
   "id": "d70084bc-7238-44df-a498-78b43f079b64",
   "metadata": {
    "ExecuteTime": {
     "start_time": "2023-04-02T00:29:42.099746Z",
     "end_time": "2023-04-02T00:29:42.125728Z"
    }
   },
   "outputs": [],
   "source": [
    "edad = 18\n",
    "edad2= 15\n",
    "edad3 = 12\n"
   ]
  },
  {
   "cell_type": "code",
   "execution_count": 18,
   "outputs": [
    {
     "name": "stdout",
     "output_type": "stream",
     "text": [
      "ERES MAYOR DE EDAD..\n"
     ]
    }
   ],
   "source": [
    "if edad >=18:\n",
    "    print(\"ERES MAYOR DE EDAD..\")\n",
    "else:\n",
    "    print(\"ERES UN NINO...\")"
   ],
   "metadata": {
    "collapsed": false,
    "ExecuteTime": {
     "start_time": "2023-04-02T00:29:42.120732Z",
     "end_time": "2023-04-02T00:29:42.147716Z"
    }
   }
  },
  {
   "cell_type": "code",
   "execution_count": 19,
   "outputs": [
    {
     "name": "stdout",
     "output_type": "stream",
     "text": [
      "ERES UN ADOLOECENTE.....\n"
     ]
    }
   ],
   "source": [
    "if edad2 >=18:\n",
    "    print(\"ERES MAYOR DE EDAD..\")\n",
    "elif edad2 >=13:\n",
    "    print(\"ERES UN ADOLOECENTE.....\")\n",
    "else:\n",
    "    print(\"ERES UN NINO...\")"
   ],
   "metadata": {
    "collapsed": false,
    "ExecuteTime": {
     "start_time": "2023-04-02T00:29:42.148714Z",
     "end_time": "2023-04-02T00:29:42.194685Z"
    }
   }
  },
  {
   "cell_type": "code",
   "execution_count": 21,
   "outputs": [
    {
     "name": "stdout",
     "output_type": "stream",
     "text": [
      "ERES UN NINO...\n"
     ]
    }
   ],
   "source": [
    "if edad3 >=18:\n",
    "    print(\"ERES MAYOR DE EDAD..\")\n",
    "elif edad3 >=13:\n",
    "    print(\"ERES UN ADOLOECENTE.....\")\n",
    "else:\n",
    "    print(\"ERES UN NINO...\")"
   ],
   "metadata": {
    "collapsed": false,
    "ExecuteTime": {
     "start_time": "2023-04-02T00:29:59.268895Z",
     "end_time": "2023-04-02T00:29:59.292879Z"
    }
   }
  },
  {
   "cell_type": "code",
   "execution_count": 22,
   "outputs": [],
   "source": [
    "countries = ['United States','India','China','Brazil']"
   ],
   "metadata": {
    "collapsed": false,
    "ExecuteTime": {
     "start_time": "2023-04-02T00:31:44.484238Z",
     "end_time": "2023-04-02T00:31:44.499227Z"
    }
   }
  },
  {
   "cell_type": "markdown",
   "source": [],
   "metadata": {
    "collapsed": false
   }
  },
  {
   "cell_type": "code",
   "execution_count": 25,
   "outputs": [
    {
     "name": "stdout",
     "output_type": "stream",
     "text": [
      "ESTA EN LA LISTA\n"
     ]
    }
   ],
   "source": [
    "#CAMBIAR EL PAIS  PARA VERFICAR SI EXITE EN LA LISTA...\n",
    "if \"China\" in countries:\n",
    "    print(\"ESTA EN LA LISTA\")\n",
    "else:\n",
    "    print(\"NO ESTA EN LA LISTA\")"
   ],
   "metadata": {
    "collapsed": false,
    "ExecuteTime": {
     "start_time": "2023-04-02T00:33:04.392823Z",
     "end_time": "2023-04-02T00:33:04.402814Z"
    }
   }
  },
  {
   "cell_type": "code",
   "execution_count": 26,
   "outputs": [
    {
     "name": "stdout",
     "output_type": "stream",
     "text": [
      "NO ESTA EN LA LISTA\n"
     ]
    }
   ],
   "source": [
    "if \"Colombia\" in countries:\n",
    "    print(\"ESTA EN LA LISTA\")\n",
    "else:\n",
    "    print(\"NO ESTA EN LA LISTA\")"
   ],
   "metadata": {
    "collapsed": false,
    "ExecuteTime": {
     "start_time": "2023-04-02T00:33:05.192894Z",
     "end_time": "2023-04-02T00:33:05.250856Z"
    }
   }
  },
  {
   "cell_type": "code",
   "execution_count": 27,
   "outputs": [],
   "source": [
    "#FOR LOOP (BUCLE FOR)\n"
   ],
   "metadata": {
    "collapsed": false,
    "ExecuteTime": {
     "start_time": "2023-04-02T00:35:09.581072Z",
     "end_time": "2023-04-02T00:35:09.596063Z"
    }
   }
  },
  {
   "cell_type": "code",
   "execution_count": 28,
   "outputs": [
    {
     "name": "stdout",
     "output_type": "stream",
     "text": [
      "United States\n",
      "India\n",
      "China\n",
      "Brazil\n"
     ]
    }
   ],
   "source": [
    "for x in countries:\n",
    "    print(x)"
   ],
   "metadata": {
    "collapsed": false,
    "ExecuteTime": {
     "start_time": "2023-04-02T00:35:47.413720Z",
     "end_time": "2023-04-02T00:35:47.442701Z"
    }
   }
  },
  {
   "cell_type": "code",
   "execution_count": 29,
   "outputs": [
    {
     "name": "stdout",
     "output_type": "stream",
     "text": [
      "United States\n"
     ]
    }
   ],
   "source": [
    "for pais in countries:\n",
    "    if pais == \"United States\":\n",
    "        print(pais)"
   ],
   "metadata": {
    "collapsed": false,
    "ExecuteTime": {
     "start_time": "2023-04-02T00:38:33.450593Z",
     "end_time": "2023-04-02T00:38:33.504560Z"
    }
   }
  },
  {
   "cell_type": "code",
   "execution_count": 30,
   "outputs": [
    {
     "name": "stdout",
     "output_type": "stream",
     "text": [
      "0\n",
      "United States\n",
      "1\n",
      "India\n",
      "2\n",
      "China\n",
      "3\n",
      "Brazil\n"
     ]
    }
   ],
   "source": [
    "for number, pais in enumerate(countries):\n",
    "    print(number)\n",
    "    print(pais)"
   ],
   "metadata": {
    "collapsed": false,
    "ExecuteTime": {
     "start_time": "2023-04-02T00:40:16.259182Z",
     "end_time": "2023-04-02T00:40:16.327138Z"
    }
   }
  },
  {
   "cell_type": "code",
   "execution_count": 31,
   "outputs": [],
   "source": [
    "data = {'nombre':'RIPVAWINKLE','edad':28}"
   ],
   "metadata": {
    "collapsed": false,
    "ExecuteTime": {
     "start_time": "2023-04-02T00:46:07.290387Z",
     "end_time": "2023-04-02T00:46:07.324365Z"
    }
   }
  },
  {
   "cell_type": "code",
   "execution_count": 32,
   "outputs": [
    {
     "data": {
      "text/plain": "{'nombre': 'RIPVAWINKLE', 'edad': 28}"
     },
     "execution_count": 32,
     "metadata": {},
     "output_type": "execute_result"
    }
   ],
   "source": [
    "data"
   ],
   "metadata": {
    "collapsed": false,
    "ExecuteTime": {
     "start_time": "2023-04-02T00:46:10.643104Z",
     "end_time": "2023-04-02T00:46:10.683078Z"
    }
   }
  },
  {
   "cell_type": "code",
   "execution_count": 34,
   "outputs": [
    {
     "name": "stdout",
     "output_type": "stream",
     "text": [
      "nombre\n",
      "RIPVAWINKLE\n",
      "edad\n",
      "28\n"
     ]
    }
   ],
   "source": [
    "for key, value in data.items():\n",
    "    print(key)\n",
    "    print(value)"
   ],
   "metadata": {
    "collapsed": false,
    "ExecuteTime": {
     "start_time": "2023-04-02T00:49:07.872908Z",
     "end_time": "2023-04-02T00:49:07.928871Z"
    }
   }
  },
  {
   "cell_type": "code",
   "execution_count": 35,
   "outputs": [],
   "source": [
    "#FUNCIONES PRE-FABRICADAS"
   ],
   "metadata": {
    "collapsed": false,
    "ExecuteTime": {
     "start_time": "2023-04-02T00:50:55.713160Z",
     "end_time": "2023-04-02T00:50:55.745139Z"
    }
   }
  },
  {
   "cell_type": "code",
   "execution_count": 36,
   "outputs": [
    {
     "data": {
      "text/plain": "['United States', 'India', 'China', 'Brazil']"
     },
     "execution_count": 36,
     "metadata": {},
     "output_type": "execute_result"
    }
   ],
   "source": [
    "countries"
   ],
   "metadata": {
    "collapsed": false,
    "ExecuteTime": {
     "start_time": "2023-04-02T00:51:02.228802Z",
     "end_time": "2023-04-02T00:51:02.283767Z"
    }
   }
  },
  {
   "cell_type": "code",
   "execution_count": 37,
   "outputs": [
    {
     "data": {
      "text/plain": "4"
     },
     "execution_count": 37,
     "metadata": {},
     "output_type": "execute_result"
    }
   ],
   "source": [
    "len(countries)"
   ],
   "metadata": {
    "collapsed": false,
    "ExecuteTime": {
     "start_time": "2023-04-02T00:51:09.694186Z",
     "end_time": "2023-04-02T00:51:09.746668Z"
    }
   }
  },
  {
   "cell_type": "code",
   "execution_count": 39,
   "outputs": [
    {
     "data": {
      "text/plain": "84"
     },
     "execution_count": 39,
     "metadata": {},
     "output_type": "execute_result"
    }
   ],
   "source": [
    "max([16,15,52,11,10,54,84])"
   ],
   "metadata": {
    "collapsed": false,
    "ExecuteTime": {
     "start_time": "2023-04-02T00:51:42.648810Z",
     "end_time": "2023-04-02T00:51:42.669796Z"
    }
   }
  },
  {
   "cell_type": "code",
   "execution_count": 40,
   "outputs": [
    {
     "data": {
      "text/plain": "10"
     },
     "execution_count": 40,
     "metadata": {},
     "output_type": "execute_result"
    }
   ],
   "source": [
    "min([16,15,52,11,10,54,84])"
   ],
   "metadata": {
    "collapsed": false,
    "ExecuteTime": {
     "start_time": "2023-04-02T00:52:02.374495Z",
     "end_time": "2023-04-02T00:52:02.400484Z"
    }
   }
  },
  {
   "cell_type": "code",
   "execution_count": 41,
   "outputs": [
    {
     "data": {
      "text/plain": "list"
     },
     "execution_count": 41,
     "metadata": {},
     "output_type": "execute_result"
    }
   ],
   "source": [
    "type(countries)"
   ],
   "metadata": {
    "collapsed": false,
    "ExecuteTime": {
     "start_time": "2023-04-02T00:52:36.782643Z",
     "end_time": "2023-04-02T00:52:36.839605Z"
    }
   }
  },
  {
   "cell_type": "code",
   "execution_count": 42,
   "outputs": [
    {
     "data": {
      "text/plain": "dict"
     },
     "execution_count": 42,
     "metadata": {},
     "output_type": "execute_result"
    }
   ],
   "source": [
    "type(data)"
   ],
   "metadata": {
    "collapsed": false,
    "ExecuteTime": {
     "start_time": "2023-04-02T00:52:44.946405Z",
     "end_time": "2023-04-02T00:52:44.977386Z"
    }
   }
  },
  {
   "cell_type": "code",
   "execution_count": 45,
   "outputs": [
    {
     "data": {
      "text/plain": "2.33"
     },
     "execution_count": 45,
     "metadata": {},
     "output_type": "execute_result"
    }
   ],
   "source": [
    "round(2.333,2)"
   ],
   "metadata": {
    "collapsed": false,
    "ExecuteTime": {
     "start_time": "2023-04-02T00:53:21.511400Z",
     "end_time": "2023-04-02T00:53:21.526390Z"
    }
   }
  },
  {
   "cell_type": "code",
   "execution_count": 49,
   "outputs": [
    {
     "name": "stdout",
     "output_type": "stream",
     "text": [
      "1\n",
      "3\n",
      "5\n",
      "7\n",
      "9\n"
     ]
    }
   ],
   "source": [
    "for i in range(1,10,2):\n",
    "    print(i)"
   ],
   "metadata": {
    "collapsed": false,
    "ExecuteTime": {
     "start_time": "2023-04-02T00:54:36.769516Z",
     "end_time": "2023-04-02T00:54:36.827478Z"
    }
   }
  },
  {
   "cell_type": "code",
   "execution_count": null,
   "outputs": [],
   "source": [],
   "metadata": {
    "collapsed": false
   }
  }
 ],
 "metadata": {
  "kernelspec": {
   "display_name": "Python 3 (ipykernel)",
   "language": "python",
   "name": "python3"
  },
  "language_info": {
   "codemirror_mode": {
    "name": "ipython",
    "version": 3
   },
   "file_extension": ".py",
   "mimetype": "text/x-python",
   "name": "python",
   "nbconvert_exporter": "python",
   "pygments_lexer": "ipython3",
   "version": "3.10.9"
  }
 },
 "nbformat": 4,
 "nbformat_minor": 5
}
